{
 "cells": [
  {
   "cell_type": "markdown",
   "metadata": {},
   "source": [
    "## Постановка Задачи\n",
    "\n",
    "Одна из проблем компании Booking — это нечестные отели, которые накручивают себе рейтинг. \\\n",
    "Одним из способов нахождения таких отелей является построение модели, которая предсказывает рейтинг отеля. \\\n",
    "Если предсказания модели сильно отличаются от фактического результата, то, возможно, отель играет нечестно, и его стоит проверить."
   ]
  },
  {
   "cell_type": "markdown",
   "metadata": {},
   "source": [
    "Данные содержат следующие столбцы:\n",
    "\n",
    "*   *hotel_address* — адрес отеля;\n",
    "*   *review_date* — дата, когда рецензент разместил соответствующий отзыв;\n",
    "*   *average_score* — средний балл отеля, рассчитанный на основе последнего комментария за последний год;\n",
    "*   *hotel_name* — название отеля;\n",
    "*   *reviewer_nationality* — национальность рецензента;\n",
    "*   *negative_review* — отрицательный отзыв, который рецензент дал отелю;\n",
    "*   *review_total_negative_word_counts* — общее количество слов в отрицательном отзыв;\n",
    "*   *positive_review* — положительный отзыв, который рецензент дал отелю;\n",
    "*   *review_total_positive_word_counts* — общее количество слов в положительном отзыве;\n",
    "*   *reviewer_score* — оценка, которую рецензент поставил отелю на основе своего опыта;\n",
    "*   *total_number_of_reviews_reviewer_has_given* — количество отзывов, которые рецензенты дали в прошлом;\n",
    "*   *total_number_of_reviews* — общее количество действительных отзывов об отеле;\n",
    "*   *tags* — теги, которые рецензент дал отелю;\n",
    "*   *days_since_review* — продолжительность между датой проверки и датой очистки;\n",
    "*   *additional_number_of_scoring* — есть также некоторые гости, которые просто поставили оценку сервису, а не оставили отзыв;\n",
    "*   *lat* — широта отеля;\n",
    "*   *lng* — долгота отеля.\n",
    "  \n",
    "Источник датасета: [\"[SF-DST] Booking Reviews\" (kaggle.com)](https://www.kaggle.com/competitions/sf-booking/data)"
   ]
  },
  {
   "cell_type": "code",
   "execution_count": 205,
   "metadata": {},
   "outputs": [],
   "source": [
    "#import the standard libraries\n",
    "import pandas as pd, numpy as np\n",
    "\n",
    "#import the library for expressions\n",
    "import re\n",
    "\n",
    "#import the library for geocoding \n",
    "from geopy.distance import geodesic\n",
    "from geopy.geocoders import Nominatim\n",
    "\n",
    "#import the library for sentiment analysis\n",
    "from vaderSentiment.vaderSentiment import SentimentIntensityAnalyzer\n",
    "\n",
    "#import the library for statistical testing\n",
    "import scipy.stats as stats\n",
    "import statsmodels.api as sm\n",
    "\n",
    "#import the library for visualization\n",
    "from matplotlib import pyplot as plt\n",
    "import plotly\n",
    "import plotly.express as px\n",
    "from plotly.subplots import make_subplots\n",
    "import plotly.graph_objects as go\n",
    "\n",
    "#import the library for encoding\n",
    "import category_encoders\n",
    "from sklearn import preprocessing\n",
    "from sklearn.preprocessing import TargetEncoder\n",
    "\n",
    "#import the library for spliting the data set\n",
    "from sklearn.model_selection import train_test_split\n",
    "\n",
    "#import the libraries for model testing\n",
    "from sklearn.ensemble import RandomForestRegressor\n",
    "from sklearn import metrics"
   ]
  },
  {
   "cell_type": "code",
   "execution_count": 206,
   "metadata": {},
   "outputs": [],
   "source": [
    "#set the file path\n",
    "DATA_DIR = '/Users/victoriavilicheva/Documents/PYTHON/BLOCK-3/PROJECT-3 - SUBMISSION/data'\n",
    "\n",
    "#import the data set\n",
    "train_hotels = pd.read_csv(DATA_DIR+'/hotels_train.csv')\n",
    "test_hotels = pd.read_csv(DATA_DIR+'/hotels_test.csv')\n",
    "sample_submission = pd.read_csv(DATA_DIR+'/submission.csv')"
   ]
  },
  {
   "cell_type": "code",
   "execution_count": 207,
   "metadata": {},
   "outputs": [],
   "source": [
    "#create a a new feature to differentiate between two data sets\n",
    "train_hotels['sample'] = 1\n",
    "test_hotels['sample'] = 0\n",
    "\n",
    "#score to be predicted thus set to 0\n",
    "test_hotels['reviewer_score'] = 0"
   ]
  },
  {
   "cell_type": "code",
   "execution_count": 208,
   "metadata": {},
   "outputs": [],
   "source": [
    "#concatenate train and test \n",
    "hotels_orig = pd.concat([train_hotels, test_hotels], ignore_index=True).reset_index(drop=True)"
   ]
  },
  {
   "cell_type": "code",
   "execution_count": 209,
   "metadata": {},
   "outputs": [
    {
     "data": {
      "text/html": [
       "<div>\n",
       "<style scoped>\n",
       "    .dataframe tbody tr th:only-of-type {\n",
       "        vertical-align: middle;\n",
       "    }\n",
       "\n",
       "    .dataframe tbody tr th {\n",
       "        vertical-align: top;\n",
       "    }\n",
       "\n",
       "    .dataframe thead th {\n",
       "        text-align: right;\n",
       "    }\n",
       "</style>\n",
       "<table border=\"1\" class=\"dataframe\">\n",
       "  <thead>\n",
       "    <tr style=\"text-align: right;\">\n",
       "      <th></th>\n",
       "      <th>hotel_address</th>\n",
       "      <th>additional_number_of_scoring</th>\n",
       "      <th>review_date</th>\n",
       "      <th>average_score</th>\n",
       "      <th>hotel_name</th>\n",
       "      <th>reviewer_nationality</th>\n",
       "      <th>negative_review</th>\n",
       "      <th>review_total_negative_word_counts</th>\n",
       "      <th>total_number_of_reviews</th>\n",
       "      <th>positive_review</th>\n",
       "      <th>review_total_positive_word_counts</th>\n",
       "      <th>total_number_of_reviews_reviewer_has_given</th>\n",
       "      <th>reviewer_score</th>\n",
       "      <th>tags</th>\n",
       "      <th>days_since_review</th>\n",
       "      <th>lat</th>\n",
       "      <th>lng</th>\n",
       "      <th>sample</th>\n",
       "    </tr>\n",
       "  </thead>\n",
       "  <tbody>\n",
       "    <tr>\n",
       "      <th>0</th>\n",
       "      <td>Stratton Street Mayfair Westminster Borough Lo...</td>\n",
       "      <td>581</td>\n",
       "      <td>2/19/2016</td>\n",
       "      <td>8.4</td>\n",
       "      <td>The May Fair Hotel</td>\n",
       "      <td>United Kingdom</td>\n",
       "      <td>Leaving</td>\n",
       "      <td>3</td>\n",
       "      <td>1994</td>\n",
       "      <td>Staff were amazing</td>\n",
       "      <td>4</td>\n",
       "      <td>7</td>\n",
       "      <td>10.0</td>\n",
       "      <td>[' Leisure trip ', ' Couple ', ' Studio Suite ...</td>\n",
       "      <td>531 day</td>\n",
       "      <td>51.507894</td>\n",
       "      <td>-0.143671</td>\n",
       "      <td>1</td>\n",
       "    </tr>\n",
       "    <tr>\n",
       "      <th>1</th>\n",
       "      <td>130 134 Southampton Row Camden London WC1B 5AF...</td>\n",
       "      <td>299</td>\n",
       "      <td>1/12/2017</td>\n",
       "      <td>8.3</td>\n",
       "      <td>Mercure London Bloomsbury Hotel</td>\n",
       "      <td>United Kingdom</td>\n",
       "      <td>poor breakfast</td>\n",
       "      <td>3</td>\n",
       "      <td>1361</td>\n",
       "      <td>location</td>\n",
       "      <td>2</td>\n",
       "      <td>14</td>\n",
       "      <td>6.3</td>\n",
       "      <td>[' Business trip ', ' Couple ', ' Standard Dou...</td>\n",
       "      <td>203 day</td>\n",
       "      <td>51.521009</td>\n",
       "      <td>-0.123097</td>\n",
       "      <td>1</td>\n",
       "    </tr>\n",
       "    <tr>\n",
       "      <th>2</th>\n",
       "      <td>151 bis Rue de Rennes 6th arr 75006 Paris France</td>\n",
       "      <td>32</td>\n",
       "      <td>10/18/2016</td>\n",
       "      <td>8.9</td>\n",
       "      <td>Legend Saint Germain by Elegancia</td>\n",
       "      <td>China</td>\n",
       "      <td>No kettle in room</td>\n",
       "      <td>6</td>\n",
       "      <td>406</td>\n",
       "      <td>No Positive</td>\n",
       "      <td>0</td>\n",
       "      <td>14</td>\n",
       "      <td>7.5</td>\n",
       "      <td>[' Leisure trip ', ' Solo traveler ', ' Modern...</td>\n",
       "      <td>289 day</td>\n",
       "      <td>48.845377</td>\n",
       "      <td>2.325643</td>\n",
       "      <td>1</td>\n",
       "    </tr>\n",
       "  </tbody>\n",
       "</table>\n",
       "</div>"
      ],
      "text/plain": [
       "                                       hotel_address  \\\n",
       "0  Stratton Street Mayfair Westminster Borough Lo...   \n",
       "1  130 134 Southampton Row Camden London WC1B 5AF...   \n",
       "2   151 bis Rue de Rennes 6th arr 75006 Paris France   \n",
       "\n",
       "   additional_number_of_scoring review_date  average_score  \\\n",
       "0                           581   2/19/2016            8.4   \n",
       "1                           299   1/12/2017            8.3   \n",
       "2                            32  10/18/2016            8.9   \n",
       "\n",
       "                          hotel_name reviewer_nationality  \\\n",
       "0                 The May Fair Hotel      United Kingdom    \n",
       "1    Mercure London Bloomsbury Hotel      United Kingdom    \n",
       "2  Legend Saint Germain by Elegancia               China    \n",
       "\n",
       "       negative_review  review_total_negative_word_counts  \\\n",
       "0             Leaving                                   3   \n",
       "1       poor breakfast                                  3   \n",
       "2   No kettle in room                                   6   \n",
       "\n",
       "   total_number_of_reviews      positive_review  \\\n",
       "0                     1994   Staff were amazing   \n",
       "1                     1361             location   \n",
       "2                      406          No Positive   \n",
       "\n",
       "   review_total_positive_word_counts  \\\n",
       "0                                  4   \n",
       "1                                  2   \n",
       "2                                  0   \n",
       "\n",
       "   total_number_of_reviews_reviewer_has_given  reviewer_score  \\\n",
       "0                                           7            10.0   \n",
       "1                                          14             6.3   \n",
       "2                                          14             7.5   \n",
       "\n",
       "                                                tags days_since_review  \\\n",
       "0  [' Leisure trip ', ' Couple ', ' Studio Suite ...           531 day   \n",
       "1  [' Business trip ', ' Couple ', ' Standard Dou...           203 day   \n",
       "2  [' Leisure trip ', ' Solo traveler ', ' Modern...           289 day   \n",
       "\n",
       "         lat       lng  sample  \n",
       "0  51.507894 -0.143671       1  \n",
       "1  51.521009 -0.123097       1  \n",
       "2  48.845377  2.325643       1  "
      ]
     },
     "execution_count": 209,
     "metadata": {},
     "output_type": "execute_result"
    }
   ],
   "source": [
    "#check the data set was imported correctly\n",
    "hotels_orig.head(3)"
   ]
  },
  {
   "cell_type": "markdown",
   "metadata": {},
   "source": [
    "### Описательный Анализ Данных"
   ]
  },
  {
   "cell_type": "code",
   "execution_count": 210,
   "metadata": {},
   "outputs": [
    {
     "name": "stdout",
     "output_type": "stream",
     "text": [
      "Размер таблицы: (515738, 18)\n"
     ]
    }
   ],
   "source": [
    "print(f'Размер таблицы: {hotels_orig.shape}')"
   ]
  },
  {
   "cell_type": "code",
   "execution_count": 211,
   "metadata": {},
   "outputs": [
    {
     "data": {
      "text/plain": [
       "['hotel_address',\n",
       " 'additional_number_of_scoring',\n",
       " 'review_date',\n",
       " 'average_score',\n",
       " 'hotel_name',\n",
       " 'reviewer_nationality',\n",
       " 'negative_review',\n",
       " 'review_total_negative_word_counts',\n",
       " 'total_number_of_reviews',\n",
       " 'positive_review',\n",
       " 'review_total_positive_word_counts',\n",
       " 'total_number_of_reviews_reviewer_has_given',\n",
       " 'reviewer_score',\n",
       " 'tags',\n",
       " 'days_since_review',\n",
       " 'lat',\n",
       " 'lng',\n",
       " 'sample']"
      ]
     },
     "execution_count": 211,
     "metadata": {},
     "output_type": "execute_result"
    }
   ],
   "source": [
    "#find the columns\n",
    "list(hotels_orig)"
   ]
  },
  {
   "cell_type": "code",
   "execution_count": 212,
   "metadata": {},
   "outputs": [
    {
     "name": "stdout",
     "output_type": "stream",
     "text": [
      "<class 'pandas.core.frame.DataFrame'>\n",
      "RangeIndex: 515738 entries, 0 to 515737\n",
      "Data columns (total 18 columns):\n",
      " #   Column                                      Non-Null Count   Dtype  \n",
      "---  ------                                      --------------   -----  \n",
      " 0   hotel_address                               515738 non-null  object \n",
      " 1   additional_number_of_scoring                515738 non-null  int64  \n",
      " 2   review_date                                 515738 non-null  object \n",
      " 3   average_score                               515738 non-null  float64\n",
      " 4   hotel_name                                  515738 non-null  object \n",
      " 5   reviewer_nationality                        515738 non-null  object \n",
      " 6   negative_review                             515738 non-null  object \n",
      " 7   review_total_negative_word_counts           515738 non-null  int64  \n",
      " 8   total_number_of_reviews                     515738 non-null  int64  \n",
      " 9   positive_review                             515738 non-null  object \n",
      " 10  review_total_positive_word_counts           515738 non-null  int64  \n",
      " 11  total_number_of_reviews_reviewer_has_given  515738 non-null  int64  \n",
      " 12  reviewer_score                              515738 non-null  float64\n",
      " 13  tags                                        515738 non-null  object \n",
      " 14  days_since_review                           515738 non-null  object \n",
      " 15  lat                                         512470 non-null  float64\n",
      " 16  lng                                         512470 non-null  float64\n",
      " 17  sample                                      515738 non-null  int64  \n",
      "dtypes: float64(4), int64(6), object(8)\n",
      "memory usage: 70.8+ MB\n"
     ]
    }
   ],
   "source": [
    "#basic information about the data set\n",
    "hotels_orig.info()"
   ]
  },
  {
   "cell_type": "markdown",
   "metadata": {},
   "source": [
    "### Преобразование Данных"
   ]
  },
  {
   "cell_type": "markdown",
   "metadata": {},
   "source": [
    "Проверим данные на наличие пропусков:"
   ]
  },
  {
   "cell_type": "code",
   "execution_count": 213,
   "metadata": {},
   "outputs": [
    {
     "data": {
      "text/plain": [
       "lat    3268\n",
       "lng    3268\n",
       "dtype: int64"
      ]
     },
     "execution_count": 213,
     "metadata": {},
     "output_type": "execute_result"
    }
   ],
   "source": [
    "#check that there are no null values in the data set\n",
    "hotels_orig.isnull().sum()[hotels_orig.isnull().sum() > 0]"
   ]
  },
  {
   "cell_type": "code",
   "execution_count": 214,
   "metadata": {},
   "outputs": [],
   "source": [
    "#fill the null values with 0\n",
    "hotels_orig['lat'] = hotels_orig['lat'].fillna(0)\n",
    "hotels_orig['lng'] = hotels_orig['lng'].fillna(0)"
   ]
  },
  {
   "cell_type": "markdown",
   "metadata": {},
   "source": [
    "Не работаем с дубликатами, так как *ValueError: length of values does not match length of index*."
   ]
  },
  {
   "cell_type": "markdown",
   "metadata": {},
   "source": [
    "##### Создание новых признаков - city и country:"
   ]
  },
  {
   "cell_type": "code",
   "execution_count": 215,
   "metadata": {},
   "outputs": [],
   "source": [
    "#create a column with elements separated\n",
    "hotels_orig['separate_address'] = hotels_orig['hotel_address'].str.split()"
   ]
  },
  {
   "cell_type": "code",
   "execution_count": 216,
   "metadata": {},
   "outputs": [],
   "source": [
    "#create a column taking the last element\n",
    "hotels_orig['one'] = hotels_orig['separate_address'].apply(lambda x: x[-1])"
   ]
  },
  {
   "cell_type": "code",
   "execution_count": 217,
   "metadata": {},
   "outputs": [
    {
     "data": {
      "text/plain": [
       "one\n",
       "Kingdom        262301\n",
       "Spain           60149\n",
       "France          59928\n",
       "Netherlands     57214\n",
       "Austria         38939\n",
       "Italy           37207\n",
       "Name: count, dtype: int64"
      ]
     },
     "execution_count": 217,
     "metadata": {},
     "output_type": "execute_result"
    }
   ],
   "source": [
    "#check that the result is a country name\n",
    "hotels_orig['one'].value_counts()"
   ]
  },
  {
   "cell_type": "code",
   "execution_count": 218,
   "metadata": {},
   "outputs": [],
   "source": [
    "#create a column taking the element for city\n",
    "hotels_orig['city'] = hotels_orig['separate_address'].apply(lambda x: x[-2] if (x[-1] != 'Kingdom') else x[-5])"
   ]
  },
  {
   "cell_type": "code",
   "execution_count": 219,
   "metadata": {},
   "outputs": [
    {
     "data": {
      "text/plain": [
       "city\n",
       "London       262301\n",
       "Barcelona     60149\n",
       "Paris         59928\n",
       "Amsterdam     57214\n",
       "Vienna        38939\n",
       "Milan         37207\n",
       "Name: count, dtype: int64"
      ]
     },
     "execution_count": 219,
     "metadata": {},
     "output_type": "execute_result"
    }
   ],
   "source": [
    "#check that the result is a city name\n",
    "hotels_orig['city'].value_counts()"
   ]
  },
  {
   "cell_type": "code",
   "execution_count": 220,
   "metadata": {},
   "outputs": [],
   "source": [
    "#create a function to fix the country\n",
    "def convert_country(x):\n",
    "    #complete the country name\n",
    "    if x['one'] == 'Kingdom':\n",
    "        return 'United Kingdom'\n",
    "    #for all other conditions\n",
    "    else:\n",
    "        return x['one']\n",
    "\n",
    "#create a new column by applying the function\n",
    "hotels_orig['country'] = hotels_orig.apply(convert_country, axis=1)"
   ]
  },
  {
   "cell_type": "markdown",
   "metadata": {},
   "source": [
    "##### Создание нового признака - citizen:"
   ]
  },
  {
   "cell_type": "markdown",
   "metadata": {},
   "source": [
    "Удаление пробелов в начале и конце:"
   ]
  },
  {
   "cell_type": "code",
   "execution_count": 221,
   "metadata": {},
   "outputs": [],
   "source": [
    "#the beginning of the string\n",
    "hotels_orig.reviewer_nationality = hotels_orig.reviewer_nationality.replace('^\\s+', '', regex=True)\n",
    "\n",
    "#the end of the string\n",
    "hotels_orig.reviewer_nationality = hotels_orig.reviewer_nationality.replace('\\s+$', '', regex=True)"
   ]
  },
  {
   "cell_type": "code",
   "execution_count": 222,
   "metadata": {},
   "outputs": [],
   "source": [
    "#create a function to find whether the reviewer is a citizen where the hotel is located\n",
    "def find_citizenship(x):\n",
    "    if x['country'] == x['reviewer_nationality']:\n",
    "        return 1\n",
    "    else:\n",
    "        return 0\n",
    "\n",
    "#create a new column by applying the function\n",
    "hotels_orig['citizen'] = hotels_orig.apply(find_citizenship, axis=1)"
   ]
  },
  {
   "cell_type": "markdown",
   "metadata": {},
   "source": [
    "Кодировка признаков - country и city:"
   ]
  },
  {
   "cell_type": "code",
   "execution_count": 223,
   "metadata": {},
   "outputs": [],
   "source": [
    "#categorise both country and city\n",
    "hotels_orig['country_code'] = hotels_orig['country'].astype('category').cat.codes\n",
    "hotels_orig['city_code'] = hotels_orig['country'].astype('category').cat.codes"
   ]
  },
  {
   "cell_type": "markdown",
   "metadata": {},
   "source": [
    "##### Кодировка признака - reviewer_nationality:"
   ]
  },
  {
   "cell_type": "code",
   "execution_count": 224,
   "metadata": {},
   "outputs": [
    {
     "data": {
      "text/plain": [
       "148"
      ]
     },
     "execution_count": 224,
     "metadata": {},
     "output_type": "execute_result"
    }
   ],
   "source": [
    "#check the citizenship of the reviewer\n",
    "hotels_orig['reviewer_nationality'].value_counts().nunique()"
   ]
  },
  {
   "cell_type": "code",
   "execution_count": 225,
   "metadata": {},
   "outputs": [
    {
     "data": {
      "text/plain": [
       "reviewer_nationality\n",
       "United Kingdom              47.55\n",
       "United States of America     6.87\n",
       "Australia                    4.20\n",
       "Ireland                      2.87\n",
       "United Arab Emirates         1.98\n",
       "Name: proportion, dtype: float64"
      ]
     },
     "execution_count": 225,
     "metadata": {},
     "output_type": "execute_result"
    }
   ],
   "source": [
    "#find top 50\n",
    "round(hotels_orig['reviewer_nationality'].value_counts(normalize=True).nlargest(50) * 100, 2)[:5]"
   ]
  },
  {
   "cell_type": "code",
   "execution_count": 226,
   "metadata": {},
   "outputs": [],
   "source": [
    "#engineer the feature to keep only top 50 known nationalities\n",
    "top_50 = hotels_orig['reviewer_nationality'].value_counts().nlargest(50).index\n",
    "hotels_orig['reviewer_nationality'] = hotels_orig['reviewer_nationality'].apply(lambda x: x if x in top_50 else 'Other')"
   ]
  },
  {
   "cell_type": "code",
   "execution_count": 227,
   "metadata": {},
   "outputs": [
    {
     "data": {
      "text/plain": [
       "reviewer_nationality\n",
       "United Kingdom              47.55\n",
       "United States of America     6.87\n",
       "Other                        5.09\n",
       "Australia                    4.20\n",
       "Ireland                      2.87\n",
       "Name: proportion, dtype: float64"
      ]
     },
     "execution_count": 227,
     "metadata": {},
     "output_type": "execute_result"
    }
   ],
   "source": [
    "#confirm the change\n",
    "round(hotels_orig['reviewer_nationality'].value_counts(normalize=True) * 100, 2)[:5]"
   ]
  },
  {
   "cell_type": "code",
   "execution_count": 228,
   "metadata": {},
   "outputs": [
    {
     "data": {
      "text/plain": [
       "51"
      ]
     },
     "execution_count": 228,
     "metadata": {},
     "output_type": "execute_result"
    }
   ],
   "source": [
    "#categorise reviewer nationality\n",
    "hotels_orig['reviewer_nationality_code'] = hotels_orig['reviewer_nationality'].astype('category').cat.codes\n",
    "\n",
    "#confirm the result\n",
    "hotels_orig['reviewer_nationality_code'].value_counts().nunique()"
   ]
  },
  {
   "cell_type": "markdown",
   "metadata": {},
   "source": [
    "##### Создание нового признака - distance:"
   ]
  },
  {
   "cell_type": "markdown",
   "metadata": {},
   "source": [
    "Найти [координаты](https://www.latlong.net/place/london-uk-14153.html)"
   ]
  },
  {
   "cell_type": "code",
   "execution_count": 229,
   "metadata": {},
   "outputs": [
    {
     "data": {
      "text/html": [
       "<div>\n",
       "<style scoped>\n",
       "    .dataframe tbody tr th:only-of-type {\n",
       "        vertical-align: middle;\n",
       "    }\n",
       "\n",
       "    .dataframe tbody tr th {\n",
       "        vertical-align: top;\n",
       "    }\n",
       "\n",
       "    .dataframe thead th {\n",
       "        text-align: right;\n",
       "    }\n",
       "</style>\n",
       "<table border=\"1\" class=\"dataframe\">\n",
       "  <thead>\n",
       "    <tr style=\"text-align: right;\">\n",
       "      <th></th>\n",
       "      <th>city</th>\n",
       "      <th>ctr_lat</th>\n",
       "      <th>ctr_lng</th>\n",
       "    </tr>\n",
       "  </thead>\n",
       "  <tbody>\n",
       "    <tr>\n",
       "      <th>0</th>\n",
       "      <td>London</td>\n",
       "      <td>51.509865</td>\n",
       "      <td>-0.118092</td>\n",
       "    </tr>\n",
       "    <tr>\n",
       "      <th>1</th>\n",
       "      <td>Barcelona</td>\n",
       "      <td>41.390205</td>\n",
       "      <td>2.154007</td>\n",
       "    </tr>\n",
       "    <tr>\n",
       "      <th>2</th>\n",
       "      <td>Paris</td>\n",
       "      <td>48.864716</td>\n",
       "      <td>2.349014</td>\n",
       "    </tr>\n",
       "    <tr>\n",
       "      <th>3</th>\n",
       "      <td>Amsterdam</td>\n",
       "      <td>52.377956</td>\n",
       "      <td>4.897070</td>\n",
       "    </tr>\n",
       "    <tr>\n",
       "      <th>4</th>\n",
       "      <td>Vienna</td>\n",
       "      <td>48.210033</td>\n",
       "      <td>16.363449</td>\n",
       "    </tr>\n",
       "    <tr>\n",
       "      <th>5</th>\n",
       "      <td>Milan</td>\n",
       "      <td>45.464664</td>\n",
       "      <td>9.188540</td>\n",
       "    </tr>\n",
       "  </tbody>\n",
       "</table>\n",
       "</div>"
      ],
      "text/plain": [
       "        city    ctr_lat    ctr_lng\n",
       "0     London  51.509865  -0.118092\n",
       "1  Barcelona  41.390205   2.154007\n",
       "2      Paris  48.864716   2.349014\n",
       "3  Amsterdam  52.377956   4.897070\n",
       "4     Vienna  48.210033  16.363449\n",
       "5      Milan  45.464664   9.188540"
      ]
     },
     "execution_count": 229,
     "metadata": {},
     "output_type": "execute_result"
    }
   ],
   "source": [
    "#create a new dataframe with centre location coordinates of major cities\n",
    "city_centre_coordinates = pd.DataFrame({\n",
    "    'city': ['London', 'Barcelona', 'Paris', 'Amsterdam', 'Vienna', 'Milan'],\n",
    "    'ctr_lat': [51.509865, 41.390205, 48.864716, 52.377956, 48.210033, 45.464664],\n",
    "    'ctr_lng': [-0.118092, 2.154007, 2.349014, 4.897070, 16.363449, 9.188540]\n",
    "})\n",
    "city_centre_coordinates"
   ]
  },
  {
   "cell_type": "code",
   "execution_count": 230,
   "metadata": {},
   "outputs": [
    {
     "data": {
      "text/html": [
       "<div>\n",
       "<style scoped>\n",
       "    .dataframe tbody tr th:only-of-type {\n",
       "        vertical-align: middle;\n",
       "    }\n",
       "\n",
       "    .dataframe tbody tr th {\n",
       "        vertical-align: top;\n",
       "    }\n",
       "\n",
       "    .dataframe thead th {\n",
       "        text-align: right;\n",
       "    }\n",
       "</style>\n",
       "<table border=\"1\" class=\"dataframe\">\n",
       "  <thead>\n",
       "    <tr style=\"text-align: right;\">\n",
       "      <th></th>\n",
       "      <th>hotel_address</th>\n",
       "      <th>additional_number_of_scoring</th>\n",
       "      <th>review_date</th>\n",
       "      <th>average_score</th>\n",
       "      <th>hotel_name</th>\n",
       "      <th>reviewer_nationality</th>\n",
       "      <th>negative_review</th>\n",
       "      <th>review_total_negative_word_counts</th>\n",
       "      <th>total_number_of_reviews</th>\n",
       "      <th>positive_review</th>\n",
       "      <th>...</th>\n",
       "      <th>separate_address</th>\n",
       "      <th>one</th>\n",
       "      <th>city</th>\n",
       "      <th>country</th>\n",
       "      <th>citizen</th>\n",
       "      <th>country_code</th>\n",
       "      <th>city_code</th>\n",
       "      <th>reviewer_nationality_code</th>\n",
       "      <th>ctr_lat</th>\n",
       "      <th>ctr_lng</th>\n",
       "    </tr>\n",
       "  </thead>\n",
       "  <tbody>\n",
       "    <tr>\n",
       "      <th>0</th>\n",
       "      <td>Stratton Street Mayfair Westminster Borough Lo...</td>\n",
       "      <td>581</td>\n",
       "      <td>2/19/2016</td>\n",
       "      <td>8.4</td>\n",
       "      <td>The May Fair Hotel</td>\n",
       "      <td>United Kingdom</td>\n",
       "      <td>Leaving</td>\n",
       "      <td>3</td>\n",
       "      <td>1994</td>\n",
       "      <td>Staff were amazing</td>\n",
       "      <td>...</td>\n",
       "      <td>[Stratton, Street, Mayfair, Westminster, Borou...</td>\n",
       "      <td>Kingdom</td>\n",
       "      <td>London</td>\n",
       "      <td>United Kingdom</td>\n",
       "      <td>1</td>\n",
       "      <td>5</td>\n",
       "      <td>5</td>\n",
       "      <td>49</td>\n",
       "      <td>51.509865</td>\n",
       "      <td>-0.118092</td>\n",
       "    </tr>\n",
       "    <tr>\n",
       "      <th>1</th>\n",
       "      <td>130 134 Southampton Row Camden London WC1B 5AF...</td>\n",
       "      <td>299</td>\n",
       "      <td>1/12/2017</td>\n",
       "      <td>8.3</td>\n",
       "      <td>Mercure London Bloomsbury Hotel</td>\n",
       "      <td>United Kingdom</td>\n",
       "      <td>poor breakfast</td>\n",
       "      <td>3</td>\n",
       "      <td>1361</td>\n",
       "      <td>location</td>\n",
       "      <td>...</td>\n",
       "      <td>[130, 134, Southampton, Row, Camden, London, W...</td>\n",
       "      <td>Kingdom</td>\n",
       "      <td>London</td>\n",
       "      <td>United Kingdom</td>\n",
       "      <td>1</td>\n",
       "      <td>5</td>\n",
       "      <td>5</td>\n",
       "      <td>49</td>\n",
       "      <td>51.509865</td>\n",
       "      <td>-0.118092</td>\n",
       "    </tr>\n",
       "  </tbody>\n",
       "</table>\n",
       "<p>2 rows × 28 columns</p>\n",
       "</div>"
      ],
      "text/plain": [
       "                                       hotel_address  \\\n",
       "0  Stratton Street Mayfair Westminster Borough Lo...   \n",
       "1  130 134 Southampton Row Camden London WC1B 5AF...   \n",
       "\n",
       "   additional_number_of_scoring review_date  average_score  \\\n",
       "0                           581   2/19/2016            8.4   \n",
       "1                           299   1/12/2017            8.3   \n",
       "\n",
       "                        hotel_name reviewer_nationality  negative_review  \\\n",
       "0               The May Fair Hotel       United Kingdom         Leaving    \n",
       "1  Mercure London Bloomsbury Hotel       United Kingdom   poor breakfast   \n",
       "\n",
       "   review_total_negative_word_counts  total_number_of_reviews  \\\n",
       "0                                  3                     1994   \n",
       "1                                  3                     1361   \n",
       "\n",
       "       positive_review  ...  \\\n",
       "0   Staff were amazing  ...   \n",
       "1             location  ...   \n",
       "\n",
       "                                    separate_address      one    city  \\\n",
       "0  [Stratton, Street, Mayfair, Westminster, Borou...  Kingdom  London   \n",
       "1  [130, 134, Southampton, Row, Camden, London, W...  Kingdom  London   \n",
       "\n",
       "          country citizen  country_code  city_code  reviewer_nationality_code  \\\n",
       "0  United Kingdom       1             5          5                         49   \n",
       "1  United Kingdom       1             5          5                         49   \n",
       "\n",
       "     ctr_lat   ctr_lng  \n",
       "0  51.509865 -0.118092  \n",
       "1  51.509865 -0.118092  \n",
       "\n",
       "[2 rows x 28 columns]"
      ]
     },
     "execution_count": 230,
     "metadata": {},
     "output_type": "execute_result"
    }
   ],
   "source": [
    "#merge two dataframes together\n",
    "hotels_new = hotels_orig.merge(city_centre_coordinates,\n",
    "                               how='inner',\n",
    "                               on='city')\n",
    "\n",
    "hotels_new.head(2)"
   ]
  },
  {
   "cell_type": "code",
   "execution_count": 231,
   "metadata": {},
   "outputs": [
    {
     "name": "stdout",
     "output_type": "stream",
     "text": [
      "hotel_address                                                hotel_name                                      \n",
      "Josefst dter Stra e 10 12 08 Josefstadt 1080 Vienna Austria  Fleming s Selection Hotel Wien City                 658\n",
      "Taborstra e 8 A 02 Leopoldstadt 1020 Vienna Austria          Hotel City Central                                  563\n",
      "W hringer Stra e 33 35 09 Alsergrund 1090 Vienna Austria     Hotel Atlanta                                       389\n",
      "4 rue de la P pini re 8th arr 75008 Paris France             Maison Albar Hotel Paris Op ra Diamond              290\n",
      "Landstra er G rtel 5 03 Landstra e 1030 Vienna Austria       Hotel Daniel Vienna                                 245\n",
      "W hringer Stra e 12 09 Alsergrund 1090 Vienna Austria        Hotel Pension Baron am Schottentor                  223\n",
      "Savoyenstra e 2 16 Ottakring 1160 Vienna Austria             Austria Trend Hotel Schloss Wilhelminenberg Wien    194\n",
      "Sieveringer Stra e 4 19 D bling 1190 Vienna Austria          Derag Livinghotel Kaiser Franz Joseph Vienna        147\n",
      "Bail n 4 6 Eixample 08010 Barcelona Spain                    NH Collection Barcelona Podium                      146\n",
      "Gr nentorgasse 30 09 Alsergrund 1090 Vienna Austria          City Hotel Deutschmeister                            93\n",
      "Hasenauerstra e 12 19 D bling 1190 Vienna Austria            Hotel Park Villa                                     61\n",
      "Josefst dter Stra e 22 08 Josefstadt 1080 Vienna Austria     Cordial Theaterhotel Wien                            57\n",
      "23 Rue Damr mont 18th arr 75018 Paris France                 Holiday Inn Paris Montmartre                         55\n",
      "Paragonstra e 1 11 Simmering 1110 Vienna Austria             Roomz Vienna                                         49\n",
      "20 Rue De La Ga t 14th arr 75014 Paris France                Mercure Paris Gare Montparnasse                      37\n",
      "Pau Clar s 122 Eixample 08009 Barcelona Spain                Renaissance Barcelona Hotel                          33\n",
      "Sep lveda 180 Eixample 08011 Barcelona Spain                 Hotel Advance                                        28\n",
      "Name: count, dtype: int64\n",
      "\n",
      "3268\n"
     ]
    }
   ],
   "source": [
    "#find the outliers by the hotel address\n",
    "print(hotels_new[hotels_new['lat'] == 0][['hotel_address', 'hotel_name']].value_counts())\n",
    "print()\n",
    "\n",
    "print(hotels_new[hotels_new['lat'] == 0][['hotel_address', 'hotel_name']].value_counts().sum())"
   ]
  },
  {
   "cell_type": "code",
   "execution_count": 232,
   "metadata": {},
   "outputs": [
    {
     "data": {
      "text/html": [
       "<div>\n",
       "<style scoped>\n",
       "    .dataframe tbody tr th:only-of-type {\n",
       "        vertical-align: middle;\n",
       "    }\n",
       "\n",
       "    .dataframe tbody tr th {\n",
       "        vertical-align: top;\n",
       "    }\n",
       "\n",
       "    .dataframe thead th {\n",
       "        text-align: right;\n",
       "    }\n",
       "</style>\n",
       "<table border=\"1\" class=\"dataframe\">\n",
       "  <thead>\n",
       "    <tr style=\"text-align: right;\">\n",
       "      <th></th>\n",
       "      <th>hotel_address</th>\n",
       "      <th>separate_address</th>\n",
       "      <th>country</th>\n",
       "    </tr>\n",
       "  </thead>\n",
       "  <tbody>\n",
       "    <tr>\n",
       "      <th>122</th>\n",
       "      <td>Savoyenstra e 2 16 Ottakring 1160 Vienna Austria</td>\n",
       "      <td>[Savoyenstra, e, 2, 16, Ottakring, 1160, Vienn...</td>\n",
       "      <td>Austria</td>\n",
       "    </tr>\n",
       "    <tr>\n",
       "      <th>566</th>\n",
       "      <td>23 Rue Damr mont 18th arr 75018 Paris France</td>\n",
       "      <td>[23, Rue, Damr, mont, 18th, arr, 75018, Paris,...</td>\n",
       "      <td>France</td>\n",
       "    </tr>\n",
       "    <tr>\n",
       "      <th>724</th>\n",
       "      <td>Josefst dter Stra e 10 12 08 Josefstadt 1080 V...</td>\n",
       "      <td>[Josefst, dter, Stra, e, 10, 12, 08, Josefstad...</td>\n",
       "      <td>Austria</td>\n",
       "    </tr>\n",
       "    <tr>\n",
       "      <th>754</th>\n",
       "      <td>W hringer Stra e 33 35 09 Alsergrund 1090 Vien...</td>\n",
       "      <td>[W, hringer, Stra, e, 33, 35, 09, Alsergrund, ...</td>\n",
       "      <td>Austria</td>\n",
       "    </tr>\n",
       "    <tr>\n",
       "      <th>1137</th>\n",
       "      <td>4 rue de la P pini re 8th arr 75008 Paris France</td>\n",
       "      <td>[4, rue, de, la, P, pini, re, 8th, arr, 75008,...</td>\n",
       "      <td>France</td>\n",
       "    </tr>\n",
       "    <tr>\n",
       "      <th>...</th>\n",
       "      <td>...</td>\n",
       "      <td>...</td>\n",
       "      <td>...</td>\n",
       "    </tr>\n",
       "    <tr>\n",
       "      <th>515042</th>\n",
       "      <td>4 rue de la P pini re 8th arr 75008 Paris France</td>\n",
       "      <td>[4, rue, de, la, P, pini, re, 8th, arr, 75008,...</td>\n",
       "      <td>France</td>\n",
       "    </tr>\n",
       "    <tr>\n",
       "      <th>515133</th>\n",
       "      <td>Sieveringer Stra e 4 19 D bling 1190 Vienna Au...</td>\n",
       "      <td>[Sieveringer, Stra, e, 4, 19, D, bling, 1190, ...</td>\n",
       "      <td>Austria</td>\n",
       "    </tr>\n",
       "    <tr>\n",
       "      <th>515273</th>\n",
       "      <td>Landstra er G rtel 5 03 Landstra e 1030 Vienna...</td>\n",
       "      <td>[Landstra, er, G, rtel, 5, 03, Landstra, e, 10...</td>\n",
       "      <td>Austria</td>\n",
       "    </tr>\n",
       "    <tr>\n",
       "      <th>515600</th>\n",
       "      <td>Savoyenstra e 2 16 Ottakring 1160 Vienna Austria</td>\n",
       "      <td>[Savoyenstra, e, 2, 16, Ottakring, 1160, Vienn...</td>\n",
       "      <td>Austria</td>\n",
       "    </tr>\n",
       "    <tr>\n",
       "      <th>515616</th>\n",
       "      <td>Josefst dter Stra e 10 12 08 Josefstadt 1080 V...</td>\n",
       "      <td>[Josefst, dter, Stra, e, 10, 12, 08, Josefstad...</td>\n",
       "      <td>Austria</td>\n",
       "    </tr>\n",
       "  </tbody>\n",
       "</table>\n",
       "<p>3268 rows × 3 columns</p>\n",
       "</div>"
      ],
      "text/plain": [
       "                                            hotel_address  \\\n",
       "122      Savoyenstra e 2 16 Ottakring 1160 Vienna Austria   \n",
       "566          23 Rue Damr mont 18th arr 75018 Paris France   \n",
       "724     Josefst dter Stra e 10 12 08 Josefstadt 1080 V...   \n",
       "754     W hringer Stra e 33 35 09 Alsergrund 1090 Vien...   \n",
       "1137     4 rue de la P pini re 8th arr 75008 Paris France   \n",
       "...                                                   ...   \n",
       "515042   4 rue de la P pini re 8th arr 75008 Paris France   \n",
       "515133  Sieveringer Stra e 4 19 D bling 1190 Vienna Au...   \n",
       "515273  Landstra er G rtel 5 03 Landstra e 1030 Vienna...   \n",
       "515600   Savoyenstra e 2 16 Ottakring 1160 Vienna Austria   \n",
       "515616  Josefst dter Stra e 10 12 08 Josefstadt 1080 V...   \n",
       "\n",
       "                                         separate_address  country  \n",
       "122     [Savoyenstra, e, 2, 16, Ottakring, 1160, Vienn...  Austria  \n",
       "566     [23, Rue, Damr, mont, 18th, arr, 75018, Paris,...   France  \n",
       "724     [Josefst, dter, Stra, e, 10, 12, 08, Josefstad...  Austria  \n",
       "754     [W, hringer, Stra, e, 33, 35, 09, Alsergrund, ...  Austria  \n",
       "1137    [4, rue, de, la, P, pini, re, 8th, arr, 75008,...   France  \n",
       "...                                                   ...      ...  \n",
       "515042  [4, rue, de, la, P, pini, re, 8th, arr, 75008,...   France  \n",
       "515133  [Sieveringer, Stra, e, 4, 19, D, bling, 1190, ...  Austria  \n",
       "515273  [Landstra, er, G, rtel, 5, 03, Landstra, e, 10...  Austria  \n",
       "515600  [Savoyenstra, e, 2, 16, Ottakring, 1160, Vienn...  Austria  \n",
       "515616  [Josefst, dter, Stra, e, 10, 12, 08, Josefstad...  Austria  \n",
       "\n",
       "[3268 rows x 3 columns]"
      ]
     },
     "execution_count": 232,
     "metadata": {},
     "output_type": "execute_result"
    }
   ],
   "source": [
    "#create a subset of the dataset with key features\n",
    "missing = hotels_new[hotels_new['lat'] == 0][['hotel_address', 'separate_address', 'country']]\n",
    "missing"
   ]
  },
  {
   "cell_type": "code",
   "execution_count": 233,
   "metadata": {},
   "outputs": [],
   "source": [
    "#find the geocode based on the hotel address\n",
    "missing['geocode'] = missing['separate_address'].apply(lambda x: x[-3])"
   ]
  },
  {
   "cell_type": "markdown",
   "metadata": {},
   "source": [
    "Поиск координат вручную:"
   ]
  },
  {
   "cell_type": "code",
   "execution_count": 234,
   "metadata": {},
   "outputs": [
    {
     "data": {
      "text/plain": [
       "[[41.394782, 2.169299],\n",
       " [41.391504, 2.174635],\n",
       " [41.384387, 2.158965],\n",
       " [48.208354, 16.372504],\n",
       " [48.193644, 16.396286],\n",
       " [48.208354, 16.372504],\n",
       " [48.208354, 16.372504],\n",
       " [48.163109, 16.458013],\n",
       " [48.214955, 16.302153],\n",
       " [48.261251, 16.328471],\n",
       " [48.873265, 2.311162],\n",
       " [48.829567, 2.323962],\n",
       " [48.892132, 2.348179]]"
      ]
     },
     "execution_count": 234,
     "metadata": {},
     "output_type": "execute_result"
    }
   ],
   "source": [
    "geolocator = Nominatim(user_agent='SF_agent')\n",
    "hotel_address = [('08009', 'Spain'), ('08010', 'Spain'), ('08011', 'Spain'),\n",
    "                 (1020, 'Vienna', 'Austria'), (1030, 'Austria'), (1080, 'Vienna', 'Austria'),\n",
    "                 (1090, 'Vienna', 'Austria'), (1110, 'Austria'), (1160, 'Austria'), (1190, 'Austria'),\n",
    "                 (75008, 'France'), (75014, 'France'), (75018, 'France')]\n",
    "\n",
    "except_ = True\n",
    "\n",
    "missing_coordinates = []\n",
    "while except_:\n",
    "    try:\n",
    "        except_ = False\n",
    "        for x in hotel_address:\n",
    "            location = geolocator.geocode(x)\n",
    "            missing_coordinates.append([round(location.latitude, 6), round(location.longitude, 6)])\n",
    "    except:\n",
    "        except_ = True\n",
    "\n",
    "missing_coordinates"
   ]
  },
  {
   "cell_type": "code",
   "execution_count": 235,
   "metadata": {},
   "outputs": [
    {
     "data": {
      "text/html": [
       "<div>\n",
       "<style scoped>\n",
       "    .dataframe tbody tr th:only-of-type {\n",
       "        vertical-align: middle;\n",
       "    }\n",
       "\n",
       "    .dataframe tbody tr th {\n",
       "        vertical-align: top;\n",
       "    }\n",
       "\n",
       "    .dataframe thead th {\n",
       "        text-align: right;\n",
       "    }\n",
       "</style>\n",
       "<table border=\"1\" class=\"dataframe\">\n",
       "  <thead>\n",
       "    <tr style=\"text-align: right;\">\n",
       "      <th></th>\n",
       "      <th>geocode</th>\n",
       "      <th>m_lat</th>\n",
       "      <th>m_lng</th>\n",
       "    </tr>\n",
       "  </thead>\n",
       "  <tbody>\n",
       "    <tr>\n",
       "      <th>0</th>\n",
       "      <td>08009</td>\n",
       "      <td>41.394782</td>\n",
       "      <td>2.169299</td>\n",
       "    </tr>\n",
       "    <tr>\n",
       "      <th>1</th>\n",
       "      <td>08010</td>\n",
       "      <td>41.391504</td>\n",
       "      <td>2.174635</td>\n",
       "    </tr>\n",
       "    <tr>\n",
       "      <th>2</th>\n",
       "      <td>08011</td>\n",
       "      <td>41.384375</td>\n",
       "      <td>2.158984</td>\n",
       "    </tr>\n",
       "    <tr>\n",
       "      <th>3</th>\n",
       "      <td>1020</td>\n",
       "      <td>48.208354</td>\n",
       "      <td>16.372504</td>\n",
       "    </tr>\n",
       "    <tr>\n",
       "      <th>4</th>\n",
       "      <td>1030</td>\n",
       "      <td>48.193644</td>\n",
       "      <td>16.396286</td>\n",
       "    </tr>\n",
       "    <tr>\n",
       "      <th>5</th>\n",
       "      <td>1080</td>\n",
       "      <td>48.208354</td>\n",
       "      <td>16.372504</td>\n",
       "    </tr>\n",
       "    <tr>\n",
       "      <th>6</th>\n",
       "      <td>1090</td>\n",
       "      <td>48.208354</td>\n",
       "      <td>16.372504</td>\n",
       "    </tr>\n",
       "    <tr>\n",
       "      <th>7</th>\n",
       "      <td>1110</td>\n",
       "      <td>48.163109</td>\n",
       "      <td>16.458013</td>\n",
       "    </tr>\n",
       "    <tr>\n",
       "      <th>8</th>\n",
       "      <td>1160</td>\n",
       "      <td>48.214955</td>\n",
       "      <td>16.302153</td>\n",
       "    </tr>\n",
       "    <tr>\n",
       "      <th>9</th>\n",
       "      <td>1190</td>\n",
       "      <td>48.261251</td>\n",
       "      <td>16.328471</td>\n",
       "    </tr>\n",
       "    <tr>\n",
       "      <th>10</th>\n",
       "      <td>75008</td>\n",
       "      <td>48.873265</td>\n",
       "      <td>2.311162</td>\n",
       "    </tr>\n",
       "    <tr>\n",
       "      <th>11</th>\n",
       "      <td>75014</td>\n",
       "      <td>48.829567</td>\n",
       "      <td>2.323962</td>\n",
       "    </tr>\n",
       "    <tr>\n",
       "      <th>12</th>\n",
       "      <td>75018</td>\n",
       "      <td>48.892132</td>\n",
       "      <td>2.348179</td>\n",
       "    </tr>\n",
       "  </tbody>\n",
       "</table>\n",
       "</div>"
      ],
      "text/plain": [
       "   geocode      m_lat      m_lng\n",
       "0    08009  41.394782   2.169299\n",
       "1    08010  41.391504   2.174635\n",
       "2    08011  41.384375   2.158984\n",
       "3     1020  48.208354  16.372504\n",
       "4     1030  48.193644  16.396286\n",
       "5     1080  48.208354  16.372504\n",
       "6     1090  48.208354  16.372504\n",
       "7     1110  48.163109  16.458013\n",
       "8     1160  48.214955  16.302153\n",
       "9     1190  48.261251  16.328471\n",
       "10   75008  48.873265   2.311162\n",
       "11   75014  48.829567   2.323962\n",
       "12   75018  48.892132   2.348179"
      ]
     },
     "execution_count": 235,
     "metadata": {},
     "output_type": "execute_result"
    }
   ],
   "source": [
    "#create a new dataframe with missing geolocation\n",
    "location_by_code = pd.DataFrame({\n",
    "    'geocode': ['08009', '08010', '08011', #Spain\n",
    "                '1020', '1030', '1080', '1090', '1110', '1160', '1190', #Austria\n",
    "                '75008', '75014', '75018'], #France\n",
    "    'm_lat': [41.394782, 41.391504, 41.384375,\n",
    "              48.208354, 48.193644, 48.208354, 48.208354, 48.163109, 48.214955, 48.261251,\n",
    "              48.873265, 48.829567, 48.892132],\n",
    "    'm_lng': [2.169299, 2.174635, 2.158984,\n",
    "              16.372504, 16.396286, 16.372504, 16.372504, 16.458013, 16.302153, 16.328471,\n",
    "              2.311162, 2.323962, 2.348179]\n",
    "})\n",
    "\n",
    "location_by_code"
   ]
  },
  {
   "cell_type": "code",
   "execution_count": 236,
   "metadata": {},
   "outputs": [],
   "source": [
    "#find the geocode based on the hotel address for the main dataset\n",
    "hotels_new['geocode'] = hotels_new['separate_address'].apply(lambda x: x[-3])"
   ]
  },
  {
   "cell_type": "code",
   "execution_count": 237,
   "metadata": {},
   "outputs": [],
   "source": [
    "#merge two dataframes by geocode\n",
    "hotels = pd.merge(hotels_new, location_by_code, on='geocode', how='outer')"
   ]
  },
  {
   "cell_type": "code",
   "execution_count": 238,
   "metadata": {},
   "outputs": [],
   "source": [
    "#replace null (0) values with new coordinates, otherwise keep the old details\n",
    "hotels['cor_lat'] = np.where(hotels['lat'] == 0, hotels['m_lat'], hotels['lat'])\n",
    "hotels['cor_lng'] = np.where(hotels['lng'] == 0, hotels['m_lng'], hotels['lng'])"
   ]
  },
  {
   "cell_type": "markdown",
   "metadata": {},
   "source": [
    "Вычислить расстояние: \\\n",
    "Длина кратчайшего пути между двумя точками на любой поверхности."
   ]
  },
  {
   "cell_type": "code",
   "execution_count": 239,
   "metadata": {},
   "outputs": [],
   "source": [
    "#write a function to calculate the distance between two points on the surface of a spheroid (vincenty's formula)\n",
    "def calculate_distance(arg):\n",
    "    #import the city centre coordinates\n",
    "    x, y = arg['ctr_lat'], arg['ctr_lng']\n",
    "    \n",
    "    #import the hotel coordinates\n",
    "    i, j = arg['cor_lat'], arg['cor_lng']\n",
    "    \n",
    "    #create the calculation variables\n",
    "    city_centre = (x, y)\n",
    "    hotel_location = (i, j)\n",
    "    \n",
    "    #return the distance in km\n",
    "    return geodesic(city_centre, hotel_location).km\n",
    "\n",
    "#create a new feature - distance in km - by applying the function\n",
    "hotels['distance'] = hotels.apply(calculate_distance, axis=1)"
   ]
  },
  {
   "cell_type": "code",
   "execution_count": 240,
   "metadata": {},
   "outputs": [
    {
     "data": {
      "text/plain": [
       "count    515738.000000\n",
       "mean          3.269263\n",
       "std           2.582423\n",
       "min           0.023718\n",
       "25%           1.409770\n",
       "50%           2.538532\n",
       "75%           4.465126\n",
       "max          17.793405\n",
       "Name: distance, dtype: float64"
      ]
     },
     "execution_count": 240,
     "metadata": {},
     "output_type": "execute_result"
    }
   ],
   "source": [
    "#check for outliers\n",
    "hotels['distance'].describe()"
   ]
  },
  {
   "cell_type": "code",
   "execution_count": 241,
   "metadata": {},
   "outputs": [],
   "source": [
    "#categorize distance\n",
    "distance_conditions = [hotels['distance'] < 0.5,\n",
    "                       hotels['distance'].between(0.5, 1),\n",
    "                       hotels['distance'].between(1, 1.5),\n",
    "                       hotels['distance'].between(1.5, 2),\n",
    "                       hotels['distance'].between(2, 3),\n",
    "                       hotels['distance'].between(3, 5),\n",
    "                       hotels['distance'].between(5, 10),\n",
    "                       hotels['distance'] >= 10]\n",
    "\n",
    "distance_category = ['<0.5KM', '0.5-1KM', '1-1.5KM', '1.5-2KM', '2-3KM', '3-5KM', '5-10KM', '>10KM']\n",
    "\n",
    "hotels['c_distance'] = np.select(distance_conditions, distance_category)"
   ]
  },
  {
   "cell_type": "code",
   "execution_count": 242,
   "metadata": {},
   "outputs": [],
   "source": [
    "#categorise distance numerically\n",
    "hotels['distance_n'] = hotels['c_distance'].astype('category').cat.codes"
   ]
  },
  {
   "cell_type": "markdown",
   "metadata": {},
   "source": [
    "##### Кодировка признака - hotel_name:"
   ]
  },
  {
   "cell_type": "code",
   "execution_count": 243,
   "metadata": {},
   "outputs": [
    {
     "data": {
      "text/plain": [
       "1492"
      ]
     },
     "execution_count": 243,
     "metadata": {},
     "output_type": "execute_result"
    }
   ],
   "source": [
    "#find the unique hotel names\n",
    "hotels['hotel_name'].nunique()"
   ]
  },
  {
   "cell_type": "code",
   "execution_count": 244,
   "metadata": {},
   "outputs": [],
   "source": [
    "#categorise distance numerically\n",
    "hotels['hotel_name'] = hotels['hotel_name'].astype('category')\n",
    "hotels['hotel_name_n'] = hotels['hotel_name'].cat.codes"
   ]
  },
  {
   "cell_type": "code",
   "execution_count": 245,
   "metadata": {},
   "outputs": [],
   "source": [
    "#drop unnecessary features\n",
    "hotels = hotels.drop(['hotel_address', 'hotel_name', 'reviewer_nationality', 'separate_address', 'one',\n",
    "                      'lat', 'lng', 'ctr_lat', 'ctr_lng', 'geocode', 'm_lat', 'm_lng', 'cor_lat', 'cor_lng'],\n",
    "                     axis=1, errors='ignore')"
   ]
  },
  {
   "cell_type": "markdown",
   "metadata": {},
   "source": [
    "##### Преобразование признаков - tags:"
   ]
  },
  {
   "cell_type": "code",
   "execution_count": 246,
   "metadata": {},
   "outputs": [
    {
     "data": {
      "text/plain": [
       "array([4, 5, 6, 3, 2, 1])"
      ]
     },
     "execution_count": 246,
     "metadata": {},
     "output_type": "execute_result"
    }
   ],
   "source": [
    "#separate the elements\n",
    "hotels['tags_count'] = hotels['tags'].apply(lambda x: len(re.findall(\"'[^\\'](.+?)[^\\']'\", x)))\n",
    "\n",
    "#find the total number of elements\n",
    "hotels['tags_count'].unique()"
   ]
  },
  {
   "cell_type": "code",
   "execution_count": 247,
   "metadata": {},
   "outputs": [],
   "source": [
    "#separate the elements\n",
    "hotels['sep_tags'] = hotels['tags'].str.replace('[', '').str.replace(']', '').str.replace(\"'\", '')"
   ]
  },
  {
   "cell_type": "code",
   "execution_count": 248,
   "metadata": {},
   "outputs": [
    {
     "name": "stdout",
     "output_type": "stream",
     "text": [
      " Leisure trip ,  Group ,  Superior Double or Twin Room ,  Stayed 4 nights ,  Submitted from a mobile device \n",
      " Leisure trip ,  Couple ,  Double or Twin Room ,  Stayed 4 nights \n"
     ]
    }
   ],
   "source": [
    "#check the content of the tag\n",
    "print(hotels[(hotels['tags_count'] == 5)]['sep_tags'].iloc[0])\n",
    "print(hotels[(hotels['tags_count'] == 4)]['sep_tags'].iloc[4])"
   ]
  },
  {
   "cell_type": "code",
   "execution_count": 249,
   "metadata": {},
   "outputs": [],
   "source": [
    "#separate the tags into specific elements\n",
    "hotels['purpose'] = hotels.sep_tags.str.split(',').str[0]\n",
    "hotels['traveler'] = hotels.sep_tags.str.split(',').str[1]\n",
    "hotels['room'] = hotels.sep_tags.str.split(',').str[2]\n",
    "hotels['duration'] = hotels.sep_tags.str.split(',').str[3]\n",
    "\n",
    "#two additional features needed\n",
    "hotels['add1'] = hotels.sep_tags.str.split(',').str[4]\n",
    "hotels['add2'] = hotels.sep_tags.str.split(',').str[-1]"
   ]
  },
  {
   "cell_type": "code",
   "execution_count": 250,
   "metadata": {},
   "outputs": [
    {
     "data": {
      "text/plain": [
       "traveler         6\n",
       "room            91\n",
       "duration      5596\n",
       "add1        217160\n",
       "dtype: int64"
      ]
     },
     "execution_count": 250,
     "metadata": {},
     "output_type": "execute_result"
    }
   ],
   "source": [
    "#check that there are no null values in the data set\n",
    "hotels.isnull().sum()[hotels.isnull().sum() > 0]"
   ]
  },
  {
   "cell_type": "markdown",
   "metadata": {},
   "source": [
    "Удаление пробелов в начале и конце:"
   ]
  },
  {
   "cell_type": "code",
   "execution_count": 251,
   "metadata": {},
   "outputs": [],
   "source": [
    "#the beginning of the string\n",
    "hotels.purpose = hotels.purpose.replace('^\\s+', '', regex=True)\n",
    "hotels.traveler = hotels.traveler.replace('^\\s+', '', regex=True)\n",
    "hotels.room = hotels.room.replace('^\\s+', '', regex=True)\n",
    "hotels.duration = hotels.duration.replace('^\\s+', '', regex=True)\n",
    "hotels.add1 = hotels.add1.replace('^\\s+', '', regex=True)\n",
    "hotels.add2 = hotels.add2.replace('^\\s+', '', regex=True)\n",
    "\n",
    "#the end of the string\n",
    "hotels.purpose = hotels.purpose.replace('\\s+$', '', regex=True)\n",
    "hotels.traveler = hotels.traveler.replace('\\s+$', '', regex=True)\n",
    "hotels.room = hotels.room.replace('\\s+$', '', regex=True)\n",
    "hotels.duration = hotels.duration.replace('\\s+$', '', regex=True)\n",
    "hotels.add1 = hotels.add1.replace('\\s+$', '', regex=True)\n",
    "hotels.add2 = hotels.add2.replace('\\s+$', '', regex=True)"
   ]
  },
  {
   "cell_type": "code",
   "execution_count": 252,
   "metadata": {},
   "outputs": [
    {
     "data": {
      "text/plain": [
       "purpose\n",
       "Leisure trip                  416672\n",
       "Business trip                  82748\n",
       "Couple                          5808\n",
       "Solo traveler                   4291\n",
       "Family with young children      2227\n",
       "Group                           1600\n",
       "With a pet                      1405\n",
       "Family with older children       931\n",
       "Travelers with friends            56\n",
       "Name: count, dtype: int64"
      ]
     },
     "execution_count": 252,
     "metadata": {},
     "output_type": "execute_result"
    }
   ],
   "source": [
    "#check that the feature contains logical information\n",
    "hotels['purpose'].value_counts()"
   ]
  },
  {
   "cell_type": "code",
   "execution_count": 253,
   "metadata": {},
   "outputs": [],
   "source": [
    "#write a function to find unique elements in the feature\n",
    "def confirm_nonsense(data, feature):\n",
    "    s = set()\n",
    "    for x in data[feature]:\n",
    "        if x not in s:\n",
    "            s.add(x)\n",
    "    return s\n",
    "\n",
    "#display the results to use for element extraction\n",
    "#confirm_nonsense(hotels, 'room')"
   ]
  },
  {
   "cell_type": "code",
   "execution_count": 254,
   "metadata": {},
   "outputs": [],
   "source": [
    "#create a list with logical elements for type of travel stay\n",
    "type_of_travel = ['Leisure trip', 'Business trip']"
   ]
  },
  {
   "cell_type": "code",
   "execution_count": 255,
   "metadata": {},
   "outputs": [],
   "source": [
    "#create a list with logical elements for type of traveler\n",
    "type_of_traveler = ['Couple', 'Family with older children', 'Family with young children', 'Group', 'Solo traveler',\n",
    "                    'Travelers with friends', 'With a pet']"
   ]
  },
  {
   "cell_type": "code",
   "execution_count": 256,
   "metadata": {},
   "outputs": [],
   "source": [
    "#create a list with logical elements for all types of rooms\n",
    "type_of_rooms = ['Access', 'Amiral', 'Andaz', 'Apartment', 'Art', 'Attach', 'Basic', '1', '2', '3',\n",
    "                 'Boudour', 'Budget', 'Cabin', 'Camper', 'Canal', 'Chambers', 'Chelsea', 'City', 'Classic',\n",
    "                 'Classique', 'Club', 'Comfort', 'Compact', 'Corner', 'Cosy', 'Cozy', 'Curve', 'Dalston', 'Delightful',\n",
    "                 'Deluxe', 'Design', 'Director', 'Discovery', 'Dorsett', 'Double', 'Duplex', 'Easter', 'Economy', 'Eiffel',\n",
    "                 'Embassy', 'Emotion', 'Emperor', 'Exclusive', 'Executive', 'Fabulous', 'Falconers', 'Garden', 'Grand',\n",
    "                 'Hilton', 'Iconic', 'Intuition', 'Junior', 'King', 'Kings', 'Large', 'Loft', 'Luxury', 'Maisonette',\n",
    "                 'Marina', 'Master', 'Mayfair', 'Mini', 'Montcalm', 'Nhow', 'One', 'Panoramic', 'Paris', 'Parisian',\n",
    "                 'Park', 'Paseo', 'Pasha', 'Penthouse', 'Petite', 'Premier', 'Premium', 'Prestige', 'Privilege', 'Quadruple',\n",
    "                 'Quality', 'Queen', 'Queensgate', 'Quintuple', 'Regency', 'Residence', 'Ring', 'River', 'Romantic', 'Room',\n",
    "                 'Royal', 'Ruyschen', 'Saint', 'Secret', 'Signature', 'Single', 'Small', 'Souterrain', 'Spare', 'Special',\n",
    "                 'Spectacular', 'Spring', 'Standard', 'Studio', 'Suite', 'Superior', 'The Level', 'Tiny', 'Townhouse', 'Tradition',\n",
    "                 'Triple', 'Twin', 'Two', 'Urban', 'Weekend', 'Wonderful', 'X Ordinary', 'penta', '4', '5',\n",
    "                 'Gallery', 'Lower', 'Park', 'Sextuple', 'Accessible', 'Ambassadors', 'Ambassadors', 'Ashburn', 'Attic', 'Bobo',\n",
    "                 'Bunk', 'Cabine', 'Champs', 'Congress', 'Courtyard', 'Couture', 'Duke', 'Exception', 'Fantastic', 'Four',\n",
    "                 'Guest', 'Hansen', 'Horizon', 'Hoxton', 'Hyatt', 'Imperial', 'Interconnecting', 'Interior', 'Jimmie', 'La Reflet',\n",
    "                 'LM', 'Ma tre', 'Magistrate', 'Mandarin', 'Mansart', 'Marvellous', 'Marvelous', 'Mega', 'Mezzanine', 'Minsters',\n",
    "                 'Mus', 'Nelson', 'Observatory', 'Octagon', 'Op', 'Plaza', 'Presidential', 'Senior', 'Skylight', 'Stanhope',\n",
    "                 'Stunning', 'Supreme', 'The Rooks', 'Treat', 'Westminster', 'Xscape', 'Modern', 'Hypoallergenic', 'Squint', 'Panorama',\n",
    "                 'Delegate', 'Family 1', 'Family 2', 'Family 3', 'Family 4', 'Family 5', 'Family A', 'Family B', 'Family C',\n",
    "                 'Family D', 'Family E', 'Family F', 'Family G', 'Family H', 'Family I', 'Family J', 'Family K', 'Family L', 'Family M',\n",
    "                 'Family N', 'Family O', 'Family P', 'Family Q', 'Family R', 'Family S', 'Family T', 'Family U', 'Family V', 'Family W',\n",
    "                 'Family X', 'Family Y', 'Family Z', 'FAMILY PLAN', 'Business A', 'Business B', 'Business C', 'Business D', 'Business E',\n",
    "                 'Business F', 'Business G', 'Business H', 'Business I', 'Business J', 'Business K', 'Business L', 'Business M', 'Business N',\n",
    "                 'Business O', 'Business P', 'Business Q', 'Business R', 'Business S', 'Business T', 'Business U', 'Business V', 'Business W',\n",
    "                 'Business X', 'Business Y', 'Business Z', 'Solo A', 'Solo B', 'Solo C', 'Solo D', 'Solo E', 'Solo F', 'Solo G',\n",
    "                 'Solo H', 'Solo I', 'Solo J', 'Solo K', 'Solo L', 'Solo M', 'Solo N', 'Solo O', 'Solo P', 'Solo Q',\n",
    "                 'Solo R', 'Solo S', 'Solo T', 'Solo U', 'Solo V', 'Solo W', 'Solo X', 'Solo Y', 'Solo Z',\n",
    "                 'Amsterdam', 'Boudoir', 'Super', 'Aldwych', 'Champagne Shopping', 'Kube D', 'Non Smoking', 'Trash City', 'Condal D', 'Principle D',\n",
    "                 'REN Room', 'Drop Dead', 'Level Room', 'K Suite', 'Top', 'superior', 'Smart', 'Elegance', 'Confort', 'The Duplex',\n",
    "                 'View', 'Sensation', 'Nadler', 'Cool Corner', 'Atrium', 'Family room', 'Ambassador', 'Autentic', 'La Rouge', 'Terrace',\n",
    "                 'Belgravia', 'Cosmopolitan', 'New Amsterdam', 'Connecting', 'Bridal Suit', 'Privil ge Suite', 'Mosaic', 'Palais Suite',\n",
    "                 'La Mathurin Suite', 'Marquise', 'Chic Twin', 'Chic', 'Elisabeth', 'Adjacent', 'Hyde Park', 'Universitat', 'Diamond',\n",
    "                 'Balcony', 'Landmark', 'Collection', 'Knightsbridge', 'La Petite', 'Oscar Wilde Room', 'Vend me', 'Ground', 'Three B', 'Tower',\n",
    "                 'Rooftop', 'Cabaret', 'Principe', 'Green', 'Apartement', 'Halkin']"
   ]
  },
  {
   "cell_type": "code",
   "execution_count": 257,
   "metadata": {},
   "outputs": [],
   "source": [
    "#create a function to correct inaccuracies in type of travel stay\n",
    "def replace_purpose(data):\n",
    "    lst_trip = []\n",
    "    x = data['purpose']\n",
    "    y = data['traveler']\n",
    "    z = data['room']\n",
    "    w = data['duration']\n",
    "    \n",
    "    i = data['add1']\n",
    "    j = data['add2']\n",
    "    \n",
    "    for element in type_of_travel:\n",
    "        if str(x).startswith(element):\n",
    "            lst_trip.append(x)\n",
    "        elif str(y).startswith(element):\n",
    "            lst_trip.append(y)\n",
    "        elif str(z).startswith(element):\n",
    "            lst_trip.append(z)\n",
    "        elif str(w).startswith(element):\n",
    "            lst_trip.append(w)\n",
    "            \n",
    "        elif str(i).startswith(element):\n",
    "            lst_trip.append(i)\n",
    "        elif str(j).startswith(element):\n",
    "            lst_trip.append(j)\n",
    "            \n",
    "    return lst_trip\n",
    "\n",
    "#create a new column by applying the function\n",
    "hotels['travel_purpose'] = hotels.apply(replace_purpose, axis=1)"
   ]
  },
  {
   "cell_type": "code",
   "execution_count": 258,
   "metadata": {},
   "outputs": [],
   "source": [
    "#create a function to correct inaccuracies in type of traveler\n",
    "def replace_traveler(data):\n",
    "    lst_cust = []\n",
    "    x = data['purpose']\n",
    "    y = data['traveler']\n",
    "    z = data['room']\n",
    "    w = data['duration']\n",
    "    \n",
    "    i = data['add1']\n",
    "    j = data['add2']\n",
    "    \n",
    "    for element in type_of_traveler:\n",
    "        if str(x).startswith(element):\n",
    "            lst_cust.append(x)\n",
    "        elif str(y).startswith(element):\n",
    "            lst_cust.append(y)\n",
    "        elif str(z).startswith(element):\n",
    "            lst_cust.append(z)\n",
    "        elif str(w).startswith(element):\n",
    "            lst_cust.append(w)\n",
    "        \n",
    "        elif str(i).startswith(element):\n",
    "            lst_cust.append(i)\n",
    "        elif str(j).startswith(element):\n",
    "            lst_cust.append(j)\n",
    "            \n",
    "    return lst_cust\n",
    "\n",
    "#create a new column by applying the function\n",
    "hotels['traveler_type'] = hotels.apply(replace_traveler, axis=1)"
   ]
  },
  {
   "cell_type": "code",
   "execution_count": 259,
   "metadata": {},
   "outputs": [],
   "source": [
    "#create a function to correct inaccuracies in type of room\n",
    "def replace_room(data):\n",
    "    lst_room = []\n",
    "    x = data['purpose']\n",
    "    y = data['traveler']\n",
    "    z = data['room']\n",
    "    w = data['duration']\n",
    "    \n",
    "    i = data['add1']\n",
    "    j = data['add2']\n",
    "    \n",
    "    for element in type_of_rooms:\n",
    "        if str(x).startswith(element):\n",
    "            lst_room.append(x)\n",
    "        elif str(y).startswith(element):\n",
    "            lst_room.append(y)\n",
    "        elif str(z).startswith(element):\n",
    "            lst_room.append(z)\n",
    "        elif str(w).startswith(element):\n",
    "            lst_room.append(w)\n",
    "            \n",
    "        elif str(i).startswith(element):\n",
    "            lst_room.append(i)\n",
    "        elif str(j).startswith(element):\n",
    "            lst_room.append(j)\n",
    "            \n",
    "    return lst_room\n",
    "\n",
    "#create a new column by applying the function\n",
    "hotels['room_type'] = hotels.apply(replace_room, axis=1)"
   ]
  },
  {
   "cell_type": "code",
   "execution_count": 260,
   "metadata": {},
   "outputs": [],
   "source": [
    "#create a function to correct inaccuracies in duration stay\n",
    "def replace_duration(data):\n",
    "    lst_stay = []\n",
    "    x = data['purpose']\n",
    "    y = data['traveler']\n",
    "    z = data['room']\n",
    "    w = data['duration']\n",
    "    \n",
    "    i = data['add1']\n",
    "    j = data['add2']\n",
    "    \n",
    "    if str(x).startswith('Stayed'):\n",
    "        lst_stay.append(x)\n",
    "    elif str(y).startswith('Stayed'):\n",
    "        lst_stay.append(y)\n",
    "    elif str(z).startswith('Stayed'):\n",
    "        lst_stay.append(z)\n",
    "    elif str(w).startswith('Stayed'):\n",
    "        lst_stay.append(w)\n",
    "        \n",
    "    elif str(i).startswith('Stayed'):\n",
    "        lst_stay.append(i)\n",
    "    elif str(j).startswith('Stayed'):\n",
    "        lst_stay.append(j)\n",
    "        \n",
    "    return lst_stay\n",
    "\n",
    "#create a new column by applying the function\n",
    "hotels['duration_stay'] = hotels.apply(replace_duration, axis=1)"
   ]
  },
  {
   "cell_type": "markdown",
   "metadata": {},
   "source": [
    "Проверка признака travel purpose:"
   ]
  },
  {
   "cell_type": "code",
   "execution_count": 261,
   "metadata": {},
   "outputs": [
    {
     "data": {
      "text/plain": [
       "travel_purpose\n",
       "[Leisure trip]     417778\n",
       "[Business trip]     82939\n",
       "[]                  15021\n",
       "Name: count, dtype: int64"
      ]
     },
     "execution_count": 261,
     "metadata": {},
     "output_type": "execute_result"
    }
   ],
   "source": [
    "#confirm that no errors were made\n",
    "hotels['travel_purpose'].value_counts()"
   ]
  },
  {
   "cell_type": "code",
   "execution_count": 262,
   "metadata": {},
   "outputs": [
    {
     "data": {
      "text/plain": [
       "count             515738\n",
       "unique                 3\n",
       "top       [Leisure trip]\n",
       "freq              417778\n",
       "Name: travel_purpose, dtype: object"
      ]
     },
     "execution_count": 262,
     "metadata": {},
     "output_type": "execute_result"
    }
   ],
   "source": [
    "#find the mode value for duration\n",
    "hotels['travel_purpose'].describe()"
   ]
  },
  {
   "cell_type": "code",
   "execution_count": 263,
   "metadata": {},
   "outputs": [],
   "source": [
    "#convert a list into a string\n",
    "hotels['travel_purpose'] = hotels['travel_purpose'].apply(lambda x: ''.join(x))\n",
    "\n",
    "#fill null values with mode travel purpose\n",
    "hotels['travel_purpose'] = hotels['travel_purpose'].apply(lambda x: 'Leisure trip' if len(x) == 0 else x)"
   ]
  },
  {
   "cell_type": "code",
   "execution_count": 264,
   "metadata": {},
   "outputs": [
    {
     "data": {
      "text/plain": [
       "travel_purpose\n",
       "Leisure trip     432799\n",
       "Business trip     82939\n",
       "Name: count, dtype: int64"
      ]
     },
     "execution_count": 264,
     "metadata": {},
     "output_type": "execute_result"
    }
   ],
   "source": [
    "#confirm that no errors were made\n",
    "hotels['travel_purpose'].value_counts()"
   ]
  },
  {
   "cell_type": "code",
   "execution_count": 265,
   "metadata": {},
   "outputs": [],
   "source": [
    "#categorize travel purpose numerically\n",
    "hotels['travel_purpose_n'] = hotels['travel_purpose'].astype('category').cat.codes"
   ]
  },
  {
   "cell_type": "markdown",
   "metadata": {},
   "source": [
    "Проверка признака traveler type:"
   ]
  },
  {
   "cell_type": "code",
   "execution_count": 266,
   "metadata": {},
   "outputs": [
    {
     "data": {
      "text/plain": [
       "traveler_type\n",
       "[Couple]                                    251554\n",
       "[Solo traveler]                             108336\n",
       "[Group]                                      65251\n",
       "[Family with young children]                 60791\n",
       "[Family with older children]                 26258\n",
       "[Travelers with friends]                      2143\n",
       "[Couple, With a pet]                           740\n",
       "[Family with young children, With a pet]       224\n",
       "[Solo traveler, With a pet]                    209\n",
       "[Group, With a pet]                            141\n",
       "[Family with older children, With a pet]        91\n",
       "Name: count, dtype: int64"
      ]
     },
     "execution_count": 266,
     "metadata": {},
     "output_type": "execute_result"
    }
   ],
   "source": [
    "#confirm that no errors were made\n",
    "hotels['traveler_type'].value_counts()"
   ]
  },
  {
   "cell_type": "code",
   "execution_count": 267,
   "metadata": {},
   "outputs": [],
   "source": [
    "#convert a list into a string\n",
    "hotels['traveler_type'] = hotels['traveler_type'].apply(lambda x: ''.join(x))"
   ]
  },
  {
   "cell_type": "code",
   "execution_count": 268,
   "metadata": {},
   "outputs": [],
   "source": [
    "#categorize travel purpose numerically\n",
    "hotels['traveler_type_n'] = hotels['traveler_type'].astype('category').cat.codes"
   ]
  },
  {
   "cell_type": "markdown",
   "metadata": {},
   "source": [
    "Проверка признака duration stay:"
   ]
  },
  {
   "cell_type": "code",
   "execution_count": 269,
   "metadata": {},
   "outputs": [
    {
     "data": {
      "text/plain": [
       "duration_stay\n",
       "[Stayed 1 night]      193645\n",
       "[Stayed 2 nights]     133937\n",
       "[Stayed 3 nights]      95821\n",
       "[Stayed 4 nights]      47817\n",
       "[Stayed 5 nights]      20845\n",
       "[Stayed 6 nights]       9776\n",
       "[Stayed 7 nights]       7399\n",
       "[Stayed 8 nights]       2502\n",
       "[Stayed 9 nights]       1293\n",
       "[Stayed 10 nights]       889\n",
       "[Stayed 11 nights]       418\n",
       "[Stayed 12 nights]       316\n",
       "[Stayed 14 nights]       247\n",
       "[Stayed 13 nights]       246\n",
       "[]                       192\n",
       "[Stayed 15 nights]       117\n",
       "[Stayed 16 nights]        57\n",
       "[Stayed 17 nights]        42\n",
       "[Stayed 18 nights]        33\n",
       "[Stayed 19 nights]        29\n",
       "[Stayed 21 nights]        23\n",
       "[Stayed 20 nights]        19\n",
       "[Stayed 27 nights]        11\n",
       "[Stayed 30 nights]        11\n",
       "[Stayed 23 nights]        10\n",
       "[Stayed 22 nights]        10\n",
       "[Stayed 25 nights]         7\n",
       "[Stayed 28 nights]         7\n",
       "[Stayed 26 nights]         7\n",
       "[Stayed 24 nights]         6\n",
       "[Stayed 29 nights]         5\n",
       "[Stayed 31 nights]         1\n",
       "Name: count, dtype: int64"
      ]
     },
     "execution_count": 269,
     "metadata": {},
     "output_type": "execute_result"
    }
   ],
   "source": [
    "#confirm that no errors were made\n",
    "hotels['duration_stay'].value_counts()"
   ]
  },
  {
   "cell_type": "code",
   "execution_count": 270,
   "metadata": {},
   "outputs": [
    {
     "data": {
      "text/plain": [
       "count               515738\n",
       "unique                  32\n",
       "top       [Stayed 1 night]\n",
       "freq                193645\n",
       "Name: duration_stay, dtype: object"
      ]
     },
     "execution_count": 270,
     "metadata": {},
     "output_type": "execute_result"
    }
   ],
   "source": [
    "#find the mode value for duration\n",
    "hotels['duration_stay'].describe()"
   ]
  },
  {
   "cell_type": "code",
   "execution_count": 271,
   "metadata": {},
   "outputs": [],
   "source": [
    "#convert a list into a string\n",
    "hotels['duration_stay'] = hotels['duration_stay'].apply(lambda x: ''.join(x))\n",
    "\n",
    "#fill null values with mode travel purpose\n",
    "hotels['duration_stay'] = hotels['duration_stay'].apply(lambda x: 'Stayed 1 night' if len(x) == 0 else x)"
   ]
  },
  {
   "cell_type": "code",
   "execution_count": 272,
   "metadata": {},
   "outputs": [
    {
     "data": {
      "text/plain": [
       "duration_stay\n",
       "Stayed 1 night     193837\n",
       "Stayed 2 nights    133937\n",
       "Stayed 3 nights     95821\n",
       "Name: count, dtype: int64"
      ]
     },
     "execution_count": 272,
     "metadata": {},
     "output_type": "execute_result"
    }
   ],
   "source": [
    "#confirm the change\n",
    "hotels['duration_stay'].value_counts()[:3]"
   ]
  },
  {
   "cell_type": "code",
   "execution_count": 273,
   "metadata": {},
   "outputs": [],
   "source": [
    "#find all the sequences with numbers\n",
    "regex = '\\d+'\n",
    "\n",
    "#extract the sequence of numbers from duration stay - alternative to categorize numerically\n",
    "hotels['duration_n'] = hotels['duration_stay'].str.findall(regex).str.get(0)"
   ]
  },
  {
   "cell_type": "markdown",
   "metadata": {},
   "source": [
    "Проверка признака room type:"
   ]
  },
  {
   "cell_type": "code",
   "execution_count": 274,
   "metadata": {},
   "outputs": [],
   "source": [
    "#convert a list into a string\n",
    "hotels['room_type'] = hotels['room_type'].apply(lambda x: ''.join(x))"
   ]
  },
  {
   "cell_type": "code",
   "execution_count": 275,
   "metadata": {},
   "outputs": [
    {
     "data": {
      "text/plain": [
       "sep_tags\n",
       "Leisure trip ,  Couple ,  Submitted from a mobile device                                                                41\n",
       "Leisure trip ,  Couple                                                                                                  31\n",
       "Leisure trip ,  Solo traveler ,  Submitted from a mobile device                                                         14\n",
       "Business trip ,  Solo traveler ,  Submitted from a mobile device                                                        13\n",
       "Leisure trip ,  Family with young children ,  Submitted from a mobile device                                            13\n",
       "Business trip ,  Solo traveler                                                                                          10\n",
       "Leisure trip ,  Group                                                                                                   10\n",
       "Leisure trip ,  Group ,  Submitted from a mobile device                                                                  8\n",
       "Leisure trip ,  Family with young children                                                                               7\n",
       "Leisure trip ,  Solo traveler                                                                                            7\n",
       "Leisure trip ,  Family with older children                                                                               5\n",
       "Business trip ,  Group                                                                                                   4\n",
       "Business trip ,  Couple                                                                                                  3\n",
       "Couple ,  Submitted from a mobile device                                                                                 3\n",
       "Couple                                                                                                                   3\n",
       "Leisure trip ,  Family with older children ,  Submitted from a mobile device                                             3\n",
       "Business trip ,  Group ,  Submitted from a mobile device                                                                 3\n",
       "Business trip ,  Family with young children                                                                              2\n",
       "Business trip ,  Family with young children ,  Submitted from a mobile device                                            2\n",
       "Group                                                                                                                    2\n",
       "Business trip ,  Group ,  Duomo Suite ,  Stayed 3 nights                                                                 1\n",
       "Family with young children                                                                                               1\n",
       "Solo traveler ,  Submitted from a mobile device                                                                          1\n",
       "With a pet ,  Leisure trip ,  Couple                                                                                     1\n",
       "Family with older children ,  Submitted from a mobile device                                                             1\n",
       "Leisure trip ,  Group ,  Original Double Room ,  Stayed 1 night ,  Submitted from a mobile device                        1\n",
       "With a pet ,  Business trip ,  Group                                                                                     1\n",
       "Family with young children ,  Submitted from a mobile device                                                             1\n",
       "Leisure trip ,  Family with young children ,  Shoreditch Suite ,  Stayed 3 nights ,  Submitted from a mobile device      1\n",
       "Leisure trip ,  Travelers with friends ,  Submitted from a mobile device                                                 1\n",
       "Business trip ,  Travelers with friends ,  Submitted from a mobile device                                                1\n",
       "Name: count, dtype: int64"
      ]
     },
     "execution_count": 275,
     "metadata": {},
     "output_type": "execute_result"
    }
   ],
   "source": [
    "#confirm that the missing values do not contain any room information\n",
    "hotels[hotels['room_type'].str.len() == 0]['sep_tags'].value_counts()"
   ]
  },
  {
   "cell_type": "code",
   "execution_count": 276,
   "metadata": {},
   "outputs": [
    {
     "data": {
      "text/plain": [
       "traveler_type\n",
       "Couple                                                               Double Room\n",
       "CoupleWith a pet                        Superior Double RoomSuperior Double Room\n",
       "Family with older children                                               2 rooms\n",
       "Family with older childrenWith a pet                                     2 rooms\n",
       "Family with young children                                               2 rooms\n",
       "Family with young childrenWith a pet                                     2 rooms\n",
       "Group                                                        Double or Twin Room\n",
       "GroupWith a pet                                              Double or Twin Room\n",
       "Solo traveler                                                        Single Room\n",
       "Solo travelerWith a pet                                              Double Room\n",
       "Travelers with friends                                       Double or Twin Room\n",
       "Name: top, dtype: object"
      ]
     },
     "execution_count": 276,
     "metadata": {},
     "output_type": "execute_result"
    }
   ],
   "source": [
    "#find the statistical information for a categorical feature\n",
    "traveler_by_room = hotels.groupby('traveler_type')['room_type'].describe()\n",
    "\n",
    "#extract the mode value for room by traveler\n",
    "room_by_traveler = traveler_by_room['top']\n",
    "room_by_traveler"
   ]
  },
  {
   "cell_type": "code",
   "execution_count": 277,
   "metadata": {},
   "outputs": [],
   "source": [
    "#change the data type (in case of errors)\n",
    "hotels['room_type'] = hotels['room_type'].astype('string')\n",
    "hotels['traveler_type'] = hotels['traveler_type'].astype('string')"
   ]
  },
  {
   "cell_type": "code",
   "execution_count": 278,
   "metadata": {},
   "outputs": [],
   "source": [
    "#create a function to correct the missing values in room\n",
    "def missing_room(data):\n",
    "    x = data['room_type']\n",
    "    y = data['traveler_type']\n",
    "    \n",
    "    if len(str(x)) == 0:\n",
    "        if str(y) in room_by_traveler.index:\n",
    "            result = room_by_traveler[y]\n",
    "    else:\n",
    "        result = x\n",
    "    \n",
    "    return result\n",
    "\n",
    "#apply the function\n",
    "hotels['room_type'] = hotels.apply(missing_room, axis=1)"
   ]
  },
  {
   "cell_type": "code",
   "execution_count": 279,
   "metadata": {},
   "outputs": [],
   "source": [
    "#change the data type (in case of errors)\n",
    "hotels['room_type'] = hotels['room_type'].astype('string')"
   ]
  },
  {
   "cell_type": "markdown",
   "metadata": {},
   "source": [
    "##### Кодировка [комнат](https://hoteltechreport.com/news/room-type)"
   ]
  },
  {
   "cell_type": "markdown",
   "metadata": {},
   "source": [
    "Кодировка по размещению:"
   ]
  },
  {
   "cell_type": "code",
   "execution_count": 280,
   "metadata": {},
   "outputs": [],
   "source": [
    "#write a function to to categorize room by occupancy\n",
    "def occupancy_rooms(x):\n",
    "    #convert to lower case\n",
    "    arg = x.lower()\n",
    "    \n",
    "    #if string contains the key word, separate by type of occupancy\n",
    "    if arg.__contains__('single'):\n",
    "        occupancy = 1\n",
    "    elif arg.__contains__('double'):\n",
    "        occupancy = 2\n",
    "    elif arg.__contains__('triple'):\n",
    "        occupancy = 3\n",
    "    elif arg.__contains__('quad'):\n",
    "        occupancy = 4\n",
    "    #for the rest of the variations\n",
    "    else:\n",
    "        occupancy = 5\n",
    "    \n",
    "    return occupancy\n",
    "\n",
    "#create a new column for room by occupancy\n",
    "hotels['occupancy_n'] = hotels['room_type'].apply(occupancy_rooms)"
   ]
  },
  {
   "cell_type": "markdown",
   "metadata": {},
   "source": [
    "Кодировка по кровати:"
   ]
  },
  {
   "cell_type": "code",
   "execution_count": 281,
   "metadata": {},
   "outputs": [],
   "source": [
    "#write a function to to categorize room by bed type\n",
    "def bed_rooms(x):\n",
    "    #convert to lower case\n",
    "    arg = x.lower()\n",
    "    \n",
    "    #if string contains the key word, separate by bed type\n",
    "    if arg.__contains__('double'):\n",
    "        bed = 1\n",
    "    elif arg.__contains__('twin'):\n",
    "        bed = 2\n",
    "    elif arg.__contains__('queen'):\n",
    "        bed = 3\n",
    "    elif arg.__contains__('king'):\n",
    "        bed = 4\n",
    "    elif arg.__contains__('studio'):\n",
    "        bed = 5\n",
    "    #for the rest of the variations    \n",
    "    else:\n",
    "        bed = 6\n",
    "    \n",
    "    return bed\n",
    "\n",
    "#create a new column for room by bed type\n",
    "hotels['bedrooms_n'] = hotels['room_type'].apply(bed_rooms)"
   ]
  },
  {
   "cell_type": "markdown",
   "metadata": {},
   "source": [
    "Кодировка по макету:"
   ]
  },
  {
   "cell_type": "code",
   "execution_count": 282,
   "metadata": {},
   "outputs": [],
   "source": [
    "#write a function to categorize room layout\n",
    "def layout(x):\n",
    "    #convert to lower case\n",
    "    arg = x.lower()\n",
    "    \n",
    "    #if string contains the key word, separate by layout\n",
    "    if arg.__contains__('standard'):\n",
    "        lay = 1\n",
    "    elif arg.__contains__('deluxe'):\n",
    "        lay = 2\n",
    "    elif arg.__contains__('joint'):\n",
    "        lay = 3\n",
    "    elif arg.__contains__('connecting'):\n",
    "        lay = 4\n",
    "    elif arg.__contains__('suite'):\n",
    "        lay = 5\n",
    "    elif arg.__contains__('apartment'):\n",
    "        lay = 6\n",
    "    elif arg.__contains__('accessible'):\n",
    "        lay = 7\n",
    "    #for the rest of the variations    \n",
    "    else:\n",
    "        lay = 8\n",
    "    \n",
    "    return lay\n",
    "\n",
    "#create a new column for room by layout\n",
    "hotels['layout_n'] = hotels['room_type'].apply(layout)"
   ]
  },
  {
   "cell_type": "code",
   "execution_count": 283,
   "metadata": {},
   "outputs": [],
   "source": [
    "#drop unnecessary features\n",
    "hotels = hotels.drop(['tags', 'tags_count', 'sep_tags',\n",
    "                      'purpose', 'traveler', 'room', 'duration', 'add1', 'add2', 'duration_stay'],\n",
    "                     axis=1, errors='ignore')"
   ]
  },
  {
   "cell_type": "markdown",
   "metadata": {},
   "source": [
    "##### Преобразование признаков - days since review:"
   ]
  },
  {
   "cell_type": "code",
   "execution_count": 284,
   "metadata": {},
   "outputs": [],
   "source": [
    "#find all the sequences with numbers\n",
    "regex = '\\d+'\n",
    "\n",
    "#extract the sequence of numbers\n",
    "hotels['days'] = hotels['days_since_review'].str.findall(regex).str.get(0)"
   ]
  },
  {
   "cell_type": "markdown",
   "metadata": {},
   "source": [
    "##### Преобразование признаков - review_date:"
   ]
  },
  {
   "cell_type": "code",
   "execution_count": 285,
   "metadata": {},
   "outputs": [],
   "source": [
    "#convert to datetime\n",
    "hotels['review_date'] = pd.to_datetime(hotels['review_date'])\n",
    "\n",
    "#create new features\n",
    "hotels['review_year'] = hotels['review_date'].dt.year\n",
    "hotels['review_month'] = hotels['review_date'].dt.month\n",
    "hotels['review_day'] = hotels['review_date'].dt.day\n",
    "\n",
    "#for seasonality\n",
    "hotels['year_month'] = hotels['review_date'].dt.to_period('M')"
   ]
  },
  {
   "cell_type": "code",
   "execution_count": 286,
   "metadata": {},
   "outputs": [
    {
     "name": "stderr",
     "output_type": "stream",
     "text": [
      "/Library/Frameworks/Python.framework/Versions/3.10/lib/python3.10/site-packages/category_encoders/ordinal.py:198: FutureWarning:\n",
      "\n",
      "Downcasting object dtype arrays on .fillna, .ffill, .bfill is deprecated and will change in a future version. Call result.infer_objects(copy=False) instead. To opt-in to the future behavior, set `pd.set_option('future.no_silent_downcasting', True)`\n",
      "\n",
      "/Library/Frameworks/Python.framework/Versions/3.10/lib/python3.10/site-packages/category_encoders/ordinal.py:198: FutureWarning:\n",
      "\n",
      "Downcasting object dtype arrays on .fillna, .ffill, .bfill is deprecated and will change in a future version. Call result.infer_objects(copy=False) instead. To opt-in to the future behavior, set `pd.set_option('future.no_silent_downcasting', True)`\n",
      "\n",
      "/Library/Frameworks/Python.framework/Versions/3.10/lib/python3.10/site-packages/category_encoders/ordinal.py:198: FutureWarning:\n",
      "\n",
      "Downcasting object dtype arrays on .fillna, .ffill, .bfill is deprecated and will change in a future version. Call result.infer_objects(copy=False) instead. To opt-in to the future behavior, set `pd.set_option('future.no_silent_downcasting', True)`\n",
      "\n",
      "/Library/Frameworks/Python.framework/Versions/3.10/lib/python3.10/site-packages/category_encoders/ordinal.py:198: FutureWarning:\n",
      "\n",
      "Downcasting object dtype arrays on .fillna, .ffill, .bfill is deprecated and will change in a future version. Call result.infer_objects(copy=False) instead. To opt-in to the future behavior, set `pd.set_option('future.no_silent_downcasting', True)`\n",
      "\n"
     ]
    }
   ],
   "source": [
    "#encode the seasonal feature\n",
    "hotels['year_month'] = hotels['year_month'].astype('category')\n",
    "period = category_encoders.TargetEncoder(min_samples_leaf=20, smoothing=10).fit_transform(hotels['year_month'], hotels['reviewer_score'])\n",
    "\n",
    "# переименовываем признак для удобства \"отсева\"\n",
    "period.rename(columns={'year_month': 'trgt_encode_year_month'}, inplace=True)\n",
    "hotels = pd.concat([hotels, period], axis=1)"
   ]
  },
  {
   "cell_type": "markdown",
   "metadata": {},
   "source": [
    "##### Преобразование признаков - negative_reviews и positive_reviews"
   ]
  },
  {
   "cell_type": "markdown",
   "metadata": {},
   "source": [
    "Корректировка признака - negative_review:"
   ]
  },
  {
   "cell_type": "code",
   "execution_count": 287,
   "metadata": {},
   "outputs": [],
   "source": [
    "#correct any spaces\n",
    "hotels['negative_review'] = hotels['negative_review'].apply(lambda x: x.lower().strip())"
   ]
  },
  {
   "cell_type": "code",
   "execution_count": 288,
   "metadata": {},
   "outputs": [
    {
     "data": {
      "text/html": [
       "<div>\n",
       "<style scoped>\n",
       "    .dataframe tbody tr th:only-of-type {\n",
       "        vertical-align: middle;\n",
       "    }\n",
       "\n",
       "    .dataframe tbody tr th {\n",
       "        vertical-align: top;\n",
       "    }\n",
       "\n",
       "    .dataframe thead th {\n",
       "        text-align: right;\n",
       "    }\n",
       "</style>\n",
       "<table border=\"1\" class=\"dataframe\">\n",
       "  <thead>\n",
       "    <tr style=\"text-align: right;\">\n",
       "      <th></th>\n",
       "      <th>negative_review</th>\n",
       "      <th>count</th>\n",
       "    </tr>\n",
       "  </thead>\n",
       "  <tbody>\n",
       "    <tr>\n",
       "      <th>0</th>\n",
       "      <td>no negative</td>\n",
       "      <td>127890</td>\n",
       "    </tr>\n",
       "    <tr>\n",
       "      <th>1</th>\n",
       "      <td>nothing</td>\n",
       "      <td>21185</td>\n",
       "    </tr>\n",
       "    <tr>\n",
       "      <th>2</th>\n",
       "      <td>n a</td>\n",
       "      <td>1815</td>\n",
       "    </tr>\n",
       "    <tr>\n",
       "      <th>3</th>\n",
       "      <td>none</td>\n",
       "      <td>1501</td>\n",
       "    </tr>\n",
       "    <tr>\n",
       "      <th>4</th>\n",
       "      <td></td>\n",
       "      <td>849</td>\n",
       "    </tr>\n",
       "    <tr>\n",
       "      <th>5</th>\n",
       "      <td>nothing really</td>\n",
       "      <td>656</td>\n",
       "    </tr>\n",
       "    <tr>\n",
       "      <th>6</th>\n",
       "      <td>small room</td>\n",
       "      <td>570</td>\n",
       "    </tr>\n",
       "    <tr>\n",
       "      <th>7</th>\n",
       "      <td>breakfast</td>\n",
       "      <td>545</td>\n",
       "    </tr>\n",
       "    <tr>\n",
       "      <th>8</th>\n",
       "      <td>all good</td>\n",
       "      <td>545</td>\n",
       "    </tr>\n",
       "    <tr>\n",
       "      <th>9</th>\n",
       "      <td>no complaints</td>\n",
       "      <td>523</td>\n",
       "    </tr>\n",
       "  </tbody>\n",
       "</table>\n",
       "</div>"
      ],
      "text/plain": [
       "  negative_review   count\n",
       "0     no negative  127890\n",
       "1         nothing   21185\n",
       "2             n a    1815\n",
       "3            none    1501\n",
       "4                     849\n",
       "5  nothing really     656\n",
       "6      small room     570\n",
       "7       breakfast     545\n",
       "8        all good     545\n",
       "9   no complaints     523"
      ]
     },
     "execution_count": 288,
     "metadata": {},
     "output_type": "execute_result"
    }
   ],
   "source": [
    "#check the top results\n",
    "hotels['negative_review'].value_counts().reset_index()[:10]"
   ]
  },
  {
   "cell_type": "code",
   "execution_count": 289,
   "metadata": {},
   "outputs": [],
   "source": [
    "#correct obvious expressions\n",
    "hotels['negative_review'] = hotels['negative_review'].apply(lambda x: x.replace('no negative', 'positive'))\n",
    "hotels['negative_review'] = hotels['negative_review'].apply(lambda x: x.replace('none', 'positive'))\n",
    "hotels['negative_review'] = hotels['negative_review'].apply(lambda x: x.replace('no complains', 'positive'))\n",
    "hotels['negative_review'] = hotels['negative_review'].apply(lambda x: x.replace('nothing to dislike', 'positive'))\n",
    "hotels['negative_review'] = hotels['negative_review'].apply(lambda x: x.replace('nil', 'positive'))\n",
    "hotels['negative_review'] = hotels['negative_review'].apply(lambda x: x.replace('na', 'positive'))\n",
    "hotels['negative_review'] = hotels['negative_review'].apply(lambda x: x.replace('no negatives', 'positive'))\n",
    "hotels['negative_review'] = hotels['negative_review'].apply(lambda x: x.replace('non', 'positive'))\n",
    "hotels['negative_review'] = hotels['negative_review'].apply(lambda x: x.replace('not applicable', 'positive'))\n",
    "hotels['negative_review'] = hotels['negative_review'].apply(lambda x: x.replace('nothing to report', 'positive'))\n",
    "hotels['negative_review'] = hotels['negative_review'].apply(lambda x: x.replace('nothing to mention', 'positive'))\n",
    "hotels['negative_review'] = hotels['negative_review'].apply(lambda x: x.replace('nothing to complain', 'positive'))\n",
    "hotels['negative_review'] = hotels['negative_review'].apply(lambda x: x.replace('no comment', 'positive'))\n",
    "hotels['negative_review'] = hotels['negative_review'].apply(lambda x: x.replace('nothing bad to say', 'positive'))\n",
    "hotels['negative_review'] = hotels['negative_review'].apply(lambda x: x.replace('no dislikes', 'positive'))\n",
    "hotels['negative_review'] = hotels['negative_review'].apply(lambda x: x.replace('nada', 'positive'))"
   ]
  },
  {
   "cell_type": "code",
   "execution_count": 290,
   "metadata": {},
   "outputs": [],
   "source": [
    "#write a function to replace empty cells\n",
    "def replace_neg_empty(x):\n",
    "    y = x['negative_review']\n",
    "    if len(x['negative_review']) == 0:\n",
    "        result = 'positive'\n",
    "    else:\n",
    "        result = y\n",
    "    return result\n",
    "\n",
    "hotels['negative_review'] = hotels.apply(replace_neg_empty, axis=1)"
   ]
  },
  {
   "cell_type": "markdown",
   "metadata": {},
   "source": [
    "Корректировка признака - positive review:"
   ]
  },
  {
   "cell_type": "code",
   "execution_count": 291,
   "metadata": {},
   "outputs": [],
   "source": [
    "#correct the spaces\n",
    "hotels['positive_review'] = hotels['positive_review'].apply(lambda x: x.lower().strip())"
   ]
  },
  {
   "cell_type": "code",
   "execution_count": 292,
   "metadata": {},
   "outputs": [
    {
     "data": {
      "text/html": [
       "<div>\n",
       "<style scoped>\n",
       "    .dataframe tbody tr th:only-of-type {\n",
       "        vertical-align: middle;\n",
       "    }\n",
       "\n",
       "    .dataframe tbody tr th {\n",
       "        vertical-align: top;\n",
       "    }\n",
       "\n",
       "    .dataframe thead th {\n",
       "        text-align: right;\n",
       "    }\n",
       "</style>\n",
       "<table border=\"1\" class=\"dataframe\">\n",
       "  <thead>\n",
       "    <tr style=\"text-align: right;\">\n",
       "      <th></th>\n",
       "      <th>positive_review</th>\n",
       "      <th>count</th>\n",
       "    </tr>\n",
       "  </thead>\n",
       "  <tbody>\n",
       "    <tr>\n",
       "      <th>0</th>\n",
       "      <td>no positive</td>\n",
       "      <td>35946</td>\n",
       "    </tr>\n",
       "    <tr>\n",
       "      <th>1</th>\n",
       "      <td>location</td>\n",
       "      <td>11945</td>\n",
       "    </tr>\n",
       "    <tr>\n",
       "      <th>2</th>\n",
       "      <td>everything</td>\n",
       "      <td>3314</td>\n",
       "    </tr>\n",
       "    <tr>\n",
       "      <th>3</th>\n",
       "      <td>nothing</td>\n",
       "      <td>1731</td>\n",
       "    </tr>\n",
       "    <tr>\n",
       "      <th>4</th>\n",
       "      <td>great location</td>\n",
       "      <td>1687</td>\n",
       "    </tr>\n",
       "    <tr>\n",
       "      <th>5</th>\n",
       "      <td>the location</td>\n",
       "      <td>1606</td>\n",
       "    </tr>\n",
       "    <tr>\n",
       "      <th>6</th>\n",
       "      <td>good location</td>\n",
       "      <td>1496</td>\n",
       "    </tr>\n",
       "    <tr>\n",
       "      <th>7</th>\n",
       "      <td>breakfast</td>\n",
       "      <td>795</td>\n",
       "    </tr>\n",
       "    <tr>\n",
       "      <th>8</th>\n",
       "      <td>friendly staff</td>\n",
       "      <td>733</td>\n",
       "    </tr>\n",
       "    <tr>\n",
       "      <th>9</th>\n",
       "      <td>excellent location</td>\n",
       "      <td>639</td>\n",
       "    </tr>\n",
       "  </tbody>\n",
       "</table>\n",
       "</div>"
      ],
      "text/plain": [
       "      positive_review  count\n",
       "0         no positive  35946\n",
       "1            location  11945\n",
       "2          everything   3314\n",
       "3             nothing   1731\n",
       "4      great location   1687\n",
       "5        the location   1606\n",
       "6       good location   1496\n",
       "7           breakfast    795\n",
       "8      friendly staff    733\n",
       "9  excellent location    639"
      ]
     },
     "execution_count": 292,
     "metadata": {},
     "output_type": "execute_result"
    }
   ],
   "source": [
    "#check the top results\n",
    "hotels['positive_review'].value_counts().reset_index()[:10]"
   ]
  },
  {
   "cell_type": "code",
   "execution_count": 293,
   "metadata": {},
   "outputs": [],
   "source": [
    "#correct obvious expressions\n",
    "hotels['positive_review'] = hotels['positive_review'].apply(lambda x: x.replace('no positive', 'negative'))"
   ]
  },
  {
   "cell_type": "code",
   "execution_count": 294,
   "metadata": {},
   "outputs": [],
   "source": [
    "#write a function to replace empty cells\n",
    "def replace_pos_empty(x):\n",
    "    y = x['positive_review']\n",
    "    if len(x['positive_review']) == 0:\n",
    "        result = 'negative'\n",
    "    else:\n",
    "        result = y\n",
    "    return result\n",
    "\n",
    "hotels['positive_review'] = hotels.apply(replace_pos_empty, axis=1)"
   ]
  },
  {
   "cell_type": "markdown",
   "metadata": {},
   "source": [
    "VADER stands for Valence Aware Dictionary and sEntiment Reasoner. \\\n",
    "It is a rule-based sentiment analyzer. \\\n",
    "It consists of a list of lexical features (e.g. words) which are generally labeled as per their semantic orientation as positive or negative."
   ]
  },
  {
   "cell_type": "code",
   "execution_count": 295,
   "metadata": {},
   "outputs": [],
   "source": [
    "#create two instances\n",
    "negative_sentiment = SentimentIntensityAnalyzer()\n",
    "positive_sentiment = SentimentIntensityAnalyzer()"
   ]
  },
  {
   "cell_type": "code",
   "execution_count": 296,
   "metadata": {},
   "outputs": [],
   "source": [
    "#apply the sentiment intensity\n",
    "hotels['n_score'] = hotels['negative_review'].apply(lambda x: negative_sentiment.polarity_scores(x))\n",
    "hotels['p_score'] = hotels['positive_review'].apply(lambda x: positive_sentiment.polarity_scores(x))"
   ]
  },
  {
   "cell_type": "code",
   "execution_count": 297,
   "metadata": {},
   "outputs": [],
   "source": [
    "#create new features for intensity\n",
    "hotels['n_negative'] = hotels['n_score'].apply(lambda x: x['neg'])\n",
    "hotels['n_neutral'] = hotels['n_score'].apply(lambda x: x['neu'])\n",
    "hotels['n_positive'] = hotels['n_score'].apply(lambda x: x['pos'])\n",
    "hotels['n_compound'] = hotels['n_score'].apply(lambda x: x['compound'])\n",
    "\n",
    "hotels['p_negative'] = hotels['p_score'].apply(lambda x: x['neg'])\n",
    "hotels['p_neutral'] = hotels['p_score'].apply(lambda x: x['neu'])\n",
    "hotels['p_positive'] = hotels['p_score'].apply(lambda x: x['pos'])\n",
    "hotels['p_compound'] = hotels['p_score'].apply(lambda x: x['compound'])"
   ]
  },
  {
   "cell_type": "code",
   "execution_count": 298,
   "metadata": {},
   "outputs": [],
   "source": [
    "#drop unnecessary features\n",
    "hotels = hotels.drop(['review_date', 'negative_review', 'positive_review', 'days_since_review', 'n_score', 'p_score', 'year_month'],\n",
    "                     axis=1, errors='ignore')"
   ]
  },
  {
   "cell_type": "code",
   "execution_count": 299,
   "metadata": {},
   "outputs": [],
   "source": [
    "#rename the columns\n",
    "hotels = hotels.rename(columns={'additional_number_of_scoring': 'add_score',\n",
    "                                'review_total_negative_word_counts': 'negative_word_total',\n",
    "                                'total_number_of_reviews': 'reviews_total',\n",
    "                                'review_total_positive_word_counts': 'positive_word_total',\n",
    "                                'total_number_of_reviews_reviewer_has_given': 'reviewer_total'                                \n",
    "})"
   ]
  },
  {
   "cell_type": "code",
   "execution_count": 300,
   "metadata": {},
   "outputs": [],
   "source": [
    "#convert the data types to reduce memory space\n",
    "hotels['add_score'] = hotels['add_score'].to_numpy('int16')\n",
    "hotels['negative_word_total'] = hotels['negative_word_total'].to_numpy('int16')\n",
    "hotels['reviews_total'] = hotels['reviews_total'].to_numpy('int32')\n",
    "hotels['positive_word_total'] = hotels['positive_word_total'].to_numpy('int16')\n",
    "hotels['reviewer_total'] = hotels['reviewer_total'].to_numpy('int16')\n",
    "\n",
    "hotels['city'] = hotels['city'].astype('string')\n",
    "hotels['country'] = hotels['country'].astype('string')\n",
    "\n",
    "hotels['citizen'] = hotels['citizen'].to_numpy('int8')\n",
    "hotels['c_distance'] = hotels['c_distance'].astype('string')\n",
    "\n",
    "hotels['travel_purpose'] = hotels['travel_purpose'].astype('string')\n",
    "hotels['traveler_type'] = hotels['traveler_type'].astype('string')\n",
    "hotels['room_type'] = hotels['room_type'].astype('string')\n",
    "\n",
    "hotels['travel_purpose_n'] = hotels['travel_purpose_n'].to_numpy('int8')\n",
    "hotels['traveler_type_n'] = hotels['traveler_type_n'].to_numpy('int8')\n",
    "hotels['duration_n'] = hotels['duration_n'].to_numpy('int8')\n",
    "\n",
    "hotels['occupancy_n'] = hotels['occupancy_n'].to_numpy('int8')\n",
    "hotels['bedrooms_n'] = hotels['bedrooms_n'].to_numpy('int8')\n",
    "hotels['layout_n'] = hotels['layout_n'].to_numpy('int8')\n",
    "\n",
    "hotels['days'] = hotels['days'].to_numpy('int16')\n",
    "hotels['review_year'] = hotels['review_year'].to_numpy('int16')\n",
    "hotels['review_month'] = hotels['review_month'].to_numpy('int8')\n",
    "hotels['review_day'] = hotels['review_day'].to_numpy('int16')"
   ]
  },
  {
   "cell_type": "markdown",
   "metadata": {},
   "source": [
    "##### Создание нового признака - reviewer_activity:"
   ]
  },
  {
   "cell_type": "code",
   "execution_count": 301,
   "metadata": {},
   "outputs": [],
   "source": [
    "#logarithmize the feature to show the activity of the reviewer: < less active, > more active\n",
    "hotels['reviewer_activity'] = hotels['reviewer_total'].apply(lambda x: np.log(x + 1))"
   ]
  },
  {
   "cell_type": "markdown",
   "metadata": {},
   "source": [
    "##### Создание нового признака - negative to positive proportion:"
   ]
  },
  {
   "cell_type": "markdown",
   "metadata": {},
   "source": [
    "[Отрицательные отзывы](https://www.inc.com/andrew-thomas/the-hidden-ratio-that-could-make-or-break-your-company.html) важнее положительных. \\\n",
    "Необходимо вычислить [пропорцию](https://math.stackexchange.com/questions/3234398/the-ratio-between-positive-negative-numbers) негативных слов к положительным."
   ]
  },
  {
   "cell_type": "code",
   "execution_count": 302,
   "metadata": {},
   "outputs": [],
   "source": [
    "#set the proportion of negative by positive\n",
    "hotels['neg_to_pos_prop'] = round(((hotels['negative_word_total'] - hotels['positive_word_total']) / hotels['negative_word_total']) * 100, 2)"
   ]
  },
  {
   "cell_type": "code",
   "execution_count": 303,
   "metadata": {},
   "outputs": [],
   "source": [
    "#correct the proportion in instances where positive > negative\n",
    "hotels['neg_to_pos_prop'] = np.where(hotels['neg_to_pos_prop'] == np.inf, 0, hotels['neg_to_pos_prop'])\n",
    "hotels['neg_to_pos_prop'] = np.where(hotels['neg_to_pos_prop'] == -np.inf, 0, hotels['neg_to_pos_prop'])\n",
    "hotels['neg_to_pos_prop'] = np.where(hotels['neg_to_pos_prop'] < 0, 0, hotels['neg_to_pos_prop'])\n",
    "\n",
    "#correct the proportion in instances for division by zero\n",
    "hotels['neg_to_pos_prop'] = np.where(hotels['neg_to_pos_prop'].isna(), 0, hotels['neg_to_pos_prop'])"
   ]
  },
  {
   "cell_type": "code",
   "execution_count": 304,
   "metadata": {},
   "outputs": [],
   "source": [
    "#drop unnecessary features\n",
    "hotels = hotels.drop(['reviewer_total', 'negative_word_total', 'positive_word_total'],\n",
    "                     axis=1, errors='ignore')"
   ]
  },
  {
   "cell_type": "markdown",
   "metadata": {},
   "source": [
    "### Разведывательный Анализ Данных"
   ]
  },
  {
   "cell_type": "markdown",
   "metadata": {},
   "source": [
    "Для экономии памяти графики экспортируются в папку"
   ]
  },
  {
   "cell_type": "markdown",
   "metadata": {},
   "source": [
    "##### Исследуем Мультиколлинеарность:"
   ]
  },
  {
   "cell_type": "code",
   "execution_count": 305,
   "metadata": {},
   "outputs": [],
   "source": [
    "#separate the columns into numerical and categorical features\n",
    "numerical_columns = ['add_score', 'average_score', 'neg_to_pos_prop', 'reviews_total', 'reviewer_activity',\n",
    "                     'reviewer_score', 'distance', 'trgt_encode_year_month',\n",
    "                     'n_negative', 'n_neutral', 'n_positive', 'n_compound',\n",
    "                     'p_negative', 'p_neutral', 'p_positive', 'p_compound']\n",
    "\n",
    "categorical_columns = ['city_code', 'country_code', 'citizen', 'distance_n', 'review_year', 'review_month', 'reviewer_nationality_code',\n",
    "                       'travel_purpose_n', 'traveler_type_n', 'duration_n', 'occupancy_n', 'bedrooms_n', 'layout_n', 'hotel_name_n']"
   ]
  },
  {
   "cell_type": "markdown",
   "metadata": {},
   "source": [
    "Создать корреляционную матрицу для Пирсона:"
   ]
  },
  {
   "cell_type": "code",
   "execution_count": 306,
   "metadata": {},
   "outputs": [
    {
     "data": {
      "text/html": [
       "<div>\n",
       "<style scoped>\n",
       "    .dataframe tbody tr th:only-of-type {\n",
       "        vertical-align: middle;\n",
       "    }\n",
       "\n",
       "    .dataframe tbody tr th {\n",
       "        vertical-align: top;\n",
       "    }\n",
       "\n",
       "    .dataframe thead th {\n",
       "        text-align: right;\n",
       "    }\n",
       "</style>\n",
       "<table border=\"1\" class=\"dataframe\">\n",
       "  <thead>\n",
       "    <tr style=\"text-align: right;\">\n",
       "      <th></th>\n",
       "      <th>add_score</th>\n",
       "      <th>average_score</th>\n",
       "      <th>neg_to_pos_prop</th>\n",
       "      <th>reviews_total</th>\n",
       "      <th>reviewer_activity</th>\n",
       "      <th>reviewer_score</th>\n",
       "      <th>distance</th>\n",
       "      <th>trgt_encode_year_month</th>\n",
       "      <th>n_negative</th>\n",
       "      <th>n_neutral</th>\n",
       "      <th>n_positive</th>\n",
       "      <th>n_compound</th>\n",
       "      <th>p_negative</th>\n",
       "      <th>p_neutral</th>\n",
       "      <th>p_positive</th>\n",
       "      <th>p_compound</th>\n",
       "    </tr>\n",
       "  </thead>\n",
       "  <tbody>\n",
       "    <tr>\n",
       "      <th>add_score</th>\n",
       "      <td>1.000000</td>\n",
       "      <td>-0.152846</td>\n",
       "      <td>0.069835</td>\n",
       "      <td>0.824884</td>\n",
       "      <td>-0.095592</td>\n",
       "      <td>-0.018882</td>\n",
       "      <td>0.163207</td>\n",
       "      <td>0.035949</td>\n",
       "      <td>0.024809</td>\n",
       "      <td>0.044671</td>\n",
       "      <td>-0.049260</td>\n",
       "      <td>-0.047014</td>\n",
       "      <td>0.031119</td>\n",
       "      <td>-0.000346</td>\n",
       "      <td>-0.032202</td>\n",
       "      <td>-0.062140</td>\n",
       "    </tr>\n",
       "    <tr>\n",
       "      <th>average_score</th>\n",
       "      <td>-0.152846</td>\n",
       "      <td>1.000000</td>\n",
       "      <td>-0.198834</td>\n",
       "      <td>-0.179568</td>\n",
       "      <td>0.045577</td>\n",
       "      <td>0.113643</td>\n",
       "      <td>-0.185514</td>\n",
       "      <td>0.010450</td>\n",
       "      <td>-0.101026</td>\n",
       "      <td>-0.121459</td>\n",
       "      <td>0.143936</td>\n",
       "      <td>0.152524</td>\n",
       "      <td>-0.090163</td>\n",
       "      <td>0.001156</td>\n",
       "      <td>0.093129</td>\n",
       "      <td>0.167587</td>\n",
       "    </tr>\n",
       "    <tr>\n",
       "      <th>neg_to_pos_prop</th>\n",
       "      <td>0.069835</td>\n",
       "      <td>-0.198834</td>\n",
       "      <td>1.000000</td>\n",
       "      <td>0.058010</td>\n",
       "      <td>-0.040947</td>\n",
       "      <td>-0.178246</td>\n",
       "      <td>0.050910</td>\n",
       "      <td>-0.019924</td>\n",
       "      <td>0.218055</td>\n",
       "      <td>0.412108</td>\n",
       "      <td>-0.451217</td>\n",
       "      <td>-0.383938</td>\n",
       "      <td>0.531200</td>\n",
       "      <td>-0.287437</td>\n",
       "      <td>-0.234159</td>\n",
       "      <td>-0.546208</td>\n",
       "    </tr>\n",
       "    <tr>\n",
       "      <th>reviews_total</th>\n",
       "      <td>0.824884</td>\n",
       "      <td>-0.179568</td>\n",
       "      <td>0.058010</td>\n",
       "      <td>1.000000</td>\n",
       "      <td>-0.032427</td>\n",
       "      <td>-0.022894</td>\n",
       "      <td>0.098149</td>\n",
       "      <td>0.017286</td>\n",
       "      <td>0.026315</td>\n",
       "      <td>0.040530</td>\n",
       "      <td>-0.045827</td>\n",
       "      <td>-0.045978</td>\n",
       "      <td>0.027180</td>\n",
       "      <td>0.008214</td>\n",
       "      <td>-0.037670</td>\n",
       "      <td>-0.052916</td>\n",
       "    </tr>\n",
       "    <tr>\n",
       "      <th>reviewer_activity</th>\n",
       "      <td>-0.095592</td>\n",
       "      <td>0.045577</td>\n",
       "      <td>-0.040947</td>\n",
       "      <td>-0.032427</td>\n",
       "      <td>1.000000</td>\n",
       "      <td>0.002271</td>\n",
       "      <td>-0.068931</td>\n",
       "      <td>-0.012411</td>\n",
       "      <td>0.004951</td>\n",
       "      <td>0.016863</td>\n",
       "      <td>-0.017280</td>\n",
       "      <td>-0.012078</td>\n",
       "      <td>-0.059205</td>\n",
       "      <td>0.050748</td>\n",
       "      <td>0.005127</td>\n",
       "      <td>0.043093</td>\n",
       "    </tr>\n",
       "    <tr>\n",
       "      <th>reviewer_score</th>\n",
       "      <td>-0.018882</td>\n",
       "      <td>0.113643</td>\n",
       "      <td>-0.178246</td>\n",
       "      <td>-0.022894</td>\n",
       "      <td>0.002271</td>\n",
       "      <td>1.000000</td>\n",
       "      <td>-0.023259</td>\n",
       "      <td>0.015873</td>\n",
       "      <td>-0.081682</td>\n",
       "      <td>-0.094136</td>\n",
       "      <td>0.112566</td>\n",
       "      <td>0.124456</td>\n",
       "      <td>-0.084628</td>\n",
       "      <td>0.009150</td>\n",
       "      <td>0.078373</td>\n",
       "      <td>0.132721</td>\n",
       "    </tr>\n",
       "    <tr>\n",
       "      <th>distance</th>\n",
       "      <td>0.163207</td>\n",
       "      <td>-0.185514</td>\n",
       "      <td>0.050910</td>\n",
       "      <td>0.098149</td>\n",
       "      <td>-0.068931</td>\n",
       "      <td>-0.023259</td>\n",
       "      <td>1.000000</td>\n",
       "      <td>0.013552</td>\n",
       "      <td>0.025144</td>\n",
       "      <td>0.043779</td>\n",
       "      <td>-0.048523</td>\n",
       "      <td>-0.045212</td>\n",
       "      <td>0.028873</td>\n",
       "      <td>-0.003013</td>\n",
       "      <td>-0.026860</td>\n",
       "      <td>-0.040916</td>\n",
       "    </tr>\n",
       "    <tr>\n",
       "      <th>trgt_encode_year_month</th>\n",
       "      <td>0.035949</td>\n",
       "      <td>0.010450</td>\n",
       "      <td>-0.019924</td>\n",
       "      <td>0.017286</td>\n",
       "      <td>-0.012411</td>\n",
       "      <td>0.015873</td>\n",
       "      <td>0.013552</td>\n",
       "      <td>1.000000</td>\n",
       "      <td>-0.011103</td>\n",
       "      <td>0.002669</td>\n",
       "      <td>0.000807</td>\n",
       "      <td>0.010267</td>\n",
       "      <td>-0.009145</td>\n",
       "      <td>-0.018064</td>\n",
       "      <td>0.029823</td>\n",
       "      <td>0.031327</td>\n",
       "    </tr>\n",
       "    <tr>\n",
       "      <th>n_negative</th>\n",
       "      <td>0.024809</td>\n",
       "      <td>-0.101026</td>\n",
       "      <td>0.218055</td>\n",
       "      <td>0.026315</td>\n",
       "      <td>0.004951</td>\n",
       "      <td>-0.081682</td>\n",
       "      <td>0.025144</td>\n",
       "      <td>-0.011103</td>\n",
       "      <td>1.000000</td>\n",
       "      <td>0.058691</td>\n",
       "      <td>-0.352923</td>\n",
       "      <td>-0.614445</td>\n",
       "      <td>0.119514</td>\n",
       "      <td>-0.050062</td>\n",
       "      <td>-0.069055</td>\n",
       "      <td>-0.152340</td>\n",
       "    </tr>\n",
       "    <tr>\n",
       "      <th>n_neutral</th>\n",
       "      <td>0.044671</td>\n",
       "      <td>-0.121459</td>\n",
       "      <td>0.412108</td>\n",
       "      <td>0.040530</td>\n",
       "      <td>0.016863</td>\n",
       "      <td>-0.094136</td>\n",
       "      <td>0.043779</td>\n",
       "      <td>0.002669</td>\n",
       "      <td>0.058691</td>\n",
       "      <td>1.000000</td>\n",
       "      <td>-0.954753</td>\n",
       "      <td>-0.547173</td>\n",
       "      <td>0.133049</td>\n",
       "      <td>-0.017177</td>\n",
       "      <td>-0.120088</td>\n",
       "      <td>-0.159822</td>\n",
       "    </tr>\n",
       "    <tr>\n",
       "      <th>n_positive</th>\n",
       "      <td>-0.049260</td>\n",
       "      <td>0.143936</td>\n",
       "      <td>-0.451217</td>\n",
       "      <td>-0.045827</td>\n",
       "      <td>-0.017280</td>\n",
       "      <td>0.112566</td>\n",
       "      <td>-0.048523</td>\n",
       "      <td>0.000807</td>\n",
       "      <td>-0.352923</td>\n",
       "      <td>-0.954753</td>\n",
       "      <td>1.000000</td>\n",
       "      <td>0.695900</td>\n",
       "      <td>-0.160308</td>\n",
       "      <td>0.031013</td>\n",
       "      <td>0.133127</td>\n",
       "      <td>0.195180</td>\n",
       "    </tr>\n",
       "    <tr>\n",
       "      <th>n_compound</th>\n",
       "      <td>-0.047014</td>\n",
       "      <td>0.152524</td>\n",
       "      <td>-0.383938</td>\n",
       "      <td>-0.045978</td>\n",
       "      <td>-0.012078</td>\n",
       "      <td>0.124456</td>\n",
       "      <td>-0.045212</td>\n",
       "      <td>0.010267</td>\n",
       "      <td>-0.614445</td>\n",
       "      <td>-0.547173</td>\n",
       "      <td>0.695900</td>\n",
       "      <td>1.000000</td>\n",
       "      <td>-0.148358</td>\n",
       "      <td>0.037802</td>\n",
       "      <td>0.113005</td>\n",
       "      <td>0.211761</td>\n",
       "    </tr>\n",
       "    <tr>\n",
       "      <th>p_negative</th>\n",
       "      <td>0.031119</td>\n",
       "      <td>-0.090163</td>\n",
       "      <td>0.531200</td>\n",
       "      <td>0.027180</td>\n",
       "      <td>-0.059205</td>\n",
       "      <td>-0.084628</td>\n",
       "      <td>0.028873</td>\n",
       "      <td>-0.009145</td>\n",
       "      <td>0.119514</td>\n",
       "      <td>0.133049</td>\n",
       "      <td>-0.160308</td>\n",
       "      <td>-0.148358</td>\n",
       "      <td>1.000000</td>\n",
       "      <td>-0.576312</td>\n",
       "      <td>-0.401360</td>\n",
       "      <td>-0.691882</td>\n",
       "    </tr>\n",
       "    <tr>\n",
       "      <th>p_neutral</th>\n",
       "      <td>-0.000346</td>\n",
       "      <td>0.001156</td>\n",
       "      <td>-0.287437</td>\n",
       "      <td>0.008214</td>\n",
       "      <td>0.050748</td>\n",
       "      <td>0.009150</td>\n",
       "      <td>-0.003013</td>\n",
       "      <td>-0.018064</td>\n",
       "      <td>-0.050062</td>\n",
       "      <td>-0.017177</td>\n",
       "      <td>0.031013</td>\n",
       "      <td>0.037802</td>\n",
       "      <td>-0.576312</td>\n",
       "      <td>1.000000</td>\n",
       "      <td>-0.517209</td>\n",
       "      <td>0.030449</td>\n",
       "    </tr>\n",
       "    <tr>\n",
       "      <th>p_positive</th>\n",
       "      <td>-0.032202</td>\n",
       "      <td>0.093129</td>\n",
       "      <td>-0.234159</td>\n",
       "      <td>-0.037670</td>\n",
       "      <td>0.005127</td>\n",
       "      <td>0.078373</td>\n",
       "      <td>-0.026860</td>\n",
       "      <td>0.029823</td>\n",
       "      <td>-0.069055</td>\n",
       "      <td>-0.120088</td>\n",
       "      <td>0.133127</td>\n",
       "      <td>0.113005</td>\n",
       "      <td>-0.401360</td>\n",
       "      <td>-0.517209</td>\n",
       "      <td>1.000000</td>\n",
       "      <td>0.690460</td>\n",
       "    </tr>\n",
       "    <tr>\n",
       "      <th>p_compound</th>\n",
       "      <td>-0.062140</td>\n",
       "      <td>0.167587</td>\n",
       "      <td>-0.546208</td>\n",
       "      <td>-0.052916</td>\n",
       "      <td>0.043093</td>\n",
       "      <td>0.132721</td>\n",
       "      <td>-0.040916</td>\n",
       "      <td>0.031327</td>\n",
       "      <td>-0.152340</td>\n",
       "      <td>-0.159822</td>\n",
       "      <td>0.195180</td>\n",
       "      <td>0.211761</td>\n",
       "      <td>-0.691882</td>\n",
       "      <td>0.030449</td>\n",
       "      <td>0.690460</td>\n",
       "      <td>1.000000</td>\n",
       "    </tr>\n",
       "  </tbody>\n",
       "</table>\n",
       "</div>"
      ],
      "text/plain": [
       "                        add_score  average_score  neg_to_pos_prop  \\\n",
       "add_score                1.000000      -0.152846         0.069835   \n",
       "average_score           -0.152846       1.000000        -0.198834   \n",
       "neg_to_pos_prop          0.069835      -0.198834         1.000000   \n",
       "reviews_total            0.824884      -0.179568         0.058010   \n",
       "reviewer_activity       -0.095592       0.045577        -0.040947   \n",
       "reviewer_score          -0.018882       0.113643        -0.178246   \n",
       "distance                 0.163207      -0.185514         0.050910   \n",
       "trgt_encode_year_month   0.035949       0.010450        -0.019924   \n",
       "n_negative               0.024809      -0.101026         0.218055   \n",
       "n_neutral                0.044671      -0.121459         0.412108   \n",
       "n_positive              -0.049260       0.143936        -0.451217   \n",
       "n_compound              -0.047014       0.152524        -0.383938   \n",
       "p_negative               0.031119      -0.090163         0.531200   \n",
       "p_neutral               -0.000346       0.001156        -0.287437   \n",
       "p_positive              -0.032202       0.093129        -0.234159   \n",
       "p_compound              -0.062140       0.167587        -0.546208   \n",
       "\n",
       "                        reviews_total  reviewer_activity  reviewer_score  \\\n",
       "add_score                    0.824884          -0.095592       -0.018882   \n",
       "average_score               -0.179568           0.045577        0.113643   \n",
       "neg_to_pos_prop              0.058010          -0.040947       -0.178246   \n",
       "reviews_total                1.000000          -0.032427       -0.022894   \n",
       "reviewer_activity           -0.032427           1.000000        0.002271   \n",
       "reviewer_score              -0.022894           0.002271        1.000000   \n",
       "distance                     0.098149          -0.068931       -0.023259   \n",
       "trgt_encode_year_month       0.017286          -0.012411        0.015873   \n",
       "n_negative                   0.026315           0.004951       -0.081682   \n",
       "n_neutral                    0.040530           0.016863       -0.094136   \n",
       "n_positive                  -0.045827          -0.017280        0.112566   \n",
       "n_compound                  -0.045978          -0.012078        0.124456   \n",
       "p_negative                   0.027180          -0.059205       -0.084628   \n",
       "p_neutral                    0.008214           0.050748        0.009150   \n",
       "p_positive                  -0.037670           0.005127        0.078373   \n",
       "p_compound                  -0.052916           0.043093        0.132721   \n",
       "\n",
       "                        distance  trgt_encode_year_month  n_negative  \\\n",
       "add_score               0.163207                0.035949    0.024809   \n",
       "average_score          -0.185514                0.010450   -0.101026   \n",
       "neg_to_pos_prop         0.050910               -0.019924    0.218055   \n",
       "reviews_total           0.098149                0.017286    0.026315   \n",
       "reviewer_activity      -0.068931               -0.012411    0.004951   \n",
       "reviewer_score         -0.023259                0.015873   -0.081682   \n",
       "distance                1.000000                0.013552    0.025144   \n",
       "trgt_encode_year_month  0.013552                1.000000   -0.011103   \n",
       "n_negative              0.025144               -0.011103    1.000000   \n",
       "n_neutral               0.043779                0.002669    0.058691   \n",
       "n_positive             -0.048523                0.000807   -0.352923   \n",
       "n_compound             -0.045212                0.010267   -0.614445   \n",
       "p_negative              0.028873               -0.009145    0.119514   \n",
       "p_neutral              -0.003013               -0.018064   -0.050062   \n",
       "p_positive             -0.026860                0.029823   -0.069055   \n",
       "p_compound             -0.040916                0.031327   -0.152340   \n",
       "\n",
       "                        n_neutral  n_positive  n_compound  p_negative  \\\n",
       "add_score                0.044671   -0.049260   -0.047014    0.031119   \n",
       "average_score           -0.121459    0.143936    0.152524   -0.090163   \n",
       "neg_to_pos_prop          0.412108   -0.451217   -0.383938    0.531200   \n",
       "reviews_total            0.040530   -0.045827   -0.045978    0.027180   \n",
       "reviewer_activity        0.016863   -0.017280   -0.012078   -0.059205   \n",
       "reviewer_score          -0.094136    0.112566    0.124456   -0.084628   \n",
       "distance                 0.043779   -0.048523   -0.045212    0.028873   \n",
       "trgt_encode_year_month   0.002669    0.000807    0.010267   -0.009145   \n",
       "n_negative               0.058691   -0.352923   -0.614445    0.119514   \n",
       "n_neutral                1.000000   -0.954753   -0.547173    0.133049   \n",
       "n_positive              -0.954753    1.000000    0.695900   -0.160308   \n",
       "n_compound              -0.547173    0.695900    1.000000   -0.148358   \n",
       "p_negative               0.133049   -0.160308   -0.148358    1.000000   \n",
       "p_neutral               -0.017177    0.031013    0.037802   -0.576312   \n",
       "p_positive              -0.120088    0.133127    0.113005   -0.401360   \n",
       "p_compound              -0.159822    0.195180    0.211761   -0.691882   \n",
       "\n",
       "                        p_neutral  p_positive  p_compound  \n",
       "add_score               -0.000346   -0.032202   -0.062140  \n",
       "average_score            0.001156    0.093129    0.167587  \n",
       "neg_to_pos_prop         -0.287437   -0.234159   -0.546208  \n",
       "reviews_total            0.008214   -0.037670   -0.052916  \n",
       "reviewer_activity        0.050748    0.005127    0.043093  \n",
       "reviewer_score           0.009150    0.078373    0.132721  \n",
       "distance                -0.003013   -0.026860   -0.040916  \n",
       "trgt_encode_year_month  -0.018064    0.029823    0.031327  \n",
       "n_negative              -0.050062   -0.069055   -0.152340  \n",
       "n_neutral               -0.017177   -0.120088   -0.159822  \n",
       "n_positive               0.031013    0.133127    0.195180  \n",
       "n_compound               0.037802    0.113005    0.211761  \n",
       "p_negative              -0.576312   -0.401360   -0.691882  \n",
       "p_neutral                1.000000   -0.517209    0.030449  \n",
       "p_positive              -0.517209    1.000000    0.690460  \n",
       "p_compound               0.030449    0.690460    1.000000  "
      ]
     },
     "execution_count": 306,
     "metadata": {},
     "output_type": "execute_result"
    }
   ],
   "source": [
    "#create a matrix correlation table by pearson's\n",
    "matrix_corr_p = hotels[numerical_columns].corr(method='pearson')\n",
    "matrix_corr_p"
   ]
  },
  {
   "cell_type": "code",
   "execution_count": 307,
   "metadata": {},
   "outputs": [],
   "source": [
    "#visualise the pearson's correlation\n",
    "fig = px.imshow(matrix_corr_p[matrix_corr_p.abs() >= 0.5],\n",
    "                text_auto=True)\n",
    "\n",
    "#set characteristics\n",
    "fig.update_layout(height=900,\n",
    "                  width=900,\n",
    "                  title_text='Матричная Корреляция между Числовыми Признаками'\n",
    ")\n",
    "\n",
    "#fig.show()\n",
    "\n",
    "#export the graph\n",
    "fig.write_html('plotly_graphs/1.1_pearson_correlation.html')"
   ]
  },
  {
   "cell_type": "code",
   "execution_count": 308,
   "metadata": {},
   "outputs": [],
   "source": [
    "#drop features with multicollinearity\n",
    "hotels = hotels.drop(['add_score'],\n",
    "                     axis=1, errors='ignore')"
   ]
  },
  {
   "cell_type": "markdown",
   "metadata": {},
   "source": [
    "Создать корреляционную матрицу для Спирмена:"
   ]
  },
  {
   "cell_type": "code",
   "execution_count": 309,
   "metadata": {},
   "outputs": [
    {
     "data": {
      "text/html": [
       "<div>\n",
       "<style scoped>\n",
       "    .dataframe tbody tr th:only-of-type {\n",
       "        vertical-align: middle;\n",
       "    }\n",
       "\n",
       "    .dataframe tbody tr th {\n",
       "        vertical-align: top;\n",
       "    }\n",
       "\n",
       "    .dataframe thead th {\n",
       "        text-align: right;\n",
       "    }\n",
       "</style>\n",
       "<table border=\"1\" class=\"dataframe\">\n",
       "  <thead>\n",
       "    <tr style=\"text-align: right;\">\n",
       "      <th></th>\n",
       "      <th>city_code</th>\n",
       "      <th>country_code</th>\n",
       "      <th>citizen</th>\n",
       "      <th>distance_n</th>\n",
       "      <th>review_year</th>\n",
       "      <th>review_month</th>\n",
       "      <th>reviewer_nationality_code</th>\n",
       "      <th>travel_purpose_n</th>\n",
       "      <th>traveler_type_n</th>\n",
       "      <th>duration_n</th>\n",
       "      <th>occupancy_n</th>\n",
       "      <th>bedrooms_n</th>\n",
       "      <th>layout_n</th>\n",
       "      <th>hotel_name_n</th>\n",
       "    </tr>\n",
       "  </thead>\n",
       "  <tbody>\n",
       "    <tr>\n",
       "      <th>city_code</th>\n",
       "      <td>1.000000</td>\n",
       "      <td>1.000000</td>\n",
       "      <td>0.607814</td>\n",
       "      <td>0.216099</td>\n",
       "      <td>0.010453</td>\n",
       "      <td>-0.026917</td>\n",
       "      <td>0.238293</td>\n",
       "      <td>-0.018901</td>\n",
       "      <td>-0.012536</td>\n",
       "      <td>-0.256823</td>\n",
       "      <td>0.076183</td>\n",
       "      <td>0.020949</td>\n",
       "      <td>-0.064187</td>\n",
       "      <td>0.135069</td>\n",
       "    </tr>\n",
       "    <tr>\n",
       "      <th>country_code</th>\n",
       "      <td>1.000000</td>\n",
       "      <td>1.000000</td>\n",
       "      <td>0.607814</td>\n",
       "      <td>0.216099</td>\n",
       "      <td>0.010453</td>\n",
       "      <td>-0.026917</td>\n",
       "      <td>0.238293</td>\n",
       "      <td>-0.018901</td>\n",
       "      <td>-0.012536</td>\n",
       "      <td>-0.256823</td>\n",
       "      <td>0.076183</td>\n",
       "      <td>0.020949</td>\n",
       "      <td>-0.064187</td>\n",
       "      <td>0.135069</td>\n",
       "    </tr>\n",
       "    <tr>\n",
       "      <th>citizen</th>\n",
       "      <td>0.607814</td>\n",
       "      <td>0.607814</td>\n",
       "      <td>1.000000</td>\n",
       "      <td>0.181212</td>\n",
       "      <td>-0.000294</td>\n",
       "      <td>-0.036119</td>\n",
       "      <td>0.461443</td>\n",
       "      <td>0.013971</td>\n",
       "      <td>-0.097791</td>\n",
       "      <td>-0.462294</td>\n",
       "      <td>0.078236</td>\n",
       "      <td>0.009510</td>\n",
       "      <td>-0.053787</td>\n",
       "      <td>0.062592</td>\n",
       "    </tr>\n",
       "    <tr>\n",
       "      <th>distance_n</th>\n",
       "      <td>0.216099</td>\n",
       "      <td>0.216099</td>\n",
       "      <td>0.181212</td>\n",
       "      <td>1.000000</td>\n",
       "      <td>0.010975</td>\n",
       "      <td>-0.007605</td>\n",
       "      <td>0.050178</td>\n",
       "      <td>-0.020358</td>\n",
       "      <td>0.013403</td>\n",
       "      <td>-0.105655</td>\n",
       "      <td>0.033256</td>\n",
       "      <td>0.001519</td>\n",
       "      <td>-0.063501</td>\n",
       "      <td>-0.020707</td>\n",
       "    </tr>\n",
       "    <tr>\n",
       "      <th>review_year</th>\n",
       "      <td>0.010453</td>\n",
       "      <td>0.010453</td>\n",
       "      <td>-0.000294</td>\n",
       "      <td>0.010975</td>\n",
       "      <td>1.000000</td>\n",
       "      <td>-0.583933</td>\n",
       "      <td>0.009135</td>\n",
       "      <td>0.007130</td>\n",
       "      <td>0.043939</td>\n",
       "      <td>-0.004348</td>\n",
       "      <td>-0.001169</td>\n",
       "      <td>-0.007217</td>\n",
       "      <td>0.007172</td>\n",
       "      <td>0.003076</td>\n",
       "    </tr>\n",
       "    <tr>\n",
       "      <th>review_month</th>\n",
       "      <td>-0.026917</td>\n",
       "      <td>-0.026917</td>\n",
       "      <td>-0.036119</td>\n",
       "      <td>-0.007605</td>\n",
       "      <td>-0.583933</td>\n",
       "      <td>1.000000</td>\n",
       "      <td>-0.021414</td>\n",
       "      <td>0.004887</td>\n",
       "      <td>-0.009631</td>\n",
       "      <td>0.022783</td>\n",
       "      <td>0.005850</td>\n",
       "      <td>0.010236</td>\n",
       "      <td>0.004525</td>\n",
       "      <td>-0.007767</td>\n",
       "    </tr>\n",
       "    <tr>\n",
       "      <th>reviewer_nationality_code</th>\n",
       "      <td>0.238293</td>\n",
       "      <td>0.238293</td>\n",
       "      <td>0.461443</td>\n",
       "      <td>0.050178</td>\n",
       "      <td>0.009135</td>\n",
       "      <td>-0.021414</td>\n",
       "      <td>1.000000</td>\n",
       "      <td>0.086217</td>\n",
       "      <td>-0.098452</td>\n",
       "      <td>-0.198234</td>\n",
       "      <td>0.048919</td>\n",
       "      <td>-0.004878</td>\n",
       "      <td>-0.018232</td>\n",
       "      <td>0.020060</td>\n",
       "    </tr>\n",
       "    <tr>\n",
       "      <th>travel_purpose_n</th>\n",
       "      <td>-0.018901</td>\n",
       "      <td>-0.018901</td>\n",
       "      <td>0.013971</td>\n",
       "      <td>-0.020358</td>\n",
       "      <td>0.007130</td>\n",
       "      <td>0.004887</td>\n",
       "      <td>0.086217</td>\n",
       "      <td>1.000000</td>\n",
       "      <td>-0.413038</td>\n",
       "      <td>0.068301</td>\n",
       "      <td>0.113279</td>\n",
       "      <td>-0.018136</td>\n",
       "      <td>0.009130</td>\n",
       "      <td>-0.008390</td>\n",
       "    </tr>\n",
       "    <tr>\n",
       "      <th>traveler_type_n</th>\n",
       "      <td>-0.012536</td>\n",
       "      <td>-0.012536</td>\n",
       "      <td>-0.097791</td>\n",
       "      <td>0.013403</td>\n",
       "      <td>0.043939</td>\n",
       "      <td>-0.009631</td>\n",
       "      <td>-0.098452</td>\n",
       "      <td>-0.413038</td>\n",
       "      <td>1.000000</td>\n",
       "      <td>-0.025870</td>\n",
       "      <td>-0.075679</td>\n",
       "      <td>0.162570</td>\n",
       "      <td>0.000367</td>\n",
       "      <td>-0.002325</td>\n",
       "    </tr>\n",
       "    <tr>\n",
       "      <th>duration_n</th>\n",
       "      <td>-0.256823</td>\n",
       "      <td>-0.256823</td>\n",
       "      <td>-0.462294</td>\n",
       "      <td>-0.105655</td>\n",
       "      <td>-0.004348</td>\n",
       "      <td>0.022783</td>\n",
       "      <td>-0.198234</td>\n",
       "      <td>0.068301</td>\n",
       "      <td>-0.025870</td>\n",
       "      <td>1.000000</td>\n",
       "      <td>-0.008660</td>\n",
       "      <td>-0.010614</td>\n",
       "      <td>0.028553</td>\n",
       "      <td>-0.031382</td>\n",
       "    </tr>\n",
       "    <tr>\n",
       "      <th>occupancy_n</th>\n",
       "      <td>0.076183</td>\n",
       "      <td>0.076183</td>\n",
       "      <td>0.078236</td>\n",
       "      <td>0.033256</td>\n",
       "      <td>-0.001169</td>\n",
       "      <td>0.005850</td>\n",
       "      <td>0.048919</td>\n",
       "      <td>0.113279</td>\n",
       "      <td>-0.075679</td>\n",
       "      <td>-0.008660</td>\n",
       "      <td>1.000000</td>\n",
       "      <td>0.644002</td>\n",
       "      <td>0.016975</td>\n",
       "      <td>-0.022408</td>\n",
       "    </tr>\n",
       "    <tr>\n",
       "      <th>bedrooms_n</th>\n",
       "      <td>0.020949</td>\n",
       "      <td>0.020949</td>\n",
       "      <td>0.009510</td>\n",
       "      <td>0.001519</td>\n",
       "      <td>-0.007217</td>\n",
       "      <td>0.010236</td>\n",
       "      <td>-0.004878</td>\n",
       "      <td>-0.018136</td>\n",
       "      <td>0.162570</td>\n",
       "      <td>-0.010614</td>\n",
       "      <td>0.644002</td>\n",
       "      <td>1.000000</td>\n",
       "      <td>0.001311</td>\n",
       "      <td>-0.011312</td>\n",
       "    </tr>\n",
       "    <tr>\n",
       "      <th>layout_n</th>\n",
       "      <td>-0.064187</td>\n",
       "      <td>-0.064187</td>\n",
       "      <td>-0.053787</td>\n",
       "      <td>-0.063501</td>\n",
       "      <td>0.007172</td>\n",
       "      <td>0.004525</td>\n",
       "      <td>-0.018232</td>\n",
       "      <td>0.009130</td>\n",
       "      <td>0.000367</td>\n",
       "      <td>0.028553</td>\n",
       "      <td>0.016975</td>\n",
       "      <td>0.001311</td>\n",
       "      <td>1.000000</td>\n",
       "      <td>-0.054328</td>\n",
       "    </tr>\n",
       "    <tr>\n",
       "      <th>hotel_name_n</th>\n",
       "      <td>0.135069</td>\n",
       "      <td>0.135069</td>\n",
       "      <td>0.062592</td>\n",
       "      <td>-0.020707</td>\n",
       "      <td>0.003076</td>\n",
       "      <td>-0.007767</td>\n",
       "      <td>0.020060</td>\n",
       "      <td>-0.008390</td>\n",
       "      <td>-0.002325</td>\n",
       "      <td>-0.031382</td>\n",
       "      <td>-0.022408</td>\n",
       "      <td>-0.011312</td>\n",
       "      <td>-0.054328</td>\n",
       "      <td>1.000000</td>\n",
       "    </tr>\n",
       "  </tbody>\n",
       "</table>\n",
       "</div>"
      ],
      "text/plain": [
       "                           city_code  country_code   citizen  distance_n  \\\n",
       "city_code                   1.000000      1.000000  0.607814    0.216099   \n",
       "country_code                1.000000      1.000000  0.607814    0.216099   \n",
       "citizen                     0.607814      0.607814  1.000000    0.181212   \n",
       "distance_n                  0.216099      0.216099  0.181212    1.000000   \n",
       "review_year                 0.010453      0.010453 -0.000294    0.010975   \n",
       "review_month               -0.026917     -0.026917 -0.036119   -0.007605   \n",
       "reviewer_nationality_code   0.238293      0.238293  0.461443    0.050178   \n",
       "travel_purpose_n           -0.018901     -0.018901  0.013971   -0.020358   \n",
       "traveler_type_n            -0.012536     -0.012536 -0.097791    0.013403   \n",
       "duration_n                 -0.256823     -0.256823 -0.462294   -0.105655   \n",
       "occupancy_n                 0.076183      0.076183  0.078236    0.033256   \n",
       "bedrooms_n                  0.020949      0.020949  0.009510    0.001519   \n",
       "layout_n                   -0.064187     -0.064187 -0.053787   -0.063501   \n",
       "hotel_name_n                0.135069      0.135069  0.062592   -0.020707   \n",
       "\n",
       "                           review_year  review_month  \\\n",
       "city_code                     0.010453     -0.026917   \n",
       "country_code                  0.010453     -0.026917   \n",
       "citizen                      -0.000294     -0.036119   \n",
       "distance_n                    0.010975     -0.007605   \n",
       "review_year                   1.000000     -0.583933   \n",
       "review_month                 -0.583933      1.000000   \n",
       "reviewer_nationality_code     0.009135     -0.021414   \n",
       "travel_purpose_n              0.007130      0.004887   \n",
       "traveler_type_n               0.043939     -0.009631   \n",
       "duration_n                   -0.004348      0.022783   \n",
       "occupancy_n                  -0.001169      0.005850   \n",
       "bedrooms_n                   -0.007217      0.010236   \n",
       "layout_n                      0.007172      0.004525   \n",
       "hotel_name_n                  0.003076     -0.007767   \n",
       "\n",
       "                           reviewer_nationality_code  travel_purpose_n  \\\n",
       "city_code                                   0.238293         -0.018901   \n",
       "country_code                                0.238293         -0.018901   \n",
       "citizen                                     0.461443          0.013971   \n",
       "distance_n                                  0.050178         -0.020358   \n",
       "review_year                                 0.009135          0.007130   \n",
       "review_month                               -0.021414          0.004887   \n",
       "reviewer_nationality_code                   1.000000          0.086217   \n",
       "travel_purpose_n                            0.086217          1.000000   \n",
       "traveler_type_n                            -0.098452         -0.413038   \n",
       "duration_n                                 -0.198234          0.068301   \n",
       "occupancy_n                                 0.048919          0.113279   \n",
       "bedrooms_n                                 -0.004878         -0.018136   \n",
       "layout_n                                   -0.018232          0.009130   \n",
       "hotel_name_n                                0.020060         -0.008390   \n",
       "\n",
       "                           traveler_type_n  duration_n  occupancy_n  \\\n",
       "city_code                        -0.012536   -0.256823     0.076183   \n",
       "country_code                     -0.012536   -0.256823     0.076183   \n",
       "citizen                          -0.097791   -0.462294     0.078236   \n",
       "distance_n                        0.013403   -0.105655     0.033256   \n",
       "review_year                       0.043939   -0.004348    -0.001169   \n",
       "review_month                     -0.009631    0.022783     0.005850   \n",
       "reviewer_nationality_code        -0.098452   -0.198234     0.048919   \n",
       "travel_purpose_n                 -0.413038    0.068301     0.113279   \n",
       "traveler_type_n                   1.000000   -0.025870    -0.075679   \n",
       "duration_n                       -0.025870    1.000000    -0.008660   \n",
       "occupancy_n                      -0.075679   -0.008660     1.000000   \n",
       "bedrooms_n                        0.162570   -0.010614     0.644002   \n",
       "layout_n                          0.000367    0.028553     0.016975   \n",
       "hotel_name_n                     -0.002325   -0.031382    -0.022408   \n",
       "\n",
       "                           bedrooms_n  layout_n  hotel_name_n  \n",
       "city_code                    0.020949 -0.064187      0.135069  \n",
       "country_code                 0.020949 -0.064187      0.135069  \n",
       "citizen                      0.009510 -0.053787      0.062592  \n",
       "distance_n                   0.001519 -0.063501     -0.020707  \n",
       "review_year                 -0.007217  0.007172      0.003076  \n",
       "review_month                 0.010236  0.004525     -0.007767  \n",
       "reviewer_nationality_code   -0.004878 -0.018232      0.020060  \n",
       "travel_purpose_n            -0.018136  0.009130     -0.008390  \n",
       "traveler_type_n              0.162570  0.000367     -0.002325  \n",
       "duration_n                  -0.010614  0.028553     -0.031382  \n",
       "occupancy_n                  0.644002  0.016975     -0.022408  \n",
       "bedrooms_n                   1.000000  0.001311     -0.011312  \n",
       "layout_n                     0.001311  1.000000     -0.054328  \n",
       "hotel_name_n                -0.011312 -0.054328      1.000000  "
      ]
     },
     "execution_count": 309,
     "metadata": {},
     "output_type": "execute_result"
    }
   ],
   "source": [
    "#create a matrix correlation table by spearman's\n",
    "matrix_corr_s = hotels[categorical_columns].corr(method='spearman')\n",
    "matrix_corr_s"
   ]
  },
  {
   "cell_type": "code",
   "execution_count": 310,
   "metadata": {},
   "outputs": [],
   "source": [
    "#visualise the spearman's correlation\n",
    "fig = px.imshow(matrix_corr_s[matrix_corr_s.abs() >= 0.5],\n",
    "                text_auto=True)\n",
    "\n",
    "#set characteristics\n",
    "fig.update_layout(height=900,\n",
    "                  width=900,\n",
    "                  title_text='Матричная Корреляция между Категориальными Признаками'\n",
    ")\n",
    "\n",
    "#fig.show()\n",
    "\n",
    "#export the graph\n",
    "fig.write_html('plotly_graphs/1.2_spearman_correlation.html')"
   ]
  },
  {
   "cell_type": "code",
   "execution_count": 311,
   "metadata": {},
   "outputs": [],
   "source": [
    "#drop features with multicollinearity\n",
    "hotels = hotels.drop(['city', 'city_code'],\n",
    "                     axis=1, errors='ignore')"
   ]
  },
  {
   "cell_type": "markdown",
   "metadata": {},
   "source": [
    "#### Влияет ли дата отзыва на среднюю оценку?"
   ]
  },
  {
   "cell_type": "code",
   "execution_count": 312,
   "metadata": {},
   "outputs": [
    {
     "name": "stderr",
     "output_type": "stream",
     "text": [
      "/Library/Frameworks/Python.framework/Versions/3.10/lib/python3.10/site-packages/plotly/express/_core.py:2065: FutureWarning:\n",
      "\n",
      "When grouping with a length-1 list-like, you will need to pass a length-1 tuple to get_group in a future version of pandas. Pass `(name,)` instead of `name` to silence this warning.\n",
      "\n"
     ]
    }
   ],
   "source": [
    "#create a boxplot\n",
    "fig = px.box(\n",
    "    data_frame=hotels,\n",
    "    x='average_score',\n",
    "    y='review_year',\n",
    "    color='review_year',\n",
    "    #set horizontal orientation\n",
    "    orientation='h',\n",
    "    title='Распределение Оценки по Году Рецензии',\n",
    ")\n",
    "\n",
    "#set the title of the axis\n",
    "fig.update_layout(\n",
    "   xaxis_title_text='Оценка',\n",
    "   yaxis_title_text='Год',\n",
    "   showlegend=False\n",
    ")\n",
    "\n",
    "#fig.show()\n",
    "\n",
    "#export the graph\n",
    "fig.write_html('plotly_graphs/2.1_box_rate_by_year.html')"
   ]
  },
  {
   "cell_type": "markdown",
   "metadata": {},
   "source": [
    "**Вывод:** \\\n",
    "Коробчатая диаграмма и мера центральной тенденции не показывает значительную разницу в оценке по дате. \\\n",
    "Нет причины для статистического тестирования."
   ]
  },
  {
   "cell_type": "code",
   "execution_count": 313,
   "metadata": {},
   "outputs": [],
   "source": [
    "#drop uninformative features\n",
    "hotels = hotels.drop(['days', 'review_year', 'review_month', 'review_day'],\n",
    "                     axis=1, errors='ignore')"
   ]
  },
  {
   "cell_type": "markdown",
   "metadata": {},
   "source": [
    "#### Влияет ли расположение отеля на среднюю оценку?"
   ]
  },
  {
   "cell_type": "markdown",
   "metadata": {},
   "source": [
    "т.к. представлены только одни города, только признак страны используется в анализе"
   ]
  },
  {
   "cell_type": "code",
   "execution_count": 314,
   "metadata": {},
   "outputs": [
    {
     "name": "stderr",
     "output_type": "stream",
     "text": [
      "/Library/Frameworks/Python.framework/Versions/3.10/lib/python3.10/site-packages/plotly/express/_core.py:2065: FutureWarning:\n",
      "\n",
      "When grouping with a length-1 list-like, you will need to pass a length-1 tuple to get_group in a future version of pandas. Pass `(name,)` instead of `name` to silence this warning.\n",
      "\n"
     ]
    }
   ],
   "source": [
    "#create a boxplot\n",
    "fig = px.box(\n",
    "    data_frame=hotels,\n",
    "    x='average_score',\n",
    "    y='country',\n",
    "    color='country',\n",
    "    #set horizontal orientation\n",
    "    orientation='h',\n",
    "    title='Распределение Оценки по Стране',\n",
    ")\n",
    "\n",
    "#set the title of the axis\n",
    "fig.update_layout(\n",
    "   xaxis_title_text='Оценка',\n",
    "   yaxis_title_text='Страна',\n",
    "   showlegend=False\n",
    ")\n",
    "\n",
    "#fig.show()\n",
    "\n",
    "#export the graph\n",
    "fig.write_html('plotly_graphs/3.1_box_rate_by_country.html')"
   ]
  },
  {
   "cell_type": "code",
   "execution_count": 315,
   "metadata": {},
   "outputs": [],
   "source": [
    "#group by country\n",
    "mean_rate_by_country = hotels.groupby(by='country')[['average_score']].mean()\n",
    "\n",
    "#create a bar chart\n",
    "fig = px.bar(\n",
    "    data_frame=mean_rate_by_country,\n",
    "    x=mean_rate_by_country.index,\n",
    "    y='average_score',\n",
    "    color='average_score',\n",
    "    width=750,\n",
    "    height=500,\n",
    "    color_continuous_scale = 'brwnyl',\n",
    "    #color_discrete_sequence=['olive'],\n",
    "    title='Распределение Средней Оценки по Стране',\n",
    ")\n",
    "\n",
    "#set the title of the axis and y-axis limits\n",
    "fig.update_layout(\n",
    "    xaxis_title_text='Страна',\n",
    "    yaxis_title_text='Оценка',\n",
    "    yaxis_range=[8, 8.6]\n",
    ")\n",
    "\n",
    "#fig.show()\n",
    "\n",
    "#export the graph\n",
    "fig.write_html('plotly_graphs/3.2_bar_mean_rate_by_country.html')"
   ]
  },
  {
   "cell_type": "markdown",
   "metadata": {},
   "source": [
    "**Вывод:** \\\n",
    "Коробчатая диаграмма показывает небольшую разницу в оценке. \\\n",
    "Однако, чтобы определить, являются ли эти различия статистически значимыми необходимо статистическое тестирование."
   ]
  },
  {
   "cell_type": "markdown",
   "metadata": {},
   "source": [
    "#### Влияет ли статус рецензента на среднюю оценку?"
   ]
  },
  {
   "cell_type": "code",
   "execution_count": 316,
   "metadata": {},
   "outputs": [],
   "source": [
    "#create a pie chart\n",
    "fig = px.pie(hotels,\n",
    "             labels=hotels['citizen'].value_counts().index,\n",
    "             values=hotels['citizen'].value_counts().values,\n",
    "             height=450,\n",
    "             width=500,\n",
    "             title='Распределение Рецензентов по Гражданству',\n",
    ")\n",
    "\n",
    "#fig.show()\n",
    "\n",
    "#export the graph\n",
    "fig.write_html('plotly_graphs/4.1_pie_by_citizen.html')"
   ]
  },
  {
   "cell_type": "code",
   "execution_count": 317,
   "metadata": {},
   "outputs": [
    {
     "name": "stderr",
     "output_type": "stream",
     "text": [
      "/Library/Frameworks/Python.framework/Versions/3.10/lib/python3.10/site-packages/plotly/express/_core.py:2065: FutureWarning:\n",
      "\n",
      "When grouping with a length-1 list-like, you will need to pass a length-1 tuple to get_group in a future version of pandas. Pass `(name,)` instead of `name` to silence this warning.\n",
      "\n"
     ]
    }
   ],
   "source": [
    "#create a boxplot\n",
    "fig = px.box(\n",
    "    data_frame=hotels,\n",
    "    x='average_score',\n",
    "    y='citizen',\n",
    "    color='citizen',\n",
    "    #set horizontal orientation\n",
    "    orientation='h',\n",
    "    title='Распределение Оценки',\n",
    ")\n",
    "\n",
    "#set the title of the axis\n",
    "fig.update_layout(\n",
    "   xaxis_title_text='Оценка',\n",
    "   yaxis_title_text='Гражданин',\n",
    "   showlegend=False\n",
    ")\n",
    "\n",
    "#fig.show()\n",
    "\n",
    "#export the graph\n",
    "fig.write_html('plotly_graphs/4.2_box_rate_by_citizen.html')"
   ]
  },
  {
   "cell_type": "markdown",
   "metadata": {},
   "source": [
    "**Вывод:** \\\n",
    "Коробчатая диаграмма показывает небольшую разницу в оценке. \\\n",
    "Однако, чтобы определить, являются ли эти различия статистически значимыми необходимо статистическое тестирование."
   ]
  },
  {
   "cell_type": "markdown",
   "metadata": {},
   "source": [
    "#### Расстояние от центра города влияет на среднюю оценку?"
   ]
  },
  {
   "cell_type": "code",
   "execution_count": 318,
   "metadata": {},
   "outputs": [],
   "source": [
    "#create a scatter graph\n",
    "fig = px.scatter(hotels,\n",
    "                 x='distance',\n",
    "                 y='average_score',\n",
    "                 title='Распределение Средней Оценки по Расстоянию от Центра Города'\n",
    ")\n",
    "\n",
    "#set the title of the axis\n",
    "fig.update_layout(\n",
    "   xaxis_title_text='Расстояние (в км)',\n",
    "   yaxis_title_text='Оценка',\n",
    "   showlegend=False\n",
    ")\n",
    "\n",
    "#fig.show()\n",
    "\n",
    "#export the graph\n",
    "fig.write_html('plotly_graphs/5.1_scatter_rate_by_distance.html')"
   ]
  },
  {
   "cell_type": "code",
   "execution_count": 319,
   "metadata": {},
   "outputs": [],
   "source": [
    "#group by country\n",
    "mean_rate_by_distance = hotels.groupby(by='c_distance')[['average_score']].mean()\n",
    "\n",
    "#create a bar chart\n",
    "fig = px.bar(\n",
    "    data_frame=mean_rate_by_distance,\n",
    "    x=mean_rate_by_distance.index,\n",
    "    y='average_score',\n",
    "    color='average_score',\n",
    "    width=750,\n",
    "    height=500,\n",
    "    color_continuous_scale = 'viridis',\n",
    "    #color_discrete_sequence=['salmon'],\n",
    "    title='Распределение Средней Оценки по Расстоянию от Центра Города',\n",
    ")\n",
    "\n",
    "#set the title of the axis and y-axis limits\n",
    "fig.update_layout(\n",
    "    xaxis_title_text='Расстояние',\n",
    "    yaxis_title_text='Оценка',\n",
    "    yaxis_range=[8, 8.7]\n",
    ")\n",
    "\n",
    "#fig.show()\n",
    "\n",
    "#export the graph\n",
    "fig.write_html('plotly_graphs/5.2_bar_mean_rate_by_distance_in_category.html')"
   ]
  },
  {
   "cell_type": "markdown",
   "metadata": {},
   "source": [
    "**Вывод:** \\\n",
    "Диаграмма рассеяния и гистограмма показывают разницу в оценке: в среднем, чем ближе отель от центра города, тем выше средний балл. \\\n",
    "Однако, чтобы определить, являются ли эти различия статистически значимыми необходимо статистическое тестирование."
   ]
  },
  {
   "cell_type": "markdown",
   "metadata": {},
   "source": [
    "#### Влияет ли тип поездки на среднюю оценку?"
   ]
  },
  {
   "cell_type": "code",
   "execution_count": 320,
   "metadata": {},
   "outputs": [
    {
     "name": "stderr",
     "output_type": "stream",
     "text": [
      "/Library/Frameworks/Python.framework/Versions/3.10/lib/python3.10/site-packages/plotly/express/_core.py:2065: FutureWarning:\n",
      "\n",
      "When grouping with a length-1 list-like, you will need to pass a length-1 tuple to get_group in a future version of pandas. Pass `(name,)` instead of `name` to silence this warning.\n",
      "\n"
     ]
    }
   ],
   "source": [
    "#create a boxplot\n",
    "fig = px.box(\n",
    "    data_frame=hotels,\n",
    "    x='average_score',\n",
    "    y='travel_purpose',\n",
    "    color='travel_purpose',\n",
    "    #set horizontal orientation\n",
    "    orientation='h',\n",
    "    title='Распределение Оценки',\n",
    ")\n",
    "\n",
    "#set the title of the axis\n",
    "fig.update_layout(\n",
    "   xaxis_title_text='Оценка',\n",
    "   yaxis_title_text='Тип Поездки',\n",
    "   showlegend=False\n",
    ")\n",
    "\n",
    "#fig.show()\n",
    "\n",
    "#export the graph\n",
    "fig.write_html('plotly_graphs/6.1_box_rate_by_travel_purpose.html')"
   ]
  },
  {
   "cell_type": "markdown",
   "metadata": {},
   "source": [
    "**Вывод:** \\\n",
    "Коробчатая диаграмма показывает небольшую разницу в оценке. \\\n",
    "Однако, чтобы определить, являются ли эти различия статистически значимыми необходимо статистическое тестирование."
   ]
  },
  {
   "cell_type": "markdown",
   "metadata": {},
   "source": [
    "#### Влияет ли тип путешественника на среднюю оценку?"
   ]
  },
  {
   "cell_type": "code",
   "execution_count": 321,
   "metadata": {},
   "outputs": [],
   "source": [
    "#group by country\n",
    "mean_rate_by_traveler = hotels.groupby(by='traveler_type')[['average_score']].mean()\n",
    "\n",
    "#create a bar chart\n",
    "fig = px.bar(\n",
    "    data_frame=mean_rate_by_traveler,\n",
    "    x=mean_rate_by_traveler.index,\n",
    "    y='average_score',\n",
    "    color='average_score',\n",
    "    width=800,\n",
    "    height=650,\n",
    "    color_continuous_scale = 'ylgn',\n",
    "    title='Распределение Средней Оценки по Путешественнику',\n",
    ")\n",
    "\n",
    "#set the title of the axis and y-axis limits\n",
    "fig.update_layout(\n",
    "    xaxis_title_text='Тип Путешественника',\n",
    "    yaxis_title_text='Оценка',\n",
    "    yaxis_range=[8, 8.5]\n",
    ")\n",
    "\n",
    "#fig.show()\n",
    "\n",
    "#export the graph\n",
    "fig.write_html('plotly_graphs/7.1_bar_mean_rate_by_traveler.html')"
   ]
  },
  {
   "cell_type": "markdown",
   "metadata": {},
   "source": [
    "**Вывод:** \\\n",
    "Коробчатая диаграмма показывает небольшую разницу в оценке. \\\n",
    "Однако, чтобы определить, являются ли эти различия статистически значимыми необходимо статистическое тестирование."
   ]
  },
  {
   "cell_type": "markdown",
   "metadata": {},
   "source": [
    "#### Влияет ли продолжительность пребывания на оценку?"
   ]
  },
  {
   "cell_type": "code",
   "execution_count": 322,
   "metadata": {},
   "outputs": [],
   "source": [
    "#group by country\n",
    "mean_rate_by_duration = hotels.groupby(by='duration_n')[['average_score']].mean()\n",
    "\n",
    "#create a bar chart\n",
    "fig = px.bar(\n",
    "    data_frame=mean_rate_by_duration,\n",
    "    x=mean_rate_by_duration.index,\n",
    "    y='average_score',\n",
    "    color='average_score',\n",
    "    width=800,\n",
    "    height=650,\n",
    "    color_continuous_scale = 'plasma',\n",
    "    title='Распределение Средней Оценки по Пребыванию',\n",
    ")\n",
    "\n",
    "#set the title of the axis and y-axis limits\n",
    "fig.update_layout(\n",
    "    xaxis_title_text='Пребывание (в днях)',\n",
    "    yaxis_title_text='Оценка',\n",
    "    yaxis_range=[7.5, 8.7]\n",
    ")\n",
    "\n",
    "#fig.show()\n",
    "\n",
    "#export the graph\n",
    "fig.write_html('plotly_graphs/8.1_bar_mean_rate_by_duration.html')"
   ]
  },
  {
   "cell_type": "markdown",
   "metadata": {},
   "source": [
    "**Вывод:** \\\n",
    "Коробчатая диаграмма показывает небольшую разницу в оценке. \\\n",
    "Однако, чтобы определить, являются ли эти различия статистически значимыми необходимо статистическое тестирование."
   ]
  },
  {
   "cell_type": "markdown",
   "metadata": {},
   "source": [
    "#### Влияет ли тип комнаты на оценку?"
   ]
  },
  {
   "cell_type": "markdown",
   "metadata": {},
   "source": [
    "По размещению:"
   ]
  },
  {
   "cell_type": "code",
   "execution_count": 323,
   "metadata": {},
   "outputs": [],
   "source": [
    "#occupancy_n is a numerical feature, thus need to filter by occupancy for easier visualization\n",
    "single_room = hotels[hotels['occupancy_n'] == 1]\n",
    "double_room = hotels[hotels['occupancy_n'] == 2]\n",
    "triple_room = hotels[hotels['occupancy_n'] == 3]\n",
    "quad_room = hotels[hotels['occupancy_n'] == 4]\n",
    "other_o_room = hotels[hotels['occupancy_n'] == 5]\n",
    "\n",
    "#create side-by-side plots\n",
    "fig = make_subplots(rows=5, cols=1)\n",
    "\n",
    "#first graph\n",
    "fig.add_trace(\n",
    "    go.Box(x=single_room['average_score'], name='Single'),\n",
    "    row=1, col=1\n",
    ")\n",
    "\n",
    "#set the same axis limits\n",
    "fig.update_xaxes(range=[5, 10])\n",
    "\n",
    "\n",
    "#second graph\n",
    "fig.add_trace(\n",
    "    go.Box(x=double_room['average_score'], name='Double'),\n",
    "    row=2, col=1\n",
    ")\n",
    "\n",
    "#set the same axis limits\n",
    "fig.update_xaxes(range=[5, 10])\n",
    "\n",
    "\n",
    "#third graph\n",
    "fig.add_trace(\n",
    "    go.Box(x=triple_room['average_score'], name='Triple'),\n",
    "    row=3, col=1\n",
    ")\n",
    "\n",
    "#set the same axis limits\n",
    "fig.update_xaxes(range=[5, 10])\n",
    "\n",
    "\n",
    "#fourth graph\n",
    "fig.add_trace(\n",
    "    go.Box(x=quad_room['average_score'], name='Quad'),\n",
    "    row=4, col=1\n",
    ")\n",
    "\n",
    "#set the same axis limits\n",
    "fig.update_xaxes(range=[5, 10])\n",
    "\n",
    "\n",
    "#fifth graph\n",
    "fig.add_trace(\n",
    "    go.Box(x=other_o_room['average_score'], name='Other Occupancy Types'),\n",
    "    row=5, col=1\n",
    ")\n",
    "\n",
    "#set the same axis limits\n",
    "fig.update_xaxes(range=[5, 10])\n",
    "\n",
    "\n",
    "#set characteristics\n",
    "fig.update_layout(height=800,\n",
    "                  width=1100,\n",
    "                  showlegend=False,\n",
    "                  title_text='Распределение Оценки по Размещению Комнаты'\n",
    ")\n",
    "\n",
    "#fig.show()\n",
    "\n",
    "#export the graph\n",
    "fig.write_html('plotly_graphs/9.1_rate_by_occupancy_room.html')"
   ]
  },
  {
   "cell_type": "markdown",
   "metadata": {},
   "source": [
    "По типу кровати:"
   ]
  },
  {
   "cell_type": "code",
   "execution_count": 324,
   "metadata": {},
   "outputs": [],
   "source": [
    "#bedrooms_n is a numerical feature, thus need to filter by bed type for easier visualization\n",
    "bed_double = hotels[hotels['bedrooms_n'] == 1]\n",
    "bed_twin = hotels[hotels['bedrooms_n'] == 2]\n",
    "bed_queen = hotels[hotels['bedrooms_n'] == 3]\n",
    "bed_king = hotels[hotels['bedrooms_n'] == 4]\n",
    "bed_studio = hotels[hotels['bedrooms_n'] == 5]\n",
    "other_b_room = hotels[hotels['bedrooms_n'] == 6]\n",
    "\n",
    "#create side-by-side plots\n",
    "fig = make_subplots(rows=6, cols=1)\n",
    "\n",
    "#first graph\n",
    "fig.add_trace(\n",
    "    go.Box(x=bed_double['average_score'], name='Double Bed'),\n",
    "    row=1, col=1\n",
    ")\n",
    "\n",
    "#set the same axis limits\n",
    "fig.update_xaxes(range=[5, 10])\n",
    "\n",
    "\n",
    "#second graph\n",
    "fig.add_trace(\n",
    "    go.Box(x=bed_twin['average_score'], name='Twin Bed'),\n",
    "    row=2, col=1\n",
    ")\n",
    "\n",
    "#set the same axis limits\n",
    "fig.update_xaxes(range=[5, 10])\n",
    "\n",
    "\n",
    "#third graph\n",
    "fig.add_trace(\n",
    "    go.Box(x=bed_queen['average_score'], name='Queen Bed'),\n",
    "    row=3, col=1\n",
    ")\n",
    "\n",
    "#set the same axis limits\n",
    "fig.update_xaxes(range=[5, 10])\n",
    "\n",
    "\n",
    "#fourth graph\n",
    "fig.add_trace(\n",
    "    go.Box(x=bed_king['average_score'], name='King Bed'),\n",
    "    row=4, col=1\n",
    ")\n",
    "\n",
    "#set the same axis limits\n",
    "fig.update_xaxes(range=[5, 10])\n",
    "\n",
    "\n",
    "#fifth graph\n",
    "fig.add_trace(\n",
    "    go.Box(x=bed_studio['average_score'], name='Studio Bed'),\n",
    "    row=5, col=1\n",
    ")\n",
    "\n",
    "#set the same axis limits\n",
    "fig.update_xaxes(range=[5, 10])\n",
    "\n",
    "\n",
    "#sixth graph\n",
    "fig.add_trace(\n",
    "    go.Box(x=other_b_room['average_score'], name='Other Bed Types'),\n",
    "    row=6, col=1\n",
    ")\n",
    "\n",
    "#set the same axis limits\n",
    "fig.update_xaxes(range=[5, 10])\n",
    "\n",
    "\n",
    "#set characteristics\n",
    "fig.update_layout(height=800,\n",
    "                  width=1100,\n",
    "                  showlegend=False,\n",
    "                  title_text='Распределение Оценки по Типу Кровати'\n",
    ")\n",
    "\n",
    "#fig.show()\n",
    "\n",
    "#export the graph\n",
    "fig.write_html('plotly_graphs/9.2_rate_by_bedtype.html')"
   ]
  },
  {
   "cell_type": "markdown",
   "metadata": {},
   "source": [
    "По планировки комнаты / макету:"
   ]
  },
  {
   "cell_type": "code",
   "execution_count": 325,
   "metadata": {},
   "outputs": [],
   "source": [
    "#layout_n is a numerical feature, thus need to filter by layout for easier visualization\n",
    "standard_room = hotels[hotels['layout_n'] == 1]\n",
    "deluxe_room = hotels[hotels['layout_n'] == 2]\n",
    "joint_room = hotels[hotels['layout_n'] == 3]\n",
    "connecting_room = hotels[hotels['layout_n'] == 4]\n",
    "\n",
    "suite_room = hotels[hotels['layout_n'] == 5]\n",
    "apartment_room = hotels[hotels['layout_n'] == 6]\n",
    "accessible_room = hotels[hotels['layout_n'] == 7]\n",
    "other_l_room = hotels[hotels['layout_n'] == 8]\n",
    "\n",
    "#create side-by-side plots\n",
    "fig = make_subplots(rows=4, cols=2)\n",
    "\n",
    "#1st graph\n",
    "fig.add_trace(\n",
    "    go.Box(x=standard_room['average_score'], name='Standard'),\n",
    "    row=1, col=1\n",
    ")\n",
    "\n",
    "#set the same axis limits\n",
    "fig.update_xaxes(range=[6.5, 10])\n",
    "\n",
    "\n",
    "#2nd graph\n",
    "fig.add_trace(\n",
    "    go.Box(x=deluxe_room['average_score'], name='Deluxe'),\n",
    "    row=1, col=2\n",
    ")\n",
    "\n",
    "#set the same axis limits\n",
    "fig.update_xaxes(range=[6.5, 10])\n",
    "\n",
    "\n",
    "#3rd graph\n",
    "fig.add_trace(\n",
    "    go.Box(x=joint_room['average_score'], name='Joint'),\n",
    "    row=2, col=1\n",
    ")\n",
    "\n",
    "#set the same axis limits\n",
    "fig.update_xaxes(range=[6.5, 10])\n",
    "\n",
    "\n",
    "#4th graph\n",
    "fig.add_trace(\n",
    "    go.Box(x=connecting_room['average_score'], name='Connecting'),\n",
    "    row=2, col=2\n",
    ")\n",
    "\n",
    "#set the same axis limits\n",
    "fig.update_xaxes(range=[6.5, 10])\n",
    "\n",
    "\n",
    "#5th graph\n",
    "fig.add_trace(\n",
    "    go.Box(x=suite_room['average_score'], name='Suite'),\n",
    "    row=3, col=1\n",
    ")\n",
    "\n",
    "#set the same axis limits\n",
    "fig.update_xaxes(range=[6.5, 10])\n",
    "\n",
    "\n",
    "#6th graph\n",
    "fig.add_trace(\n",
    "    go.Box(x=apartment_room['average_score'], name='Apartment'),\n",
    "    row=3, col=2\n",
    ")\n",
    "\n",
    "#set the same axis limits\n",
    "fig.update_xaxes(range=[6.5, 10])\n",
    "\n",
    "\n",
    "#7th graph\n",
    "fig.add_trace(\n",
    "    go.Box(x=accessible_room['average_score'], name='Accessible'),\n",
    "    row=4, col=1\n",
    ")\n",
    "\n",
    "#set the same axis limits\n",
    "fig.update_xaxes(range=[6.5, 10])\n",
    "\n",
    "\n",
    "#8th graph\n",
    "fig.add_trace(\n",
    "    go.Box(x=other_l_room['average_score'], name='Other Layout Rooms'),\n",
    "    row=4, col=2\n",
    ")\n",
    "\n",
    "#set the same axis limits\n",
    "fig.update_xaxes(range=[6.5, 10])\n",
    "\n",
    "\n",
    "#set characteristics\n",
    "fig.update_layout(height=800,\n",
    "                  width=1100,\n",
    "                  showlegend=False,\n",
    "                  title_text='Распределение Оценки по Макету Комнаты'\n",
    ")\n",
    "\n",
    "#fig.show()\n",
    "\n",
    "#export the graph\n",
    "fig.write_html('plotly_graphs/9.3_rate_by_layout_room.html')"
   ]
  },
  {
   "cell_type": "markdown",
   "metadata": {},
   "source": [
    "**Вывод:** \\\n",
    "Коробчатая диаграмма показывает небольшую разницу в оценке. \\\n",
    "Однако, чтобы определить, являются ли эти различия статистически значимыми необходимо статистическое тестирование."
   ]
  },
  {
   "cell_type": "markdown",
   "metadata": {},
   "source": [
    "#### Влияет ли соотношение отрицательного и положительного в обзоре на оценку?"
   ]
  },
  {
   "cell_type": "code",
   "execution_count": 326,
   "metadata": {},
   "outputs": [],
   "source": [
    "#create a histogram\n",
    "#remove outliers at 0 (for likely positive > negative) and 100 (for all negative)\n",
    "fig = px.histogram(hotels[(hotels['neg_to_pos_prop'] != 0) & (hotels['neg_to_pos_prop'] != 100)],\n",
    "                   x='neg_to_pos_prop',\n",
    "                   color_discrete_sequence=['brown'],\n",
    "                   title='Распределение по Соотношению Отрицательного к Положительному в Обзоре'\n",
    ")\n",
    "\n",
    "#set the title of the axis\n",
    "fig.update_layout(\n",
    "    xaxis_title_text='Соотношение',\n",
    "    yaxis_title_text='Количество',\n",
    ")\n",
    "\n",
    "#fig.show()\n",
    "\n",
    "#export the graph\n",
    "fig.write_html('plotly_graphs/10.1_histogram_rate_by_proportion.html')"
   ]
  },
  {
   "cell_type": "code",
   "execution_count": 327,
   "metadata": {},
   "outputs": [],
   "source": [
    "#filter by proportion\n",
    "likely_positive = hotels[hotels['neg_to_pos_prop'] == 0]\n",
    "zero_two_five = hotels[(hotels['neg_to_pos_prop'] > 0) & (hotels['neg_to_pos_prop'] < 25)]\n",
    "two_five_five_zero = hotels[(hotels['neg_to_pos_prop'] >= 25) & (hotels['neg_to_pos_prop'] < 50)]\n",
    "five_zero_seven_five = hotels[(hotels['neg_to_pos_prop'] >= 50) & (hotels['neg_to_pos_prop'] < 75)]\n",
    "seven_five_hundred = hotels[(hotels['neg_to_pos_prop'] >= 75) & (hotels['neg_to_pos_prop'] < 100)]\n",
    "all_negative = hotels[hotels['neg_to_pos_prop'] == 100]\n",
    "\n",
    "#create side-by-side plots\n",
    "fig = make_subplots(rows=3, cols=2)\n",
    "\n",
    "#1st graph\n",
    "fig.add_trace(\n",
    "    go.Box(x=likely_positive['average_score'], name='0%'),\n",
    "    row=1, col=1\n",
    ")\n",
    "\n",
    "#set the same axis limits\n",
    "fig.update_xaxes(range=[6.85, 10])\n",
    "\n",
    "\n",
    "#2nd graph\n",
    "fig.add_trace(\n",
    "    go.Box(x=zero_two_five['average_score'], name='0-25%'),\n",
    "    row=1, col=2\n",
    ")\n",
    "\n",
    "#set the same axis limits\n",
    "fig.update_xaxes(range=[6.85, 10])\n",
    "\n",
    "\n",
    "#3rd graph\n",
    "fig.add_trace(\n",
    "    go.Box(x=two_five_five_zero['average_score'], name='25-50%'),\n",
    "    row=2, col=1\n",
    ")\n",
    "\n",
    "#set the same axis limits\n",
    "fig.update_xaxes(range=[6.85, 10])\n",
    "\n",
    "\n",
    "#4th graph\n",
    "fig.add_trace(\n",
    "    go.Box(x=five_zero_seven_five['average_score'], name='50-75%'),\n",
    "    row=2, col=2\n",
    ")\n",
    "\n",
    "#set the same axis limits\n",
    "fig.update_xaxes(range=[6.85, 10])\n",
    "\n",
    "\n",
    "#5th graph\n",
    "fig.add_trace(\n",
    "    go.Box(x=seven_five_hundred['average_score'], name='75-100%'),\n",
    "    row=3, col=1\n",
    ")\n",
    "\n",
    "#set the same axis limits\n",
    "fig.update_xaxes(range=[6.85, 10])\n",
    "\n",
    "\n",
    "#6th graph\n",
    "fig.add_trace(\n",
    "    go.Box(x=all_negative['average_score'], name='100%'),\n",
    "    row=3, col=2\n",
    ")\n",
    "\n",
    "#set the same axis limits\n",
    "fig.update_xaxes(range=[6.85, 10])\n",
    "\n",
    "\n",
    "#set characteristics\n",
    "fig.update_layout(height=800,\n",
    "                  width=1100,\n",
    "                  showlegend=False,\n",
    "                  title_text='Распределение Оценки по Соотношению Отрицательного к Положительному в Обзоре'\n",
    ")\n",
    "\n",
    "#fig.show()\n",
    "\n",
    "#export the graph\n",
    "fig.write_html('plotly_graphs/10.2_box_rate_by_proportion.html')"
   ]
  },
  {
   "cell_type": "markdown",
   "metadata": {},
   "source": [
    "**Вывод:** \\\n",
    "По коробчатой диаграмме сложно определить, необходимо статистическое тестирование."
   ]
  },
  {
   "cell_type": "markdown",
   "metadata": {},
   "source": [
    "#### Влияют ли слова, использованные в обзоре, на общую оценку рецензента?"
   ]
  },
  {
   "cell_type": "markdown",
   "metadata": {},
   "source": [
    "Анализ Отрицательного Отзыва:"
   ]
  },
  {
   "cell_type": "code",
   "execution_count": 328,
   "metadata": {},
   "outputs": [],
   "source": [
    "#create a scatter 3d graph\n",
    "fig = px.scatter_3d(\n",
    "    data_frame=hotels,\n",
    "    x = 'n_positive',\n",
    "    y = 'n_negative',\n",
    "    z = 'reviewer_score',\n",
    "    color='reviewer_score',\n",
    "    width=1000,\n",
    "    height=800,\n",
    "    title='Анализ Чувствительности Отрицательного Отзыва с Оценкой Рецензента'\n",
    ")\n",
    "\n",
    "#set the title of the axis\n",
    "fig.update_layout(\n",
    "    scene=dict(\n",
    "        xaxis_title='Положительная',\n",
    "        yaxis_title='Отрицательная',\n",
    "        zaxis_title='Оценка Рецензента'\n",
    "    ),\n",
    ")\n",
    "\n",
    "#fig.show()\n",
    "\n",
    "#export the graph\n",
    "fig.write_html('plotly_graphs/11.1_scatter3d_score_by_neg_sensitivity.html')"
   ]
  },
  {
   "cell_type": "markdown",
   "metadata": {},
   "source": [
    "Анализ Положительного Отзыва:"
   ]
  },
  {
   "cell_type": "code",
   "execution_count": 329,
   "metadata": {},
   "outputs": [],
   "source": [
    "#create a scatter 3d graph\n",
    "fig = px.scatter_3d(\n",
    "    data_frame=hotels,\n",
    "    x = 'p_positive',\n",
    "    y = 'p_negative',\n",
    "    z = 'reviewer_score',\n",
    "    color='reviewer_score',\n",
    "    width=1000,\n",
    "    height=800,\n",
    "    title='Анализ Чувствительности Положительного Отзыва с Оценкой Рецензента'\n",
    ")\n",
    "\n",
    "#set the title of the axis\n",
    "fig.update_layout(\n",
    "    scene=dict(\n",
    "        xaxis_title='Положительная',\n",
    "        yaxis_title='Отрицательная',\n",
    "        zaxis_title='Оценка Рецензента'\n",
    "    ),\n",
    ")\n",
    "\n",
    "#fig.show()\n",
    "\n",
    "#export the graph\n",
    "fig.write_html('plotly_graphs/11.2_scatter3d_score_by_pos_sensitivity.html')"
   ]
  },
  {
   "cell_type": "markdown",
   "metadata": {},
   "source": [
    "**Вывод:** \\\n",
    "По диаграмме рассеяния сложно определить, необходимо статистическое тестирование."
   ]
  },
  {
   "cell_type": "markdown",
   "metadata": {},
   "source": [
    "### Статистический Анализ Данных"
   ]
  },
  {
   "cell_type": "markdown",
   "metadata": {},
   "source": [
    "Размеры выборки слишком велики, поэтому установим уровень значимости, как можно ниже."
   ]
  },
  {
   "cell_type": "code",
   "execution_count": 330,
   "metadata": {},
   "outputs": [
    {
     "name": "stdout",
     "output_type": "stream",
     "text": [
      "Уровень значимости alpha = 0.00005\n"
     ]
    }
   ],
   "source": [
    "#set significance level\n",
    "alpha = 0.00005\n",
    "print(f'Уровень значимости alpha = {alpha:.5f}')"
   ]
  },
  {
   "cell_type": "code",
   "execution_count": 331,
   "metadata": {},
   "outputs": [],
   "source": [
    "#function for p-value for normality testing\n",
    "def decision_normality(p):\n",
    "    print(f'p-value = {p:.3f}')\n",
    "    if p <= alpha:\n",
    "        print(f'p-значение меньше, чем заданный уровень значимости {alpha:.2f}. Распределение отлично от нормального')\n",
    "    else:\n",
    "        print(f'p-значение больше, чем заданный уровень значимости {alpha:.2f}. Распределение является нормальным')\n",
    "\n",
    "\n",
    "#function for Anderson Darling normality testing\n",
    "def anderson_darling(x):\n",
    "    for i in range(len(x.critical_values)):\n",
    "        sig_lev, crit_val = x.significance_level[i], x.critical_values[i]\n",
    "        if x.statistic < crit_val:\n",
    "            print(f'нормальное распределение: {crit_val} критическое значение на {sig_lev}% уровня значимости')\n",
    "        else:\n",
    "            print(f'ассиметричное распределение: {crit_val} критическое значение на {sig_lev}% уровня значимости')\n",
    "\n",
    "\n",
    "#function for p-value comparison for hypothesis testing\n",
    "def decision_hypothesis(p):\n",
    "    print(f'p-value = {p:.3f}')\n",
    "    if p <= alpha:\n",
    "        print(f'p-значение меньше, чем заданный уровень значимости {alpha:.2f}. Отвергаем нулевую гипотезу в пользу альтернативной.')\n",
    "    else:\n",
    "        print(f'p-значение больше, чем заданный уровень значимости {alpha:.2f}. У нас нет оснований отвергнуть нулевую гипотезу.')"
   ]
  },
  {
   "cell_type": "markdown",
   "metadata": {},
   "source": [
    "#### 1. Влияет ли расположение отеля на среднюю оценку?"
   ]
  },
  {
   "cell_type": "markdown",
   "metadata": {},
   "source": [
    "**Сформулируем нулевую и альтернативные гипотезы**\n",
    "\n",
    "*Нулевая гипотеза* ($H_0$): средняя оценка не отличается от расположения отеля: \\\n",
    "Spain ($μ_1$), United Kingdom ($μ_2$), Austria ($u_3$), Italy ($μ_4$), France ($μ_5$), Netherlands ($μ_6$).\n",
    "\n",
    "$$ H_0 : μ_1 = μ_2 = μ_3 = μ_4 = μ_5 = μ_6$$\n",
    "\n",
    "*Альтернативная гипотеза* ($H_1$): средняя оценка отличается от расположения отеля: \\\n",
    "Spain ($μ_1$), United Kingdom ($μ_2$), Austria ($u_3$), Italy ($μ_4$), France ($μ_5$), Netherlands ($μ_6$).\n",
    "\n",
    "$$ H_1 : μ_1 \\neq μ_2 \\neq μ_3 \\neq μ_4 \\neq μ_5 \\neq μ_6$$"
   ]
  },
  {
   "cell_type": "markdown",
   "metadata": {},
   "source": [
    "##### Проверка на Нормальность\n",
    "\n",
    "С помощью теста Shapiro-Wilk можно проверить, распределён ли признак нормально, но размер выборки слишком велик, поэтому дополнительно используем гистограммы.\n",
    "\n",
    "*Нулевая гипотеза* ($H_0$): распределение данные является нормальным.\n",
    "\n",
    "*Альтернативная гипотеза* ($H_1$): распределение данных отлично от нормального."
   ]
  },
  {
   "cell_type": "code",
   "execution_count": 332,
   "metadata": {},
   "outputs": [],
   "source": [
    "#filter by country\n",
    "hist_spain = hotels[hotels['country'] == 'Spain']\n",
    "hist_uk = hotels[hotels['country'] == 'United Kingdom']\n",
    "hist_austria = hotels[hotels['country'] == 'Austria']\n",
    "hist_italy = hotels[hotels['country'] == 'Italy']\n",
    "hist_france = hotels[hotels['country'] == 'France']\n",
    "hist_netherlands = hotels[hotels['country'] == 'Netherlands']\n",
    "\n",
    "\n",
    "#create multiple histograms\n",
    "fig = make_subplots(rows=2, cols=3,\n",
    "                    subplot_titles=('Spain', 'United Kingdom', 'Austria', 'Italy', 'France', 'Netherlands'))\n",
    "\n",
    "fig.add_trace(go.Histogram(x=hist_spain['average_score']),\n",
    "              row=1, col=1)\n",
    "\n",
    "fig.add_trace(go.Histogram(x=hist_uk['average_score']),\n",
    "              row=1, col=2)\n",
    "\n",
    "fig.add_trace(go.Histogram(x=hist_austria['average_score']),\n",
    "              row=1, col=3)\n",
    "\n",
    "fig.add_trace(go.Histogram(x=hist_italy['average_score']),\n",
    "              row=2, col=1)\n",
    "\n",
    "fig.add_trace(go.Histogram(x=hist_france['average_score']),\n",
    "              row=2, col=2)\n",
    "\n",
    "fig.add_trace(go.Histogram(x=hist_netherlands['average_score']),\n",
    "              row=2, col=3)\n",
    "\n",
    "#set the axis limits\n",
    "fig.update_xaxes(range=[6.5, 10])\n",
    "\n",
    "fig.update_layout(\n",
    "    width=900,\n",
    "    height=600,\n",
    "    showlegend=False\n",
    ")\n",
    "\n",
    "#fig.show()\n",
    "\n",
    "#export the graph\n",
    "fig.write_html('plotly_graphs/12.1_histogram_by_country_normality_testing.html')"
   ]
  },
  {
   "cell_type": "code",
   "execution_count": 333,
   "metadata": {},
   "outputs": [],
   "source": [
    "#obtain the sample by country\n",
    "score_spain = (hotels.loc[hotels['country'] == 'Spain', 'average_score'])\n",
    "score_uk = (hotels.loc[hotels['country'] == 'United Kingdom', 'average_score'])\n",
    "score_austria = (hotels.loc[hotels['country'] == 'Austria', 'average_score'])\n",
    "score_italy = (hotels.loc[hotels['country'] == 'Italy', 'average_score'])\n",
    "score_france = (hotels.loc[hotels['country'] == 'France', 'average_score'])\n",
    "score_netherlands = (hotels.loc[hotels['country'] == 'Netherlands', 'average_score'])"
   ]
  },
  {
   "cell_type": "code",
   "execution_count": 334,
   "metadata": {},
   "outputs": [
    {
     "name": "stdout",
     "output_type": "stream",
     "text": [
      "For Spain:\n",
      "p-value = 0.000\n",
      "p-значение меньше, чем заданный уровень значимости 0.00. Распределение отлично от нормального\n",
      "\n",
      "For United Kingdom:\n",
      "p-value = 0.000\n",
      "p-значение меньше, чем заданный уровень значимости 0.00. Распределение отлично от нормального\n",
      "\n",
      "For Austria:\n",
      "p-value = 0.000\n",
      "p-значение меньше, чем заданный уровень значимости 0.00. Распределение отлично от нормального\n",
      "\n",
      "For Italy:\n",
      "p-value = 0.000\n",
      "p-значение меньше, чем заданный уровень значимости 0.00. Распределение отлично от нормального\n",
      "\n",
      "For France:\n",
      "p-value = 0.000\n",
      "p-значение меньше, чем заданный уровень значимости 0.00. Распределение отлично от нормального\n",
      "\n",
      "For Netherlands:\n",
      "p-value = 0.000\n",
      "p-значение меньше, чем заданный уровень значимости 0.00. Распределение отлично от нормального\n"
     ]
    },
    {
     "name": "stderr",
     "output_type": "stream",
     "text": [
      "/Library/Frameworks/Python.framework/Versions/3.10/lib/python3.10/site-packages/scipy/stats/_morestats.py:1882: UserWarning:\n",
      "\n",
      "p-value may not be accurate for N > 5000.\n",
      "\n"
     ]
    }
   ],
   "source": [
    "#execute Shapiro-Wilk\n",
    "print('For Spain:')\n",
    "result = stats.shapiro(score_spain)\n",
    "decision_normality(result[1])\n",
    "print()\n",
    "\n",
    "print('For United Kingdom:')\n",
    "result = stats.shapiro(score_uk)\n",
    "decision_normality(result[1])\n",
    "print()\n",
    "\n",
    "print('For Austria:')\n",
    "result = stats.shapiro(score_austria)\n",
    "decision_normality(result[1])\n",
    "print()\n",
    "\n",
    "print('For Italy:')\n",
    "result = stats.shapiro(score_italy)\n",
    "decision_normality(result[1])\n",
    "print()\n",
    "\n",
    "print('For France:')\n",
    "result = stats.shapiro(score_france)\n",
    "decision_normality(result[1])\n",
    "print()\n",
    "\n",
    "print('For Netherlands:')\n",
    "result = stats.shapiro(score_netherlands)\n",
    "decision_normality(result[1])"
   ]
  },
  {
   "cell_type": "markdown",
   "metadata": {},
   "source": [
    "Проверка на равенство дисперсий между выборками данных:"
   ]
  },
  {
   "cell_type": "code",
   "execution_count": 335,
   "metadata": {},
   "outputs": [
    {
     "name": "stdout",
     "output_type": "stream",
     "text": [
      "p-value = 0.000\n",
      "неравная дисперсия, необходимо использовать непараметрические тесты\n",
      "\n"
     ]
    }
   ],
   "source": [
    "#execute Levene Test for variance equality\n",
    "result = stats.levene(score_spain, score_uk, score_austria, score_italy, score_france, score_netherlands)\n",
    "pv = result[1]\n",
    "print(f'p-value = {pv:.3f}')\n",
    "\n",
    "#interpret the result\n",
    "if pv <= alpha:\n",
    "    print('неравная дисперсия, необходимо использовать непараметрические тесты')\n",
    "else:\n",
    "    print('равная дисперсия, можно использовать параметрические тесты')\n",
    "print()"
   ]
  },
  {
   "cell_type": "code",
   "execution_count": 336,
   "metadata": {},
   "outputs": [
    {
     "name": "stdout",
     "output_type": "stream",
     "text": [
      "12882.4459111, 0.0000000\n",
      "неравная дисперсия, необходимо использовать непараметрические тесты\n",
      "\n"
     ]
    }
   ],
   "source": [
    "#Bartlett's Test\n",
    "test_statistic, p_value = stats.bartlett(score_spain, score_uk, score_austria, score_italy, score_france, score_netherlands)\n",
    "\n",
    "print(f'{test_statistic:.7f}, {p_value:.7f}')\n",
    "\n",
    "#interpret the result\n",
    "if p_value <= alpha:\n",
    "    print('неравная дисперсия, необходимо использовать непараметрические тесты')\n",
    "else:\n",
    "    print('равная дисперсия, можно использовать параметрические тесты')\n",
    "print()"
   ]
  },
  {
   "cell_type": "markdown",
   "metadata": {},
   "source": [
    "**Выберем подходящий статистический тест**\n",
    "\n",
    "Для выбора нужного теста воспользуемся алгоритмом выбора теста:\n",
    "* Тип признака - количественный;\n",
    "* Количество анализируемых групп: 6;\n",
    "* Зависимость групп: независимы;\n",
    "* Распределение по нормальному закону: нет.\n",
    "\n",
    "Чтобы проверить нашу гипотезу, можно использовать **Kruskal-Wallis** для сравнения распределений."
   ]
  },
  {
   "cell_type": "code",
   "execution_count": 337,
   "metadata": {},
   "outputs": [
    {
     "name": "stdout",
     "output_type": "stream",
     "text": [
      "p-value = 0.000\n",
      "p-значение меньше, чем заданный уровень значимости 0.00. Отвергаем нулевую гипотезу в пользу альтернативной.\n"
     ]
    }
   ],
   "source": [
    "#Kruskal-Wallis Test\n",
    "_, p = stats.kruskal(score_spain, score_uk, score_austria, score_italy, score_france, score_netherlands)\n",
    "\n",
    "#interpret the result\n",
    "decision_hypothesis(p)"
   ]
  },
  {
   "cell_type": "markdown",
   "metadata": {},
   "source": [
    "#### 2. Влияет ли статус рецензента на среднюю оценку?"
   ]
  },
  {
   "cell_type": "markdown",
   "metadata": {},
   "source": [
    "**Сформулируем нулевую и альтернативные гипотезы**\n",
    "\n",
    "*Нулевая гипотеза* ($H_0$): средняя оценка резидента ($μ_1$) меньше или равна средней оценки путешественника ($μ_2$).\n",
    "\n",
    "$$ H_0 : μ_1 <= μ_2$$\n",
    "\n",
    "*Альтернативная гипотеза* ($H_1$): средняя оценка резидента ($μ_1$) больше средней оценки путешественника ($μ_2$).\n",
    "$$ H_1 : μ_1 > μ_2$$"
   ]
  },
  {
   "cell_type": "markdown",
   "metadata": {},
   "source": [
    "##### Проверка на Нормальность\n",
    "\n",
    "С помощью теста Shapiro-Wilk можно проверить, распределён ли признак нормально, но размер выборки слишком велик, поэтому дополнительно используем гистограммы.\n",
    "\n",
    "*Нулевая гипотеза* ($H_0$): распределение данные является нормальным.\n",
    "\n",
    "*Альтернативная гипотеза* ($H_1$): распределение данных отлично от нормального."
   ]
  },
  {
   "cell_type": "code",
   "execution_count": 338,
   "metadata": {},
   "outputs": [],
   "source": [
    "#filter by status\n",
    "hist_traveler = hotels[hotels['citizen'] == 0]\n",
    "hist_citizen = hotels[hotels['citizen'] == 1]\n",
    "\n",
    "\n",
    "#create multiple histograms\n",
    "fig = make_subplots(rows=1, cols=2,\n",
    "                    subplot_titles=('Traveler', 'Resident'))\n",
    "\n",
    "fig.add_trace(go.Histogram(x=hist_traveler['average_score']),\n",
    "              row=1, col=1)\n",
    "\n",
    "fig.add_trace(go.Histogram(x=hist_citizen['average_score']),\n",
    "              row=1, col=2)\n",
    "\n",
    "#set the axis limits\n",
    "fig.update_xaxes(range=[6.5, 10])\n",
    "\n",
    "fig.update_layout(\n",
    "    width=900,\n",
    "    height=600,\n",
    "    showlegend=False\n",
    ")\n",
    "\n",
    "#fig.show()\n",
    "\n",
    "#export the graph\n",
    "fig.write_html('plotly_graphs/12.2_histogram_by_status_normality_testing.html')"
   ]
  },
  {
   "cell_type": "code",
   "execution_count": 339,
   "metadata": {},
   "outputs": [],
   "source": [
    "#obtain the sample by status\n",
    "score_traveler = (hotels.loc[hotels['citizen'] == 0, 'average_score'])\n",
    "score_citizen = (hotels.loc[hotels['citizen'] == 1, 'average_score'])"
   ]
  },
  {
   "cell_type": "code",
   "execution_count": 340,
   "metadata": {},
   "outputs": [
    {
     "name": "stdout",
     "output_type": "stream",
     "text": [
      "For Traveler:\n",
      "p-value = 0.000\n",
      "p-значение меньше, чем заданный уровень значимости 0.00. Распределение отлично от нормального\n",
      "\n",
      "For Citizen:\n",
      "p-value = 0.000\n",
      "p-значение меньше, чем заданный уровень значимости 0.00. Распределение отлично от нормального\n"
     ]
    }
   ],
   "source": [
    "#execute Shapiro-Wilk\n",
    "print('For Traveler:')\n",
    "result = stats.shapiro(score_traveler)\n",
    "decision_normality(result[1])\n",
    "print()\n",
    "\n",
    "print('For Citizen:')\n",
    "result = stats.shapiro(score_citizen)\n",
    "decision_normality(result[1])"
   ]
  },
  {
   "cell_type": "markdown",
   "metadata": {},
   "source": [
    "Проверка на равенство дисперсий между выборками данных:"
   ]
  },
  {
   "cell_type": "code",
   "execution_count": 341,
   "metadata": {},
   "outputs": [
    {
     "name": "stdout",
     "output_type": "stream",
     "text": [
      "p-value = 0.000\n",
      "неравная дисперсия, необходимо использовать непараметрические тесты\n",
      "\n"
     ]
    }
   ],
   "source": [
    "#execute Levene Test for variance equality\n",
    "result = stats.levene(score_traveler, score_citizen)\n",
    "pv = result[1]\n",
    "print(f'p-value = {pv:.3f}')\n",
    "\n",
    "#interpret the result\n",
    "if pv <= alpha:\n",
    "    print('неравная дисперсия, необходимо использовать непараметрические тесты')\n",
    "else:\n",
    "    print('равная дисперсия, можно использовать параметрические тесты')\n",
    "print()"
   ]
  },
  {
   "cell_type": "code",
   "execution_count": 342,
   "metadata": {},
   "outputs": [
    {
     "name": "stdout",
     "output_type": "stream",
     "text": [
      "2774.2325091, 0.0000000\n",
      "неравная дисперсия, необходимо использовать непараметрические тесты\n",
      "\n"
     ]
    }
   ],
   "source": [
    "#Bartlett's Test\n",
    "test_statistic, p_value = stats.bartlett(score_traveler, score_citizen)\n",
    "\n",
    "print(f'{test_statistic:.7f}, {p_value:.7f}')\n",
    "\n",
    "#interpret the result\n",
    "if p_value <= alpha:\n",
    "    print('неравная дисперсия, необходимо использовать непараметрические тесты')\n",
    "else:\n",
    "    print('равная дисперсия, можно использовать параметрические тесты')\n",
    "print()"
   ]
  },
  {
   "cell_type": "markdown",
   "metadata": {},
   "source": [
    "**Выберем подходящий статистический тест**\n",
    "\n",
    "Для выбора нужного теста воспользуемся алгоритмом выбора теста:\n",
    "* Тип признака - количественный;\n",
    "* Количество анализируемых групп: 2;\n",
    "* Зависимость групп: независимы;\n",
    "* Распределение по нормальному закону: нет.\n",
    "\n",
    "Чтобы проверить нашу гипотезу, можно использовать **Mann Whitney U-Test** для сравнения распределений."
   ]
  },
  {
   "cell_type": "code",
   "execution_count": 343,
   "metadata": {},
   "outputs": [
    {
     "name": "stdout",
     "output_type": "stream",
     "text": [
      "p-value = 0.000\n",
      "p-значение меньше, чем заданный уровень значимости 0.00. Отвергаем нулевую гипотезу в пользу альтернативной.\n"
     ]
    }
   ],
   "source": [
    "#Mann Whitney U-Test\n",
    "_, p = stats.mannwhitneyu(score_traveler, score_citizen, alternative='greater')\n",
    "\n",
    "#interpret the result\n",
    "decision_hypothesis(p)"
   ]
  },
  {
   "cell_type": "markdown",
   "metadata": {},
   "source": [
    "#### 3. Расстояние от центра города влияет на среднюю оценку?"
   ]
  },
  {
   "cell_type": "markdown",
   "metadata": {},
   "source": [
    "**Сформулируем нулевую и альтернативные гипотезы**\n",
    "\n",
    "*Нулевая гипотеза* ($H_0$): средняя оценка не отличается от расстояние от центра города: \\\n",
    "<0.5KM ($μ_1$), 0.5-1KM ($μ_2$), 1-1.5KM ($u_3$), 1.5-2KM ($μ_4$), 2-3KM ($μ_5$), 3-5KM ($μ_6$), 5-10KM ($μ_7$), >10KM ($μ_8$).\n",
    "\n",
    "$$ H_0 : μ_1 = μ_2 = μ_3 = μ_4 = μ_5 = μ_6 = μ_7 = μ_8$$\n",
    "\n",
    "*Альтернативная гипотеза* ($H_1$): средняя оценка отличается от расстояние от центра города: \\\n",
    "<0.5KM ($μ_1$), 0.5-1KM ($μ_2$), 1-1.5KM ($u_3$), 1.5-2KM ($μ_4$), 2-3KM ($μ_5$), 3-5KM ($μ_6$), 5-10KM ($μ_7$), >10KM ($μ_8$).\n",
    "\n",
    "$$ H_1 : μ_1 \\neq μ_2 \\neq μ_3 \\neq μ_4 \\neq μ_5 \\neq μ_6 \\neq μ_7 \\neq μ_8$$"
   ]
  },
  {
   "cell_type": "markdown",
   "metadata": {},
   "source": [
    "##### Проверка на Нормальность\n",
    "\n",
    "С помощью теста Shapiro-Wilk можно проверить, распределён ли признак нормально, но размер выборки слишком велик, поэтому дополнительно используем гистограммы.\n",
    "\n",
    "*Нулевая гипотеза* ($H_0$): распределение данные является нормальным.\n",
    "\n",
    "*Альтернативная гипотеза* ($H_1$): распределение данных отлично от нормального."
   ]
  },
  {
   "cell_type": "code",
   "execution_count": 344,
   "metadata": {},
   "outputs": [],
   "source": [
    "#filter by distance\n",
    "hist_05 = hotels[hotels['c_distance'] == '<0.5KM']\n",
    "hist_05_1 = hotels[hotels['c_distance'] == '0.5-1KM']\n",
    "hist_1_15 = hotels[hotels['c_distance'] == '1-1.5KM']\n",
    "hist_15_2 = hotels[hotels['c_distance'] == '1.5-2KM']\n",
    "hist_2_3 = hotels[hotels['c_distance'] == '2-3KM']\n",
    "hist_3_5 = hotels[hotels['c_distance'] == '3-5KM']\n",
    "hist_5_10 = hotels[hotels['c_distance'] == '5-10KM']\n",
    "hist_10 = hotels[hotels['c_distance'] == '>10KM']\n",
    "\n",
    "\n",
    "#create multiple histograms\n",
    "fig = make_subplots(rows=2, cols=4,\n",
    "                    subplot_titles=('<0.5KM', '0.5-1KM', '1-1.5KM', '1.5-2KM', '2-3KM', '3-5KM', '5-10KM', '>10KM'))\n",
    "\n",
    "fig.add_trace(go.Histogram(x=hist_05['average_score']),\n",
    "              row=1, col=1)\n",
    "\n",
    "fig.add_trace(go.Histogram(x=hist_05_1['average_score']),\n",
    "              row=1, col=2)\n",
    "\n",
    "fig.add_trace(go.Histogram(x=hist_1_15['average_score']),\n",
    "              row=1, col=3)\n",
    "\n",
    "fig.add_trace(go.Histogram(x=hist_15_2['average_score']),\n",
    "              row=1, col=4)\n",
    "\n",
    "fig.add_trace(go.Histogram(x=hist_2_3['average_score']),\n",
    "              row=2, col=1)\n",
    "\n",
    "fig.add_trace(go.Histogram(x=hist_3_5['average_score']),\n",
    "              row=2, col=2)\n",
    "\n",
    "fig.add_trace(go.Histogram(x=hist_5_10['average_score']),\n",
    "              row=2, col=3)\n",
    "\n",
    "fig.add_trace(go.Histogram(x=hist_10['average_score']),\n",
    "              row=2, col=4)\n",
    "\n",
    "#set the axis limits\n",
    "fig.update_xaxes(range=[6.5, 10])\n",
    "\n",
    "fig.update_layout(\n",
    "    width=900,\n",
    "    height=600,\n",
    "    showlegend=False\n",
    ")\n",
    "\n",
    "#fig.show()\n",
    "\n",
    "#export the graph\n",
    "fig.write_html('plotly_graphs/12.3_histogram_by_distance_normality_testing.html')"
   ]
  },
  {
   "cell_type": "code",
   "execution_count": 345,
   "metadata": {},
   "outputs": [],
   "source": [
    "#obtain the sample by distance\n",
    "score_05 = (hotels.loc[hotels['c_distance'] == '<0.5KM', 'average_score'])\n",
    "score_05_1 = (hotels.loc[hotels['c_distance'] == '0.5-1KM', 'average_score'])\n",
    "score_1_15 = (hotels.loc[hotels['c_distance'] == '1-1.5KM', 'average_score'])\n",
    "score_15_2 = (hotels.loc[hotels['c_distance'] == '1.5-2KM', 'average_score'])\n",
    "score_2_3 = (hotels.loc[hotels['c_distance'] == '2-3KM', 'average_score'])\n",
    "score_3_5 = (hotels.loc[hotels['c_distance'] == '3-5KM', 'average_score'])\n",
    "score_5_10 = (hotels.loc[hotels['c_distance'] == '5-10KM', 'average_score'])\n",
    "score_10 = (hotels.loc[hotels['c_distance'] == '>10KM', 'average_score'])"
   ]
  },
  {
   "cell_type": "code",
   "execution_count": 346,
   "metadata": {},
   "outputs": [
    {
     "name": "stdout",
     "output_type": "stream",
     "text": [
      "For <0.5KM:\n",
      "p-value = 0.000\n",
      "p-значение меньше, чем заданный уровень значимости 0.00. Распределение отлично от нормального\n",
      "\n",
      "For 0.5-1KM:\n",
      "p-value = 0.000\n",
      "p-значение меньше, чем заданный уровень значимости 0.00. Распределение отлично от нормального\n",
      "\n",
      "For 1-1.5KM:\n",
      "p-value = 0.000\n",
      "p-значение меньше, чем заданный уровень значимости 0.00. Распределение отлично от нормального\n",
      "\n",
      "For 1.5-2KM:\n",
      "p-value = 0.000\n",
      "p-значение меньше, чем заданный уровень значимости 0.00. Распределение отлично от нормального\n",
      "\n",
      "For 2-3KM:\n",
      "p-value = 0.000\n",
      "p-значение меньше, чем заданный уровень значимости 0.00. Распределение отлично от нормального\n",
      "\n",
      "For 3-5KM:\n",
      "p-value = 0.000\n",
      "p-значение меньше, чем заданный уровень значимости 0.00. Распределение отлично от нормального\n",
      "\n",
      "For 5-10KM:\n",
      "p-value = 0.000\n",
      "p-значение меньше, чем заданный уровень значимости 0.00. Распределение отлично от нормального\n",
      "\n",
      "For >10KM:\n",
      "p-value = 0.000\n",
      "p-значение меньше, чем заданный уровень значимости 0.00. Распределение отлично от нормального\n"
     ]
    },
    {
     "name": "stderr",
     "output_type": "stream",
     "text": [
      "/Library/Frameworks/Python.framework/Versions/3.10/lib/python3.10/site-packages/scipy/stats/_morestats.py:1882: UserWarning:\n",
      "\n",
      "p-value may not be accurate for N > 5000.\n",
      "\n"
     ]
    }
   ],
   "source": [
    "#execute Shapiro-Wilk\n",
    "print('For <0.5KM:')\n",
    "result = stats.shapiro(score_05)\n",
    "decision_normality(result[1])\n",
    "print()\n",
    "\n",
    "print('For 0.5-1KM:')\n",
    "result = stats.shapiro(score_05_1)\n",
    "decision_normality(result[1])\n",
    "print()\n",
    "\n",
    "print('For 1-1.5KM:')\n",
    "result = stats.shapiro(score_1_15)\n",
    "decision_normality(result[1])\n",
    "print()\n",
    "\n",
    "print('For 1.5-2KM:')\n",
    "result = stats.shapiro(score_15_2)\n",
    "decision_normality(result[1])\n",
    "print()\n",
    "\n",
    "print('For 2-3KM:')\n",
    "result = stats.shapiro(score_2_3)\n",
    "decision_normality(result[1])\n",
    "print()\n",
    "\n",
    "print('For 3-5KM:')\n",
    "result = stats.shapiro(score_3_5)\n",
    "decision_normality(result[1])\n",
    "print()\n",
    "\n",
    "print('For 5-10KM:')\n",
    "result = stats.shapiro(score_5_10)\n",
    "decision_normality(result[1])\n",
    "print()\n",
    "\n",
    "print('For >10KM:')\n",
    "result = stats.shapiro(score_10)\n",
    "decision_normality(result[1])"
   ]
  },
  {
   "cell_type": "markdown",
   "metadata": {},
   "source": [
    "Проверка на равенство дисперсий между выборками данных:"
   ]
  },
  {
   "cell_type": "code",
   "execution_count": 347,
   "metadata": {},
   "outputs": [
    {
     "name": "stdout",
     "output_type": "stream",
     "text": [
      "p-value = 0.000\n",
      "неравная дисперсия, необходимо использовать непараметрические тесты\n",
      "\n"
     ]
    }
   ],
   "source": [
    "#execute Levene Test for variance equality\n",
    "result = stats.levene(score_05, score_05_1, score_1_15, score_15_2, score_2_3, score_3_5, score_5_10, score_10)\n",
    "pv = result[1]\n",
    "print(f'p-value = {pv:.3f}')\n",
    "\n",
    "#interpret the result\n",
    "if pv <= alpha:\n",
    "    print('неравная дисперсия, необходимо использовать непараметрические тесты')\n",
    "else:\n",
    "    print('равная дисперсия, можно использовать параметрические тесты')\n",
    "print()"
   ]
  },
  {
   "cell_type": "code",
   "execution_count": 348,
   "metadata": {},
   "outputs": [
    {
     "name": "stdout",
     "output_type": "stream",
     "text": [
      "13890.6041723, 0.0000000\n",
      "неравная дисперсия, необходимо использовать непараметрические тесты\n",
      "\n"
     ]
    }
   ],
   "source": [
    "#Bartlett's Test\n",
    "test_statistic, p_value = stats.bartlett(score_05, score_05_1, score_1_15, score_15_2, score_2_3, score_3_5, score_5_10, score_10)\n",
    "\n",
    "print(f'{test_statistic:.7f}, {p_value:.7f}')\n",
    "\n",
    "#interpret the result\n",
    "if p_value <= alpha:\n",
    "    print('неравная дисперсия, необходимо использовать непараметрические тесты')\n",
    "else:\n",
    "    print('равная дисперсия, можно использовать параметрические тесты')\n",
    "print()"
   ]
  },
  {
   "cell_type": "markdown",
   "metadata": {},
   "source": [
    "**Выберем подходящий статистический тест**\n",
    "\n",
    "Для выбора нужного теста воспользуемся алгоритмом выбора теста:\n",
    "* Тип признака - количественный;\n",
    "* Количество анализируемых групп: 8;\n",
    "* Зависимость групп: независимы;\n",
    "* Распределение по нормальному закону: нет.\n",
    "\n",
    "Чтобы проверить нашу гипотезу, можно использовать **Kruskal-Wallis** для сравнения распределений."
   ]
  },
  {
   "cell_type": "code",
   "execution_count": 349,
   "metadata": {},
   "outputs": [
    {
     "name": "stdout",
     "output_type": "stream",
     "text": [
      "p-value = 0.000\n",
      "p-значение меньше, чем заданный уровень значимости 0.00. Отвергаем нулевую гипотезу в пользу альтернативной.\n"
     ]
    }
   ],
   "source": [
    "#Kruskal-Wallis Test\n",
    "_, p = stats.kruskal(score_05, score_05_1, score_1_15, score_15_2, score_2_3, score_3_5, score_5_10, score_10)\n",
    "\n",
    "#interpret the result\n",
    "decision_hypothesis(p)"
   ]
  },
  {
   "cell_type": "markdown",
   "metadata": {},
   "source": [
    "#### 4. Влияет ли тип поездки на среднюю оценку?"
   ]
  },
  {
   "cell_type": "markdown",
   "metadata": {},
   "source": [
    "**Сформулируем нулевую и альтернативные гипотезы**\n",
    "\n",
    "*Нулевая гипотеза* ($H_0$): средняя оценка leisure trip ($μ_1$) меньше или равна средней оценки business trip ($μ_2$).\n",
    "\n",
    "$$ H_0 : μ_1 <= μ_2$$\n",
    "\n",
    "*Альтернативная гипотеза* ($H_1$): средняя оценка leisure trip ($μ_1$) больше средней оценки business trip ($μ_2$).\n",
    "$$ H_1 : μ_1 > μ_2$$"
   ]
  },
  {
   "cell_type": "markdown",
   "metadata": {},
   "source": [
    "##### Проверка на Нормальность\n",
    "\n",
    "С помощью теста Shapiro-Wilk можно проверить, распределён ли признак нормально, но размер выборки слишком велик, поэтому дополнительно используем гистограммы.\n",
    "\n",
    "*Нулевая гипотеза* ($H_0$): распределение данные является нормальным.\n",
    "\n",
    "*Альтернативная гипотеза* ($H_1$): распределение данных отлично от нормального."
   ]
  },
  {
   "cell_type": "code",
   "execution_count": 350,
   "metadata": {},
   "outputs": [],
   "source": [
    "#filter by travel purpose\n",
    "hist_leisure = hotels[hotels['travel_purpose'] == 'Leisure trip']\n",
    "hist_business = hotels[hotels['travel_purpose'] == 'Business trip']\n",
    "\n",
    "\n",
    "#create multiple histograms\n",
    "fig = make_subplots(rows=1, cols=2,\n",
    "                    subplot_titles=('Leisure Trip', 'Business Trip'))\n",
    "\n",
    "fig.add_trace(go.Histogram(x=hist_leisure['average_score']),\n",
    "              row=1, col=1)\n",
    "\n",
    "fig.add_trace(go.Histogram(x=hist_business['average_score']),\n",
    "              row=1, col=2)\n",
    "\n",
    "#set the axis limits\n",
    "fig.update_xaxes(range=[6.5, 10])\n",
    "\n",
    "fig.update_layout(\n",
    "    width=900,\n",
    "    height=600,\n",
    "    showlegend=False\n",
    ")\n",
    "\n",
    "#fig.show()\n",
    "\n",
    "#export the graph\n",
    "fig.write_html('plotly_graphs/12.4_histogram_by_travel_purpose_normality_testing.html')"
   ]
  },
  {
   "cell_type": "code",
   "execution_count": 351,
   "metadata": {},
   "outputs": [],
   "source": [
    "#obtain the sample by travel purpose\n",
    "score_leisure = (hotels.loc[hotels['travel_purpose'] == 'Leisure trip', 'average_score'])\n",
    "score_business = (hotels.loc[hotels['travel_purpose'] == 'Business trip', 'average_score'])"
   ]
  },
  {
   "cell_type": "code",
   "execution_count": 352,
   "metadata": {},
   "outputs": [
    {
     "name": "stdout",
     "output_type": "stream",
     "text": [
      "For Leisure Trip:\n",
      "p-value = 0.000\n",
      "p-значение меньше, чем заданный уровень значимости 0.00. Распределение отлично от нормального\n",
      "\n",
      "For Business Trip:\n",
      "p-value = 0.000\n",
      "p-значение меньше, чем заданный уровень значимости 0.00. Распределение отлично от нормального\n"
     ]
    },
    {
     "name": "stderr",
     "output_type": "stream",
     "text": [
      "/Library/Frameworks/Python.framework/Versions/3.10/lib/python3.10/site-packages/scipy/stats/_morestats.py:1882: UserWarning:\n",
      "\n",
      "p-value may not be accurate for N > 5000.\n",
      "\n"
     ]
    }
   ],
   "source": [
    "#execute Shapiro-Wilk\n",
    "print('For Leisure Trip:')\n",
    "result = stats.shapiro(score_leisure)\n",
    "decision_normality(result[1])\n",
    "print()\n",
    "\n",
    "print('For Business Trip:')\n",
    "result = stats.shapiro(score_business)\n",
    "decision_normality(result[1])"
   ]
  },
  {
   "cell_type": "markdown",
   "metadata": {},
   "source": [
    "Проверка на равенство дисперсий между выборками данных:"
   ]
  },
  {
   "cell_type": "code",
   "execution_count": 353,
   "metadata": {},
   "outputs": [
    {
     "name": "stdout",
     "output_type": "stream",
     "text": [
      "p-value = 0.000\n",
      "неравная дисперсия, необходимо использовать непараметрические тесты\n",
      "\n"
     ]
    }
   ],
   "source": [
    "#execute Levene Test for variance equality\n",
    "result = stats.levene(score_leisure, score_business)\n",
    "pv = result[1]\n",
    "print(f'p-value = {pv:.3f}')\n",
    "\n",
    "#interpret the result\n",
    "if pv <= alpha:\n",
    "    print('неравная дисперсия, необходимо использовать непараметрические тесты')\n",
    "else:\n",
    "    print('равная дисперсия, можно использовать параметрические тесты')\n",
    "print()"
   ]
  },
  {
   "cell_type": "code",
   "execution_count": 354,
   "metadata": {},
   "outputs": [
    {
     "name": "stdout",
     "output_type": "stream",
     "text": [
      "831.6646855, 0.0000000\n",
      "неравная дисперсия, необходимо использовать непараметрические тесты\n",
      "\n"
     ]
    }
   ],
   "source": [
    "#Bartlett's Test\n",
    "test_statistic, p_value = stats.bartlett(score_leisure, score_business)\n",
    "\n",
    "print(f'{test_statistic:.7f}, {p_value:.7f}')\n",
    "\n",
    "#interpret the result\n",
    "if p_value <= alpha:\n",
    "    print('неравная дисперсия, необходимо использовать непараметрические тесты')\n",
    "else:\n",
    "    print('равная дисперсия, можно использовать параметрические тесты')\n",
    "print()"
   ]
  },
  {
   "cell_type": "markdown",
   "metadata": {},
   "source": [
    "**Выберем подходящий статистический тест**\n",
    "\n",
    "Для выбора нужного теста воспользуемся алгоритмом выбора теста:\n",
    "* Тип признака - количественный;\n",
    "* Количество анализируемых групп: 2;\n",
    "* Зависимость групп: независимы;\n",
    "* Распределение по нормальному закону: нет.\n",
    "\n",
    "Чтобы проверить нашу гипотезу, можно использовать **Mann Whitney U-Test** для сравнения распределений."
   ]
  },
  {
   "cell_type": "code",
   "execution_count": 355,
   "metadata": {},
   "outputs": [
    {
     "name": "stdout",
     "output_type": "stream",
     "text": [
      "p-value = 0.000\n",
      "p-значение меньше, чем заданный уровень значимости 0.00. Отвергаем нулевую гипотезу в пользу альтернативной.\n"
     ]
    }
   ],
   "source": [
    "#Mann Whitney U-Test\n",
    "_, p = stats.mannwhitneyu(score_leisure, score_business, alternative='greater')\n",
    "\n",
    "#interpret the result\n",
    "decision_hypothesis(p)"
   ]
  },
  {
   "cell_type": "markdown",
   "metadata": {},
   "source": [
    "#### 5. Влияет ли выбор комнаты по типу путешественника?"
   ]
  },
  {
   "cell_type": "markdown",
   "metadata": {},
   "source": [
    "**Сформулируем нулевую и альтернативные гипотезы**\n",
    "\n",
    "*Нулевая гипотеза* ($H_0$): между тем, какую комнату выбирает путешественник нет взаимосвязи (признаки независимы).\n",
    "\n",
    "*Альтернативная гипотеза* ($H_1$): между тем, какую комнату выбирает путешественник есть взаимосвязь (признаки зависимы)."
   ]
  },
  {
   "cell_type": "markdown",
   "metadata": {},
   "source": [
    "**Выберем подходящий статистический тест**\n",
    "\n",
    "Для выбора нужного теста воспользуемся алгоритмом выбора теста:\n",
    "* Тип признака - категориальный;\n",
    "* Количество анализируемых групп: 11;\n",
    "* Зависимость групп: независимы.\n",
    "\n",
    "Чтобы проверить нашу гипотезу, можно использовать **${\\chi}^2$** (хи-квадрат)."
   ]
  },
  {
   "cell_type": "code",
   "execution_count": 356,
   "metadata": {},
   "outputs": [
    {
     "data": {
      "text/html": [
       "<div>\n",
       "<style scoped>\n",
       "    .dataframe tbody tr th:only-of-type {\n",
       "        vertical-align: middle;\n",
       "    }\n",
       "\n",
       "    .dataframe tbody tr th {\n",
       "        vertical-align: top;\n",
       "    }\n",
       "\n",
       "    .dataframe thead th {\n",
       "        text-align: right;\n",
       "    }\n",
       "</style>\n",
       "<table border=\"1\" class=\"dataframe\">\n",
       "  <thead>\n",
       "    <tr style=\"text-align: right;\">\n",
       "      <th>traveler_type</th>\n",
       "      <th>Couple</th>\n",
       "      <th>CoupleWith a pet</th>\n",
       "      <th>Family with older children</th>\n",
       "      <th>Family with older childrenWith a pet</th>\n",
       "      <th>Family with young children</th>\n",
       "      <th>Family with young childrenWith a pet</th>\n",
       "      <th>Group</th>\n",
       "      <th>GroupWith a pet</th>\n",
       "      <th>Solo traveler</th>\n",
       "      <th>Solo travelerWith a pet</th>\n",
       "      <th>Travelers with friends</th>\n",
       "    </tr>\n",
       "    <tr>\n",
       "      <th>occupancy_n</th>\n",
       "      <th></th>\n",
       "      <th></th>\n",
       "      <th></th>\n",
       "      <th></th>\n",
       "      <th></th>\n",
       "      <th></th>\n",
       "      <th></th>\n",
       "      <th></th>\n",
       "      <th></th>\n",
       "      <th></th>\n",
       "      <th></th>\n",
       "    </tr>\n",
       "  </thead>\n",
       "  <tbody>\n",
       "    <tr>\n",
       "      <th>1</th>\n",
       "      <td>1280</td>\n",
       "      <td>5</td>\n",
       "      <td>471</td>\n",
       "      <td>1</td>\n",
       "      <td>951</td>\n",
       "      <td>5</td>\n",
       "      <td>2082</td>\n",
       "      <td>3</td>\n",
       "      <td>22361</td>\n",
       "      <td>31</td>\n",
       "      <td>58</td>\n",
       "    </tr>\n",
       "    <tr>\n",
       "      <th>2</th>\n",
       "      <td>171476</td>\n",
       "      <td>501</td>\n",
       "      <td>10135</td>\n",
       "      <td>29</td>\n",
       "      <td>25587</td>\n",
       "      <td>91</td>\n",
       "      <td>32558</td>\n",
       "      <td>74</td>\n",
       "      <td>59960</td>\n",
       "      <td>118</td>\n",
       "      <td>1171</td>\n",
       "    </tr>\n",
       "    <tr>\n",
       "      <th>3</th>\n",
       "      <td>562</td>\n",
       "      <td>3</td>\n",
       "      <td>2185</td>\n",
       "      <td>5</td>\n",
       "      <td>3814</td>\n",
       "      <td>12</td>\n",
       "      <td>2655</td>\n",
       "      <td>6</td>\n",
       "      <td>233</td>\n",
       "      <td>1</td>\n",
       "      <td>109</td>\n",
       "    </tr>\n",
       "    <tr>\n",
       "      <th>4</th>\n",
       "      <td>35</td>\n",
       "      <td>0</td>\n",
       "      <td>407</td>\n",
       "      <td>1</td>\n",
       "      <td>1040</td>\n",
       "      <td>5</td>\n",
       "      <td>325</td>\n",
       "      <td>0</td>\n",
       "      <td>23</td>\n",
       "      <td>1</td>\n",
       "      <td>23</td>\n",
       "    </tr>\n",
       "    <tr>\n",
       "      <th>5</th>\n",
       "      <td>78201</td>\n",
       "      <td>231</td>\n",
       "      <td>13060</td>\n",
       "      <td>55</td>\n",
       "      <td>29399</td>\n",
       "      <td>111</td>\n",
       "      <td>27631</td>\n",
       "      <td>58</td>\n",
       "      <td>25759</td>\n",
       "      <td>58</td>\n",
       "      <td>782</td>\n",
       "    </tr>\n",
       "  </tbody>\n",
       "</table>\n",
       "</div>"
      ],
      "text/plain": [
       "traveler_type  Couple  CoupleWith a pet  Family with older children  \\\n",
       "occupancy_n                                                           \n",
       "1                1280                 5                         471   \n",
       "2              171476               501                       10135   \n",
       "3                 562                 3                        2185   \n",
       "4                  35                 0                         407   \n",
       "5               78201               231                       13060   \n",
       "\n",
       "traveler_type  Family with older childrenWith a pet  \\\n",
       "occupancy_n                                           \n",
       "1                                                 1   \n",
       "2                                                29   \n",
       "3                                                 5   \n",
       "4                                                 1   \n",
       "5                                                55   \n",
       "\n",
       "traveler_type  Family with young children  \\\n",
       "occupancy_n                                 \n",
       "1                                     951   \n",
       "2                                   25587   \n",
       "3                                    3814   \n",
       "4                                    1040   \n",
       "5                                   29399   \n",
       "\n",
       "traveler_type  Family with young childrenWith a pet  Group  GroupWith a pet  \\\n",
       "occupancy_n                                                                   \n",
       "1                                                 5   2082                3   \n",
       "2                                                91  32558               74   \n",
       "3                                                12   2655                6   \n",
       "4                                                 5    325                0   \n",
       "5                                               111  27631               58   \n",
       "\n",
       "traveler_type  Solo traveler  Solo travelerWith a pet  Travelers with friends  \n",
       "occupancy_n                                                                    \n",
       "1                      22361                       31                      58  \n",
       "2                      59960                      118                    1171  \n",
       "3                        233                        1                     109  \n",
       "4                         23                        1                      23  \n",
       "5                      25759                       58                     782  "
      ]
     },
     "execution_count": 356,
     "metadata": {},
     "output_type": "execute_result"
    }
   ],
   "source": [
    "#create a contingency table\n",
    "cross_table = pd.crosstab(hotels['occupancy_n'], hotels['traveler_type'])\n",
    "cross_table"
   ]
  },
  {
   "cell_type": "markdown",
   "metadata": {},
   "source": [
    "**${\\chi}^2$** основан на аппроксимации, Fisher's Exact Test является одним из точных тестов. \\\n",
    "Когда более 20% ячеек имеют ожидаемые частоты <5, нам необходимо использовать Fisher's Exact Test, поскольку применение метода аппроксимации неадекватно."
   ]
  },
  {
   "cell_type": "code",
   "execution_count": 357,
   "metadata": {},
   "outputs": [
    {
     "name": "stdout",
     "output_type": "stream",
     "text": [
      "p-value = 0.000\n",
      "p-значение меньше, чем заданный уровень значимости 0.00. Отвергаем нулевую гипотезу в пользу альтернативной.\n"
     ]
    }
   ],
   "source": [
    "#Chi-Squared Test\n",
    "_, p, _, _ = stats.chi2_contingency(cross_table)\n",
    "\n",
    "#interpret the result\n",
    "decision_hypothesis(p)"
   ]
  },
  {
   "cell_type": "markdown",
   "metadata": {},
   "source": [
    "**Вывод:** \\\n",
    "Согласно графику подсчета и таблице сопряженности существует связь между типом комнаты и типом путешественника. По результатам тестирования критерии хи-квадрата взаимосвязь статистически значимая."
   ]
  },
  {
   "cell_type": "markdown",
   "metadata": {},
   "source": [
    "#### 6. Влияет ли продолжительность пребывания на оценку?"
   ]
  },
  {
   "cell_type": "markdown",
   "metadata": {},
   "source": [
    "**Сформулируем нулевую и альтернативные гипотезы**\n",
    "\n",
    "*Нулевая гипотеза* ($H_0$): средняя оценка не отличается от продолжительности пребывания: \\\n",
    "1 неделя ($μ_1$), 2 недели ($μ_2$), 3 недели ($u_3$), 3 недели или больше ($μ_4$).\n",
    "\n",
    "$$ H_0 : μ_1 = μ_2 = μ_3 = μ_4$$\n",
    "\n",
    "*Альтернативная гипотеза* ($H_1$): средняя оценка отличается от от продолжительности пребывания: \\\n",
    "1 неделя ($μ_1$), 2 недели ($μ_2$), 3 недели ($u_3$), 3 недели или больше ($μ_4$).\n",
    "\n",
    "$$ H_1 : μ_1 \\neq μ_2 \\neq μ_3 \\neq μ_4$$"
   ]
  },
  {
   "cell_type": "markdown",
   "metadata": {},
   "source": [
    "##### Проверка на Нормальность\n",
    "\n",
    "С помощью теста Shapiro-Wilk можно проверить, распределён ли признак нормально, но размер выборки слишком велик, поэтому дополнительно используем гистограммы.\n",
    "\n",
    "*Нулевая гипотеза* ($H_0$): распределение данные является нормальным.\n",
    "\n",
    "*Альтернативная гипотеза* ($H_1$): распределение данных отлично от нормального."
   ]
  },
  {
   "cell_type": "code",
   "execution_count": 358,
   "metadata": {},
   "outputs": [],
   "source": [
    "#filter by duration\n",
    "hist_one_week = hotels[hotels['duration_n'] <= 7]\n",
    "hist_two_weeks = hotels[(hotels['duration_n'] > 7) & (hotels['duration_n'] <= 14)]\n",
    "hist_three_weeks = hotels[(hotels['duration_n'] > 14) & (hotels['duration_n'] <= 21)]\n",
    "hist_four_weeks = hotels[hotels['duration_n'] > 21]\n",
    "\n",
    "\n",
    "#create multiple histograms\n",
    "fig = make_subplots(rows=1, cols=4,\n",
    "                    subplot_titles=('<1 week', '1-2 weeks', '2-3 weeks', '>3 weeks'))\n",
    "\n",
    "fig.add_trace(go.Histogram(x=hist_one_week['average_score']),\n",
    "              row=1, col=1)\n",
    "\n",
    "fig.add_trace(go.Histogram(x=hist_two_weeks['average_score']),\n",
    "              row=1, col=2)\n",
    "\n",
    "fig.add_trace(go.Histogram(x=hist_three_weeks['average_score']),\n",
    "              row=1, col=3)\n",
    "\n",
    "fig.add_trace(go.Histogram(x=hist_four_weeks['average_score']),\n",
    "              row=1, col=4)\n",
    "\n",
    "#set the axis limits\n",
    "fig.update_xaxes(range=[6.5, 10])\n",
    "\n",
    "fig.update_layout(\n",
    "    width=900,\n",
    "    height=600,\n",
    "    showlegend=False\n",
    ")\n",
    "\n",
    "#fig.show()\n",
    "\n",
    "#export the graph\n",
    "fig.write_html('plotly_graphs/12.5_histogram_by_duration_normality_testing.html')"
   ]
  },
  {
   "cell_type": "code",
   "execution_count": 359,
   "metadata": {},
   "outputs": [],
   "source": [
    "#obtain the sample by duration\n",
    "score_one_week = (hotels.loc[hotels['duration_n'] <= 7, 'average_score'])\n",
    "score_two_weeks = (hotels.loc[(hotels['duration_n'] > 7) & (hotels['duration_n'] <= 14), 'average_score'])\n",
    "score_three_weeks = (hotels.loc[(hotels['duration_n'] > 14) & (hotels['duration_n'] <= 21), 'average_score'])\n",
    "score_four_weeks = (hotels.loc[hotels['duration_n'] > 21, 'average_score'])"
   ]
  },
  {
   "cell_type": "code",
   "execution_count": 360,
   "metadata": {},
   "outputs": [
    {
     "name": "stdout",
     "output_type": "stream",
     "text": [
      "For less than a week:\n",
      "p-value = 0.000\n",
      "p-значение меньше, чем заданный уровень значимости 0.00. Распределение отлично от нормального\n",
      "\n",
      "For between one to two weeks:\n",
      "p-value = 0.000\n",
      "p-значение меньше, чем заданный уровень значимости 0.00. Распределение отлично от нормального\n",
      "\n",
      "For between two to three weeks:\n",
      "p-value = 0.000\n",
      "p-значение больше, чем заданный уровень значимости 0.00. Распределение является нормальным\n",
      "\n",
      "For over three weeks:\n",
      "p-value = 0.010\n",
      "p-значение больше, чем заданный уровень значимости 0.00. Распределение является нормальным\n"
     ]
    },
    {
     "name": "stderr",
     "output_type": "stream",
     "text": [
      "/Library/Frameworks/Python.framework/Versions/3.10/lib/python3.10/site-packages/scipy/stats/_morestats.py:1882: UserWarning:\n",
      "\n",
      "p-value may not be accurate for N > 5000.\n",
      "\n"
     ]
    }
   ],
   "source": [
    "#execute Shapiro-Wilk\n",
    "print('For less than a week:')\n",
    "result = stats.shapiro(score_one_week)\n",
    "decision_normality(result[1])\n",
    "print()\n",
    "\n",
    "print('For between one to two weeks:')\n",
    "result = stats.shapiro(score_two_weeks)\n",
    "decision_normality(result[1])\n",
    "print()\n",
    "\n",
    "print('For between two to three weeks:')\n",
    "result = stats.shapiro(score_three_weeks)\n",
    "decision_normality(result[1])\n",
    "print()\n",
    "\n",
    "print('For over three weeks:')\n",
    "result = stats.shapiro(score_four_weeks)\n",
    "decision_normality(result[1])"
   ]
  },
  {
   "cell_type": "markdown",
   "metadata": {},
   "source": [
    "Проверка на равенство дисперсий между выборками данных:"
   ]
  },
  {
   "cell_type": "code",
   "execution_count": 361,
   "metadata": {},
   "outputs": [
    {
     "name": "stdout",
     "output_type": "stream",
     "text": [
      "p-value = 0.051\n",
      "равная дисперсия, можно использовать параметрические тесты\n",
      "\n"
     ]
    }
   ],
   "source": [
    "#execute Levene Test for variance equality\n",
    "result = stats.levene(score_one_week, score_two_weeks, score_three_weeks, score_four_weeks)\n",
    "pv = result[1]\n",
    "print(f'p-value = {pv:.3f}')\n",
    "\n",
    "#interpret the result\n",
    "if pv <= alpha:\n",
    "    print('неравная дисперсия, необходимо использовать непараметрические тесты')\n",
    "else:\n",
    "    print('равная дисперсия, можно использовать параметрические тесты')\n",
    "print()"
   ]
  },
  {
   "cell_type": "code",
   "execution_count": 362,
   "metadata": {},
   "outputs": [
    {
     "name": "stdout",
     "output_type": "stream",
     "text": [
      "1.9598227, 0.5807874\n",
      "равная дисперсия, можно использовать параметрические тесты\n",
      "\n"
     ]
    }
   ],
   "source": [
    "#Bartlett's Test\n",
    "test_statistic, p_value = stats.bartlett(score_one_week, score_two_weeks, score_three_weeks, score_four_weeks)\n",
    "\n",
    "print(f'{test_statistic:.7f}, {p_value:.7f}')\n",
    "\n",
    "#interpret the result\n",
    "if p_value <= alpha:\n",
    "    print('неравная дисперсия, необходимо использовать непараметрические тесты')\n",
    "else:\n",
    "    print('равная дисперсия, можно использовать параметрические тесты')\n",
    "print()"
   ]
  },
  {
   "cell_type": "markdown",
   "metadata": {},
   "source": [
    "**Выберем подходящий статистический тест**\n",
    "\n",
    "Для выбора нужного теста воспользуемся алгоритмом выбора теста:\n",
    "* Тип признака - количественный;\n",
    "* Количество анализируемых групп: 4;\n",
    "* Зависимость групп: независимы;\n",
    "* Распределение по нормальному закону: да.\n",
    "\n",
    "Чтобы проверить нашу гипотезу, можно использовать **One-Factor Analysis of Variance** для сравнения распределений."
   ]
  },
  {
   "cell_type": "code",
   "execution_count": 363,
   "metadata": {},
   "outputs": [
    {
     "name": "stdout",
     "output_type": "stream",
     "text": [
      "p-value = 0.000\n",
      "p-значение меньше, чем заданный уровень значимости 0.00. Отвергаем нулевую гипотезу в пользу альтернативной.\n"
     ]
    }
   ],
   "source": [
    "#Kruskal-Wallis Test\n",
    "_, p = stats.kruskal(score_one_week, score_two_weeks, score_three_weeks, score_four_weeks)\n",
    "\n",
    "#interpret the result\n",
    "decision_hypothesis(p)"
   ]
  },
  {
   "cell_type": "code",
   "execution_count": 364,
   "metadata": {},
   "outputs": [
    {
     "name": "stdout",
     "output_type": "stream",
     "text": [
      "p-value = 0.000\n",
      "p-значение меньше, чем заданный уровень значимости 0.00. Отвергаем нулевую гипотезу в пользу альтернативной.\n"
     ]
    }
   ],
   "source": [
    "#execute one-factor analysis of variance (ANOVA)\n",
    "_, p = stats.f_oneway(score_one_week, score_two_weeks, score_three_weeks, score_four_weeks)\n",
    "\n",
    "#interpret the result\n",
    "decision_hypothesis(p)"
   ]
  },
  {
   "cell_type": "markdown",
   "metadata": {},
   "source": [
    "#### 7. Влияет ли тип комнаты на оценку?"
   ]
  },
  {
   "cell_type": "markdown",
   "metadata": {},
   "source": [
    "#### 7(a). По размещению:"
   ]
  },
  {
   "cell_type": "markdown",
   "metadata": {},
   "source": [
    "**Сформулируем нулевую и альтернативные гипотезы**\n",
    "\n",
    "*Нулевая гипотеза* ($H_0$): средняя оценка не отличается по размещению комнаты: \\\n",
    "single ($μ_1$), double ($μ_2$), triple ($u_3$), quad ($μ_4$), other occupancy types ($μ_5$).\n",
    "\n",
    "$$ H_0 : μ_1 = μ_2 = μ_3 = μ_4 = μ_5$$\n",
    "\n",
    "*Альтернативная гипотеза* ($H_1$): средняя оценка отличается по размещению комнаты: \\\n",
    "single ($μ_1$), double ($μ_2$), triple ($u_3$), quad ($μ_4$), other occupancy types ($μ_5$).\n",
    "\n",
    "$$ H_1 : μ_1 \\neq μ_2 \\neq μ_3 \\neq μ_4 \\neq μ_5$$\n"
   ]
  },
  {
   "cell_type": "markdown",
   "metadata": {},
   "source": [
    "##### Проверка на Нормальность\n",
    "\n",
    "С помощью теста Shapiro-Wilk можно проверить, распределён ли признак нормально, но размер выборки слишком велик, поэтому дополнительно используем гистограммы.\n",
    "\n",
    "*Нулевая гипотеза* ($H_0$): распределение данные является нормальным.\n",
    "\n",
    "*Альтернативная гипотеза* ($H_1$): распределение данных отлично от нормального."
   ]
  },
  {
   "cell_type": "code",
   "execution_count": 365,
   "metadata": {},
   "outputs": [],
   "source": [
    "#filter by occupancy\n",
    "hist_single = hotels[hotels['occupancy_n'] == 1]\n",
    "hist_double = hotels[hotels['occupancy_n'] == 2]\n",
    "hist_triple = hotels[hotels['occupancy_n'] == 3]\n",
    "hist_quad = hotels[hotels['occupancy_n'] == 4]\n",
    "hist_occ_room = hotels[hotels['occupancy_n'] == 5]\n",
    "\n",
    "\n",
    "#create multiple histograms\n",
    "fig = make_subplots(rows=1, cols=5,\n",
    "                    subplot_titles=('single', 'double', 'triple', 'quad', 'other occupancy'))\n",
    "\n",
    "fig.add_trace(go.Histogram(x=hist_single['average_score']),\n",
    "              row=1, col=1)\n",
    "\n",
    "fig.add_trace(go.Histogram(x=hist_double['average_score']),\n",
    "              row=1, col=2)\n",
    "\n",
    "fig.add_trace(go.Histogram(x=hist_triple['average_score']),\n",
    "              row=1, col=3)\n",
    "\n",
    "fig.add_trace(go.Histogram(x=hist_quad['average_score']),\n",
    "              row=1, col=4)\n",
    "\n",
    "fig.add_trace(go.Histogram(x=hist_occ_room['average_score']),\n",
    "              row=1, col=5)\n",
    "\n",
    "#set the axis limits\n",
    "fig.update_xaxes(range=[6.5, 10])\n",
    "\n",
    "fig.update_layout(\n",
    "    width=900,\n",
    "    height=600,\n",
    "    showlegend=False\n",
    ")\n",
    "\n",
    "#fig.show()\n",
    "\n",
    "#export the graph\n",
    "fig.write_html('plotly_graphs/12.6a_histogram_by_occupancy_normality_testing.html')"
   ]
  },
  {
   "cell_type": "code",
   "execution_count": 366,
   "metadata": {},
   "outputs": [],
   "source": [
    "#obtain the sample by occupancy room type\n",
    "score_single = (hotels.loc[hotels['occupancy_n'] == 1, 'average_score'])\n",
    "score_double = (hotels.loc[hotels['occupancy_n'] == 2, 'average_score'])\n",
    "score_triple = (hotels.loc[hotels['occupancy_n'] == 3, 'average_score'])\n",
    "score_quad = (hotels.loc[hotels['occupancy_n'] == 4, 'average_score'])\n",
    "score_other_o_room = (hotels.loc[hotels['occupancy_n'] == 5, 'average_score'])"
   ]
  },
  {
   "cell_type": "code",
   "execution_count": 367,
   "metadata": {},
   "outputs": [
    {
     "name": "stdout",
     "output_type": "stream",
     "text": [
      "For single:\n",
      "p-value = 0.000\n",
      "p-значение меньше, чем заданный уровень значимости 0.00. Распределение отлично от нормального\n",
      "\n",
      "For double:\n",
      "p-value = 0.000\n",
      "p-значение меньше, чем заданный уровень значимости 0.00. Распределение отлично от нормального\n",
      "\n",
      "For triple:\n",
      "p-value = 0.000\n",
      "p-значение меньше, чем заданный уровень значимости 0.00. Распределение отлично от нормального\n",
      "\n",
      "For quad:\n",
      "p-value = 0.000\n",
      "p-значение меньше, чем заданный уровень значимости 0.00. Распределение отлично от нормального\n",
      "\n",
      "For other occupancy:\n",
      "p-value = 0.000\n",
      "p-значение меньше, чем заданный уровень значимости 0.00. Распределение отлично от нормального\n"
     ]
    }
   ],
   "source": [
    "#execute Shapiro-Wilk\n",
    "print('For single:')\n",
    "result = stats.shapiro(score_single)\n",
    "decision_normality(result[1])\n",
    "print()\n",
    "\n",
    "print('For double:')\n",
    "result = stats.shapiro(score_double)\n",
    "decision_normality(result[1])\n",
    "print()\n",
    "\n",
    "print('For triple:')\n",
    "result = stats.shapiro(score_triple)\n",
    "decision_normality(result[1])\n",
    "print()\n",
    "\n",
    "print('For quad:')\n",
    "result = stats.shapiro(score_quad)\n",
    "decision_normality(result[1])\n",
    "print()\n",
    "\n",
    "print('For other occupancy:')\n",
    "result = stats.shapiro(score_other_o_room)\n",
    "decision_normality(result[1])"
   ]
  },
  {
   "cell_type": "markdown",
   "metadata": {},
   "source": [
    "Проверка на равенство дисперсий между выборками данных:"
   ]
  },
  {
   "cell_type": "code",
   "execution_count": 368,
   "metadata": {},
   "outputs": [
    {
     "name": "stdout",
     "output_type": "stream",
     "text": [
      "p-value = 0.000\n",
      "неравная дисперсия, необходимо использовать непараметрические тесты\n",
      "\n"
     ]
    }
   ],
   "source": [
    "#execute Levene Test for variance equality\n",
    "result = stats.levene(score_single, score_double, score_triple, score_quad, score_other_o_room)\n",
    "pv = result[1]\n",
    "print(f'p-value = {pv:.3f}')\n",
    "\n",
    "#interpret the result\n",
    "if pv <= alpha:\n",
    "    print('неравная дисперсия, необходимо использовать непараметрические тесты')\n",
    "else:\n",
    "    print('равная дисперсия, можно использовать параметрические тесты')\n",
    "print()"
   ]
  },
  {
   "cell_type": "code",
   "execution_count": 369,
   "metadata": {},
   "outputs": [
    {
     "name": "stdout",
     "output_type": "stream",
     "text": [
      "1814.8459552, 0.0000000\n",
      "неравная дисперсия, необходимо использовать непараметрические тесты\n",
      "\n"
     ]
    }
   ],
   "source": [
    "#Bartlett's Test\n",
    "test_statistic, p_value = stats.bartlett(score_single, score_double, score_triple, score_quad, score_other_o_room)\n",
    "\n",
    "print(f'{test_statistic:.7f}, {p_value:.7f}')\n",
    "\n",
    "#interpret the result\n",
    "if p_value <= alpha:\n",
    "    print('неравная дисперсия, необходимо использовать непараметрические тесты')\n",
    "else:\n",
    "    print('равная дисперсия, можно использовать параметрические тесты')\n",
    "print()"
   ]
  },
  {
   "cell_type": "markdown",
   "metadata": {},
   "source": [
    "**Выберем подходящий статистический тест**\n",
    "\n",
    "Для выбора нужного теста воспользуемся алгоритмом выбора теста:\n",
    "* Тип признака - количественный;\n",
    "* Количество анализируемых групп: 5;\n",
    "* Зависимость групп: независимы;\n",
    "* Распределение по нормальному закону: нет.\n",
    "\n",
    "Чтобы проверить нашу гипотезу, можно использовать **Kruskal-Wallis** для сравнения распределений."
   ]
  },
  {
   "cell_type": "code",
   "execution_count": 370,
   "metadata": {},
   "outputs": [
    {
     "name": "stdout",
     "output_type": "stream",
     "text": [
      "p-value = 0.000\n",
      "p-значение меньше, чем заданный уровень значимости 0.00. Отвергаем нулевую гипотезу в пользу альтернативной.\n"
     ]
    }
   ],
   "source": [
    "#Kruskal-Wallis Test\n",
    "_, p = stats.kruskal(score_single, score_double, score_triple, score_quad, score_other_o_room)\n",
    "\n",
    "#interpret the result\n",
    "decision_hypothesis(p)"
   ]
  },
  {
   "cell_type": "markdown",
   "metadata": {},
   "source": [
    "#### 7(b). По типу кровати:"
   ]
  },
  {
   "cell_type": "markdown",
   "metadata": {},
   "source": [
    "**Сформулируем нулевую и альтернативные гипотезы**\n",
    "\n",
    "*Нулевая гипотеза* ($H_0$): средняя оценка не отличается по типу кровати: \\\n",
    "double bed ($μ_1$), twin bed ($μ_2$), queen bed ($u_3$), king bed ($μ_4$), studio bed ($μ_5$), other bed types ($μ_6$).\n",
    "\n",
    "$$ H_0 : μ_1 = μ_2 = μ_3 = μ_4 = μ_5 = μ_6$$\n",
    "\n",
    "*Альтернативная гипотеза* ($H_1$): средняя оценка отличается по типу кровати: \\\n",
    "double bed ($μ_1$), twin bed ($μ_2$), queen bed ($u_3$), king bed ($μ_4$), studio bed ($μ_5$), other bed types ($μ_6$).\n",
    "\n",
    "$$ H_1 : μ_1 \\neq μ_2 \\neq μ_3 \\neq μ_4 \\neq μ_5 \\neq μ_6$$\n"
   ]
  },
  {
   "cell_type": "markdown",
   "metadata": {},
   "source": [
    "##### Проверка на Нормальность\n",
    "\n",
    "С помощью теста Shapiro-Wilk можно проверить, распределён ли признак нормально, но размер выборки слишком велик, поэтому дополнительно используем гистограммы.\n",
    "\n",
    "*Нулевая гипотеза* ($H_0$): распределение данные является нормальным.\n",
    "\n",
    "*Альтернативная гипотеза* ($H_1$): распределение данных отлично от нормального."
   ]
  },
  {
   "cell_type": "code",
   "execution_count": 371,
   "metadata": {},
   "outputs": [],
   "source": [
    "#filter by bed type\n",
    "hist_double_bed = hotels[hotels['bedrooms_n'] == 1]\n",
    "hist_twin_bed = hotels[hotels['bedrooms_n'] == 2]\n",
    "hist_queen_bed = hotels[hotels['bedrooms_n'] == 3]\n",
    "hist_king_bed = hotels[hotels['bedrooms_n'] == 4]\n",
    "hist_studio_bed = hotels[hotels['bedrooms_n'] == 5]\n",
    "hist_other_bed = hotels[hotels['bedrooms_n'] == 6]\n",
    "\n",
    "\n",
    "#create multiple histograms\n",
    "fig = make_subplots(rows=2, cols=3,\n",
    "                    subplot_titles=('double bed', 'twin bed', 'queen bed', 'king bed', 'studio bed', 'other bed types'))\n",
    "\n",
    "fig.add_trace(go.Histogram(x=hist_double_bed['average_score']),\n",
    "              row=1, col=1)\n",
    "\n",
    "fig.add_trace(go.Histogram(x=hist_twin_bed['average_score']),\n",
    "              row=1, col=2)\n",
    "\n",
    "fig.add_trace(go.Histogram(x=hist_queen_bed['average_score']),\n",
    "              row=1, col=3)\n",
    "\n",
    "fig.add_trace(go.Histogram(x=hist_king_bed['average_score']),\n",
    "              row=2, col=1)\n",
    "\n",
    "fig.add_trace(go.Histogram(x=hist_studio_bed['average_score']),\n",
    "              row=2, col=2)\n",
    "\n",
    "fig.add_trace(go.Histogram(x=hist_other_bed['average_score']),\n",
    "              row=2, col=3)\n",
    "\n",
    "#set the axis limits\n",
    "fig.update_xaxes(range=[6.5, 10])\n",
    "\n",
    "fig.update_layout(\n",
    "    width=900,\n",
    "    height=600,\n",
    "    showlegend=False\n",
    ")\n",
    "\n",
    "#fig.show()\n",
    "\n",
    "#export the graph\n",
    "fig.write_html('plotly_graphs/12.6b_histogram_by_bedtype_normality_testing.html')"
   ]
  },
  {
   "cell_type": "code",
   "execution_count": 372,
   "metadata": {},
   "outputs": [],
   "source": [
    "#obtain the sample by occupancy room type\n",
    "score_double_bed = (hotels.loc[hotels['bedrooms_n'] == 1, 'average_score'])\n",
    "score_twin_bed = (hotels.loc[hotels['bedrooms_n'] == 2, 'average_score'])\n",
    "score_queen_bed = (hotels.loc[hotels['bedrooms_n'] == 3, 'average_score'])\n",
    "score_king_bed = (hotels.loc[hotels['bedrooms_n'] == 4, 'average_score'])\n",
    "score_studio_bed = (hotels.loc[hotels['bedrooms_n'] == 5, 'average_score'])\n",
    "score_other_b_room = (hotels.loc[hotels['bedrooms_n'] == 6, 'average_score'])"
   ]
  },
  {
   "cell_type": "code",
   "execution_count": 373,
   "metadata": {},
   "outputs": [
    {
     "name": "stdout",
     "output_type": "stream",
     "text": [
      "For double bed:\n",
      "p-value = 0.000\n",
      "p-значение меньше, чем заданный уровень значимости 0.00. Распределение отлично от нормального\n",
      "\n",
      "For twin bed:\n",
      "p-value = 0.000\n",
      "p-значение меньше, чем заданный уровень значимости 0.00. Распределение отлично от нормального\n",
      "\n",
      "For queen bed:\n",
      "p-value = 0.000\n",
      "p-значение меньше, чем заданный уровень значимости 0.00. Распределение отлично от нормального\n",
      "\n",
      "For king bed:\n",
      "p-value = 0.000\n",
      "p-значение меньше, чем заданный уровень значимости 0.00. Распределение отлично от нормального\n",
      "\n",
      "For studio bed:\n",
      "p-value = 0.000\n",
      "p-значение меньше, чем заданный уровень значимости 0.00. Распределение отлично от нормального\n",
      "For other bed types:\n",
      "p-value = 0.000\n",
      "p-значение меньше, чем заданный уровень значимости 0.00. Распределение отлично от нормального\n"
     ]
    }
   ],
   "source": [
    "#execute Shapiro-Wilk\n",
    "print('For double bed:')\n",
    "result = stats.shapiro(score_double_bed)\n",
    "decision_normality(result[1])\n",
    "print()\n",
    "\n",
    "print('For twin bed:')\n",
    "result = stats.shapiro(score_twin_bed)\n",
    "decision_normality(result[1])\n",
    "print()\n",
    "\n",
    "print('For queen bed:')\n",
    "result = stats.shapiro(score_queen_bed)\n",
    "decision_normality(result[1])\n",
    "print()\n",
    "\n",
    "print('For king bed:')\n",
    "result = stats.shapiro(score_king_bed)\n",
    "decision_normality(result[1])\n",
    "print()\n",
    "\n",
    "print('For studio bed:')\n",
    "result = stats.shapiro(score_studio_bed)\n",
    "decision_normality(result[1])\n",
    "\n",
    "print('For other bed types:')\n",
    "result = stats.shapiro(score_other_b_room)\n",
    "decision_normality(result[1])"
   ]
  },
  {
   "cell_type": "markdown",
   "metadata": {},
   "source": [
    "Проверка на равенство дисперсий между выборками данных:"
   ]
  },
  {
   "cell_type": "code",
   "execution_count": 374,
   "metadata": {},
   "outputs": [
    {
     "name": "stdout",
     "output_type": "stream",
     "text": [
      "p-value = 0.000\n",
      "неравная дисперсия, необходимо использовать непараметрические тесты\n",
      "\n"
     ]
    }
   ],
   "source": [
    "#execute Levene Test for variance equality\n",
    "result = stats.levene(score_double_bed, score_twin_bed, score_queen_bed, score_king_bed, score_studio_bed, score_other_b_room)\n",
    "pv = result[1]\n",
    "print(f'p-value = {pv:.3f}')\n",
    "\n",
    "#interpret the result\n",
    "if pv <= alpha:\n",
    "    print('неравная дисперсия, необходимо использовать непараметрические тесты')\n",
    "else:\n",
    "    print('равная дисперсия, можно использовать параметрические тесты')\n",
    "print()"
   ]
  },
  {
   "cell_type": "code",
   "execution_count": 375,
   "metadata": {},
   "outputs": [
    {
     "name": "stdout",
     "output_type": "stream",
     "text": [
      "7527.4075654, 0.0000000\n",
      "неравная дисперсия, необходимо использовать непараметрические тесты\n",
      "\n"
     ]
    }
   ],
   "source": [
    "#Bartlett's Test\n",
    "test_statistic, p_value = stats.bartlett(score_double_bed, score_twin_bed, score_queen_bed, score_king_bed, score_studio_bed, score_other_b_room)\n",
    "\n",
    "print(f'{test_statistic:.7f}, {p_value:.7f}')\n",
    "\n",
    "#interpret the result\n",
    "if p_value <= alpha:\n",
    "    print('неравная дисперсия, необходимо использовать непараметрические тесты')\n",
    "else:\n",
    "    print('равная дисперсия, можно использовать параметрические тесты')\n",
    "print()"
   ]
  },
  {
   "cell_type": "markdown",
   "metadata": {},
   "source": [
    "**Выберем подходящий статистический тест**\n",
    "\n",
    "Для выбора нужного теста воспользуемся алгоритмом выбора теста:\n",
    "* Тип признака - количественный;\n",
    "* Количество анализируемых групп: 6;\n",
    "* Зависимость групп: независимы;\n",
    "* Распределение по нормальному закону: нет.\n",
    "\n",
    "Чтобы проверить нашу гипотезу, можно использовать **Kruskal-Wallis** для сравнения распределений."
   ]
  },
  {
   "cell_type": "code",
   "execution_count": 376,
   "metadata": {},
   "outputs": [
    {
     "name": "stdout",
     "output_type": "stream",
     "text": [
      "p-value = 0.000\n",
      "p-значение меньше, чем заданный уровень значимости 0.00. Отвергаем нулевую гипотезу в пользу альтернативной.\n"
     ]
    }
   ],
   "source": [
    "#Kruskal-Wallis Test\n",
    "_, p = stats.kruskal(score_double_bed, score_twin_bed, score_queen_bed, score_king_bed, score_studio_bed, score_other_b_room)\n",
    "\n",
    "#interpret the result\n",
    "decision_hypothesis(p)"
   ]
  },
  {
   "cell_type": "markdown",
   "metadata": {},
   "source": [
    "#### 7(c). По макету:"
   ]
  },
  {
   "cell_type": "markdown",
   "metadata": {},
   "source": [
    "**Сформулируем нулевую и альтернативные гипотезы**\n",
    "\n",
    "*Нулевая гипотеза* ($H_0$): средняя оценка не отличается по макету комнаты: \\\n",
    "standard ($μ_1$), deluxe ($μ_2$), connecting ($u_3$), suite ($μ_4$), apartment ($μ_5$), accessible ($μ_6$), other layout rooms (($μ_7$)).\n",
    "\n",
    "$$ H_0 : μ_1 = μ_2 = μ_3 = μ_4 = μ_5 = μ_6 = μ_7$$\n",
    "\n",
    "*Альтернативная гипотеза* ($H_1$): средняя оценка отличается от макету отеля: \\\n",
    "standard ($μ_1$), deluxe ($μ_2$), connecting ($u_3$), suite ($μ_4$), apartment ($μ_5$), accessible ($μ_6$), other layout rooms (($μ_7$)).\n",
    "\n",
    "$$ H_1 : μ_1 \\neq μ_2 \\neq μ_3 \\neq μ_4 \\neq μ_5 \\neq μ_6 \\neq μ_7$$\n"
   ]
  },
  {
   "cell_type": "markdown",
   "metadata": {},
   "source": [
    "##### Проверка на Нормальность\n",
    "\n",
    "С помощью теста Shapiro-Wilk можно проверить, распределён ли признак нормально, но размер выборки слишком велик, поэтому дополнительно используем гистограммы.\n",
    "\n",
    "*Нулевая гипотеза* ($H_0$): распределение данные является нормальным.\n",
    "\n",
    "*Альтернативная гипотеза* ($H_1$): распределение данных отлично от нормального."
   ]
  },
  {
   "cell_type": "code",
   "execution_count": 377,
   "metadata": {},
   "outputs": [],
   "source": [
    "#filter by layout\n",
    "hist_standard = hotels[hotels['layout_n'] == 1]\n",
    "hist_deluxe = hotels[hotels['layout_n'] == 2]\n",
    "hist_connecting = hotels[hotels['layout_n'] == 4]\n",
    "hist_suite = hotels[hotels['layout_n'] == 5]\n",
    "hist_apartment = hotels[hotels['layout_n'] == 6]\n",
    "hist_accessible = hotels[hotels['layout_n'] == 7]\n",
    "hist_other_layout = hotels[hotels['layout_n'] == 8]\n",
    "\n",
    "\n",
    "#create multiple histograms\n",
    "fig = make_subplots(rows=2, cols=4,\n",
    "                    subplot_titles=('standard', 'deluxe', 'connecting', 'suite', 'apartment', 'accessible', 'other layout'))\n",
    "\n",
    "fig.add_trace(go.Histogram(x=hist_standard['average_score']),\n",
    "              row=1, col=1)\n",
    "\n",
    "fig.add_trace(go.Histogram(x=hist_deluxe['average_score']),\n",
    "              row=1, col=2)\n",
    "\n",
    "fig.add_trace(go.Histogram(x=hist_connecting['average_score']),\n",
    "              row=1, col=3)\n",
    "\n",
    "fig.add_trace(go.Histogram(x=hist_suite['average_score']),\n",
    "              row=1, col=4)\n",
    "\n",
    "fig.add_trace(go.Histogram(x=hist_apartment['average_score']),\n",
    "              row=2, col=1)\n",
    "\n",
    "fig.add_trace(go.Histogram(x=hist_accessible['average_score']),\n",
    "              row=2, col=2)\n",
    "\n",
    "fig.add_trace(go.Histogram(x=hist_other_layout['average_score']),\n",
    "              row=2, col=3)\n",
    "\n",
    "#set the axis limits\n",
    "fig.update_xaxes(range=[6.5, 10])\n",
    "\n",
    "fig.update_layout(\n",
    "    width=900,\n",
    "    height=600,\n",
    "    showlegend=False\n",
    ")\n",
    "\n",
    "#fig.show()\n",
    "\n",
    "#export the graph\n",
    "fig.write_html('plotly_graphs/12.6c_histogram_by_layout_normality_testing.html')"
   ]
  },
  {
   "cell_type": "code",
   "execution_count": 378,
   "metadata": {},
   "outputs": [],
   "source": [
    "#obtain the sample by layout room type\n",
    "score_standard = (hotels.loc[hotels['layout_n'] == 1, 'average_score'])\n",
    "score_deluxe = (hotels.loc[hotels['layout_n'] == 2, 'average_score'])\n",
    "score_connecting = (hotels.loc[hotels['layout_n'] == 4, 'average_score'])\n",
    "score_suite = (hotels.loc[hotels['layout_n'] == 5, 'average_score'])\n",
    "score_apartment = (hotels.loc[hotels['layout_n'] == 6, 'average_score'])\n",
    "score_accessible = (hotels.loc[hotels['layout_n'] == 7, 'average_score'])\n",
    "score_other_l_room = (hotels.loc[hotels['layout_n'] == 8, 'average_score'])"
   ]
  },
  {
   "cell_type": "code",
   "execution_count": 379,
   "metadata": {},
   "outputs": [
    {
     "name": "stdout",
     "output_type": "stream",
     "text": [
      "For standard:\n",
      "p-value = 0.000\n",
      "p-значение меньше, чем заданный уровень значимости 0.00. Распределение отлично от нормального\n",
      "\n",
      "For deluxe:\n",
      "p-value = 0.000\n",
      "p-значение меньше, чем заданный уровень значимости 0.00. Распределение отлично от нормального\n",
      "\n",
      "For connecting:\n",
      "p-value = 0.000\n",
      "p-значение меньше, чем заданный уровень значимости 0.00. Распределение отлично от нормального\n",
      "\n",
      "For suite:\n",
      "p-value = 0.000\n",
      "p-значение меньше, чем заданный уровень значимости 0.00. Распределение отлично от нормального\n",
      "\n",
      "For apartment:\n",
      "p-value = 0.000\n",
      "p-значение меньше, чем заданный уровень значимости 0.00. Распределение отлично от нормального\n",
      "For accessible:\n",
      "p-value = 0.000\n",
      "p-значение меньше, чем заданный уровень значимости 0.00. Распределение отлично от нормального\n",
      "For other layout rooms:\n",
      "p-value = 0.000\n",
      "p-значение меньше, чем заданный уровень значимости 0.00. Распределение отлично от нормального\n"
     ]
    }
   ],
   "source": [
    "#execute Shapiro-Wilk\n",
    "print('For standard:')\n",
    "result = stats.shapiro(score_standard)\n",
    "decision_normality(result[1])\n",
    "print()\n",
    "\n",
    "print('For deluxe:')\n",
    "result = stats.shapiro(score_deluxe)\n",
    "decision_normality(result[1])\n",
    "print()\n",
    "\n",
    "print('For connecting:')\n",
    "result = stats.shapiro(score_connecting)\n",
    "decision_normality(result[1])\n",
    "print()\n",
    "\n",
    "print('For suite:')\n",
    "result = stats.shapiro(score_suite)\n",
    "decision_normality(result[1])\n",
    "print()\n",
    "\n",
    "print('For apartment:')\n",
    "result = stats.shapiro(score_apartment)\n",
    "decision_normality(result[1])\n",
    "\n",
    "print('For accessible:')\n",
    "result = stats.shapiro(score_accessible)\n",
    "decision_normality(result[1])\n",
    "\n",
    "print('For other layout rooms:')\n",
    "result = stats.shapiro(score_other_l_room)\n",
    "decision_normality(result[1])"
   ]
  },
  {
   "cell_type": "markdown",
   "metadata": {},
   "source": [
    "Проверка на равенство дисперсий между выборками данных:"
   ]
  },
  {
   "cell_type": "code",
   "execution_count": 380,
   "metadata": {},
   "outputs": [
    {
     "name": "stdout",
     "output_type": "stream",
     "text": [
      "p-value = 0.000\n",
      "неравная дисперсия, необходимо использовать непараметрические тесты\n",
      "\n"
     ]
    }
   ],
   "source": [
    "#execute Levene Test for variance equality\n",
    "result = stats.levene(score_standard, score_deluxe, score_connecting, score_suite, score_apartment, score_accessible, score_other_l_room)\n",
    "pv = result[1]\n",
    "print(f'p-value = {pv:.3f}')\n",
    "\n",
    "#interpret the result\n",
    "if pv <= alpha:\n",
    "    print('неравная дисперсия, необходимо использовать непараметрические тесты')\n",
    "else:\n",
    "    print('равная дисперсия, можно использовать параметрические тесты')\n",
    "print()"
   ]
  },
  {
   "cell_type": "code",
   "execution_count": 381,
   "metadata": {},
   "outputs": [
    {
     "name": "stdout",
     "output_type": "stream",
     "text": [
      "833.4703693, 0.0000000\n",
      "неравная дисперсия, необходимо использовать непараметрические тесты\n",
      "\n"
     ]
    }
   ],
   "source": [
    "#Bartlett's Test\n",
    "test_statistic, p_value = stats.bartlett(score_standard, score_deluxe, score_connecting, score_suite, score_apartment, \\\n",
    "    score_accessible, score_other_l_room)\n",
    "\n",
    "print(f'{test_statistic:.7f}, {p_value:.7f}')\n",
    "\n",
    "#interpret the result\n",
    "if p_value <= alpha:\n",
    "    print('неравная дисперсия, необходимо использовать непараметрические тесты')\n",
    "else:\n",
    "    print('равная дисперсия, можно использовать параметрические тесты')\n",
    "print()"
   ]
  },
  {
   "cell_type": "markdown",
   "metadata": {},
   "source": [
    "**Выберем подходящий статистический тест**\n",
    "\n",
    "Для выбора нужного теста воспользуемся алгоритмом выбора теста:\n",
    "* Тип признака - количественный;\n",
    "* Количество анализируемых групп: 7;\n",
    "* Зависимость групп: независимы;\n",
    "* Распределение по нормальному закону: нет.\n",
    "\n",
    "Чтобы проверить нашу гипотезу, можно использовать **Kruskal-Wallis** для сравнения распределений."
   ]
  },
  {
   "cell_type": "code",
   "execution_count": 382,
   "metadata": {},
   "outputs": [
    {
     "name": "stdout",
     "output_type": "stream",
     "text": [
      "p-value = 0.000\n",
      "p-значение меньше, чем заданный уровень значимости 0.00. Отвергаем нулевую гипотезу в пользу альтернативной.\n"
     ]
    }
   ],
   "source": [
    "#Kruskal-Wallis Test\n",
    "_, p = stats.kruskal(score_standard, score_deluxe, score_connecting, score_suite, score_apartment, score_accessible, score_other_l_room)\n",
    "\n",
    "#interpret the result\n",
    "decision_hypothesis(p)"
   ]
  },
  {
   "cell_type": "markdown",
   "metadata": {},
   "source": [
    "#### 8. Влияет ли соотношение отрицательного и положительного в обзоре на оценку?"
   ]
  },
  {
   "cell_type": "markdown",
   "metadata": {},
   "source": [
    "**Сформулируем нулевую и альтернативные гипотезы**\n",
    "\n",
    "*Нулевая гипотеза* ($H_0$): средняя оценка не отличается от соотношения отрицательного и положительного в обзоре: \\\n",
    "0% ($μ_1$), 0-25% ($μ_2$), 25-50% ($u_3$), 50-75% ($μ_4$), 75-100% ($μ_5$), 100% ($μ_6$).\n",
    "\n",
    "$$ H_0 : μ_1 = μ_2 = μ_3 = μ_4 = μ_5 = μ_6$$\n",
    "\n",
    "*Альтернативная гипотеза* ($H_1$): средняя оценка отличается от соотношения отрицательного и положительного в обзоре: \\\n",
    "0% ($μ_1$), 0-25% ($μ_2$), 25-50% ($u_3$), 50-75% ($μ_4$), 75-100% ($μ_5$), 100% ($μ_6$).\n",
    "\n",
    "$$ H_1 : μ_1 \\neq μ_2 \\neq μ_3 \\neq μ_4 \\neq μ_5 \\neq μ_6$$"
   ]
  },
  {
   "cell_type": "markdown",
   "metadata": {},
   "source": [
    "##### Проверка на Нормальность\n",
    "\n",
    "С помощью теста Shapiro-Wilk можно проверить, распределён ли признак нормально, но размер выборки слишком велик, поэтому дополнительно используем гистограммы.\n",
    "\n",
    "*Нулевая гипотеза* ($H_0$): распределение данные является нормальным.\n",
    "\n",
    "*Альтернативная гипотеза* ($H_1$): распределение данных отлично от нормального."
   ]
  },
  {
   "cell_type": "code",
   "execution_count": 383,
   "metadata": {},
   "outputs": [],
   "source": [
    "#filter by proportion\n",
    "hist_prop_0 = hotels[hotels['neg_to_pos_prop'] == 0]\n",
    "hist_prop_0_25 = hotels[(hotels['neg_to_pos_prop'] > 0) & (hotels['neg_to_pos_prop'] < 25)]\n",
    "hist_prop_25_50 = hotels[(hotels['neg_to_pos_prop'] >= 25) & (hotels['neg_to_pos_prop'] < 50)]\n",
    "hist_prop_50_75 = hotels[(hotels['neg_to_pos_prop'] >= 50) & (hotels['neg_to_pos_prop'] < 75)]\n",
    "hist_prop_75_100 = hotels[(hotels['neg_to_pos_prop'] >= 75) & (hotels['neg_to_pos_prop'] < 100)]\n",
    "hist_prop_100 = hotels[hotels['neg_to_pos_prop'] == 100]\n",
    "\n",
    "\n",
    "#create multiple histograms\n",
    "fig = make_subplots(rows=2, cols=3,\n",
    "                    subplot_titles=('0%', '0-25%', '25-50%', '50-75%', '75-100%', '100%'))\n",
    "\n",
    "fig.add_trace(go.Histogram(x=hist_prop_0['average_score']),\n",
    "              row=1, col=1)\n",
    "\n",
    "fig.add_trace(go.Histogram(x=hist_prop_0_25['average_score']),\n",
    "              row=1, col=2)\n",
    "\n",
    "fig.add_trace(go.Histogram(x=hist_prop_25_50['average_score']),\n",
    "              row=1, col=3)\n",
    "\n",
    "fig.add_trace(go.Histogram(x=hist_prop_50_75['average_score']),\n",
    "              row=2, col=1)\n",
    "\n",
    "fig.add_trace(go.Histogram(x=hist_prop_75_100['average_score']),\n",
    "              row=2, col=2)\n",
    "\n",
    "fig.add_trace(go.Histogram(x=hist_prop_100['average_score']),\n",
    "              row=2, col=3)\n",
    "\n",
    "#set the axis limits\n",
    "fig.update_xaxes(range=[6.5, 10])\n",
    "\n",
    "fig.update_layout(\n",
    "    width=900,\n",
    "    height=600,\n",
    "    showlegend=False\n",
    ")\n",
    "\n",
    "#fig.show()\n",
    "\n",
    "#export the graph\n",
    "fig.write_html('plotly_graphs/12.7_histogram_by_proportion_normality_testing.html')"
   ]
  },
  {
   "cell_type": "code",
   "execution_count": 384,
   "metadata": {},
   "outputs": [],
   "source": [
    "#obtain the sample by proportion\n",
    "score_prop_0 = (hotels.loc[hotels['neg_to_pos_prop'] == 0, 'average_score'])\n",
    "score_prop_0_25 = (hotels.loc[(hotels['neg_to_pos_prop'] > 0) & (hotels['neg_to_pos_prop'] < 25), 'average_score'])\n",
    "score_prop_25_50 = (hotels.loc[(hotels['neg_to_pos_prop'] >= 25) & (hotels['neg_to_pos_prop'] < 50), 'average_score'])\n",
    "score_prop_50_75 = (hotels.loc[(hotels['neg_to_pos_prop'] >= 50) & (hotels['neg_to_pos_prop'] < 75), 'average_score'])\n",
    "score_prop_75_100 = (hotels.loc[(hotels['neg_to_pos_prop'] >= 75) & (hotels['neg_to_pos_prop'] < 100), 'average_score'])\n",
    "score_prop_100 = (hotels.loc[hotels['neg_to_pos_prop'] == 100, 'average_score'])"
   ]
  },
  {
   "cell_type": "code",
   "execution_count": 385,
   "metadata": {},
   "outputs": [
    {
     "name": "stdout",
     "output_type": "stream",
     "text": [
      "For 0%:\n",
      "p-value = 0.000\n",
      "p-значение меньше, чем заданный уровень значимости 0.00. Распределение отлично от нормального\n",
      "\n",
      "For 0-25%:\n",
      "p-value = 0.000\n",
      "p-значение меньше, чем заданный уровень значимости 0.00. Распределение отлично от нормального\n",
      "\n",
      "For 25-50%:\n",
      "p-value = 0.000\n",
      "p-значение меньше, чем заданный уровень значимости 0.00. Распределение отлично от нормального\n",
      "\n",
      "For 50-75%:\n",
      "p-value = 0.000\n",
      "p-значение меньше, чем заданный уровень значимости 0.00. Распределение отлично от нормального\n",
      "\n",
      "For 75-100%:\n",
      "p-value = 0.000\n",
      "p-значение меньше, чем заданный уровень значимости 0.00. Распределение отлично от нормального\n",
      "\n",
      "For 100%:\n",
      "p-value = 0.000\n",
      "p-значение меньше, чем заданный уровень значимости 0.00. Распределение отлично от нормального\n"
     ]
    }
   ],
   "source": [
    "#execute Shapiro-Wilk\n",
    "print('For 0%:')\n",
    "result = stats.shapiro(score_prop_0)\n",
    "decision_normality(result[1])\n",
    "print()\n",
    "\n",
    "print('For 0-25%:')\n",
    "result = stats.shapiro(score_prop_0_25)\n",
    "decision_normality(result[1])\n",
    "print()\n",
    "\n",
    "print('For 25-50%:')\n",
    "result = stats.shapiro(score_prop_25_50)\n",
    "decision_normality(result[1])\n",
    "print()\n",
    "\n",
    "print('For 50-75%:')\n",
    "result = stats.shapiro(score_prop_50_75)\n",
    "decision_normality(result[1])\n",
    "print()\n",
    "\n",
    "print('For 75-100%:')\n",
    "result = stats.shapiro(score_prop_75_100)\n",
    "decision_normality(result[1])\n",
    "print()\n",
    "\n",
    "print('For 100%:')\n",
    "result = stats.shapiro(score_prop_100)\n",
    "decision_normality(result[1])"
   ]
  },
  {
   "cell_type": "markdown",
   "metadata": {},
   "source": [
    "Проверка на равенство дисперсий между выборками данных:"
   ]
  },
  {
   "cell_type": "code",
   "execution_count": 386,
   "metadata": {},
   "outputs": [
    {
     "name": "stdout",
     "output_type": "stream",
     "text": [
      "p-value = 0.000\n",
      "неравная дисперсия, необходимо использовать непараметрические тесты\n",
      "\n"
     ]
    }
   ],
   "source": [
    "#execute Levene Test for variance equality\n",
    "result = stats.levene(score_prop_0, score_prop_0_25, score_prop_25_50, score_prop_50_75, score_prop_75_100, score_prop_100)\n",
    "pv = result[1]\n",
    "print(f'p-value = {pv:.3f}')\n",
    "\n",
    "#interpret the result\n",
    "if pv <= alpha:\n",
    "    print('неравная дисперсия, необходимо использовать непараметрические тесты')\n",
    "else:\n",
    "    print('равная дисперсия, можно использовать параметрические тесты')\n",
    "print()"
   ]
  },
  {
   "cell_type": "code",
   "execution_count": 387,
   "metadata": {},
   "outputs": [
    {
     "name": "stdout",
     "output_type": "stream",
     "text": [
      "1249.9289848, 0.0000000\n",
      "неравная дисперсия, необходимо использовать непараметрические тесты\n",
      "\n"
     ]
    }
   ],
   "source": [
    "#Bartlett's Test\n",
    "test_statistic, p_value = stats.bartlett(score_prop_0, score_prop_0_25, score_prop_25_50, score_prop_50_75, score_prop_75_100, score_prop_100)\n",
    "\n",
    "print(f'{test_statistic:.7f}, {p_value:.7f}')\n",
    "\n",
    "#interpret the result\n",
    "if p_value <= alpha:\n",
    "    print('неравная дисперсия, необходимо использовать непараметрические тесты')\n",
    "else:\n",
    "    print('равная дисперсия, можно использовать параметрические тесты')\n",
    "print()"
   ]
  },
  {
   "cell_type": "markdown",
   "metadata": {},
   "source": [
    "**Выберем подходящий статистический тест**\n",
    "\n",
    "Для выбора нужного теста воспользуемся алгоритмом выбора теста:\n",
    "* Тип признака - количественный;\n",
    "* Количество анализируемых групп: 6;\n",
    "* Зависимость групп: независимы;\n",
    "* Распределение по нормальному закону: нет.\n",
    "\n",
    "Чтобы проверить нашу гипотезу, можно использовать **Kruskal-Wallis** для сравнения распределений."
   ]
  },
  {
   "cell_type": "code",
   "execution_count": 388,
   "metadata": {},
   "outputs": [
    {
     "name": "stdout",
     "output_type": "stream",
     "text": [
      "p-value = 0.000\n",
      "p-значение меньше, чем заданный уровень значимости 0.00. Отвергаем нулевую гипотезу в пользу альтернативной.\n"
     ]
    }
   ],
   "source": [
    "#Kruskal-Wallis Test\n",
    "_, p = stats.kruskal(score_prop_0, score_prop_0_25, score_prop_25_50, score_prop_50_75, score_prop_75_100, score_prop_100)\n",
    "\n",
    "#interpret the result\n",
    "decision_hypothesis(p)"
   ]
  },
  {
   "cell_type": "markdown",
   "metadata": {},
   "source": [
    "### Проектирование Признаков"
   ]
  },
  {
   "cell_type": "markdown",
   "metadata": {},
   "source": [
    "##### Выбор признаков:"
   ]
  },
  {
   "cell_type": "code",
   "execution_count": 389,
   "metadata": {},
   "outputs": [],
   "source": [
    "#delete categorical features not to be used in the prediction\n",
    "hotels = hotels.drop(['country', 'c_distance', 'travel_purpose', 'traveler_type', 'room_type'],\n",
    "                     axis = 1,\n",
    "                     errors='ignore')"
   ]
  },
  {
   "cell_type": "markdown",
   "metadata": {},
   "source": [
    "##### Шкалирование признаков:"
   ]
  },
  {
   "cell_type": "code",
   "execution_count": 390,
   "metadata": {},
   "outputs": [],
   "source": [
    "#find features that are (reasonably) distributed normally\n",
    "standard_features = ['average_score', 'reviews_total', 'country_code', 'distance_n', 'hotel_name_n',\n",
    "                     'travel_purpose_n', 'traveler_type_n', 'duration_n', 'distance',\n",
    "                     'occupancy_n', 'bedrooms_n', 'trgt_encode_year_month',\n",
    "                     'n_negative', 'n_positive', 'p_negative', 'p_positive', 'neg_to_pos_prop',\n",
    "                     'n_neutral', 'n_compound', 'p_neutral', 'p_compound'\n",
    "                     ]\n",
    "\n",
    "#find features with (probable) outliers\n",
    "robust_features = ['citizen', 'reviewer_nationality_code', 'layout_n', 'reviewer_activity']\n",
    "\n",
    "from sklearn import preprocessing\n",
    "\n",
    "#initialize the normalizer for Standard Scaler\n",
    "s_scaler = preprocessing.StandardScaler()\n",
    "\n",
    "#initialize the normalizer for Robust Scaler\n",
    "r_scaler = preprocessing.RobustScaler()\n",
    "\n",
    "#encode the dataset\n",
    "hotels[standard_features] = s_scaler.fit_transform(hotels[standard_features])\n",
    "hotels[robust_features] = r_scaler.fit_transform(hotels[robust_features])"
   ]
  },
  {
   "cell_type": "code",
   "execution_count": 391,
   "metadata": {},
   "outputs": [],
   "source": [
    "#highlight the testing part\n",
    "train_data = hotels.query('sample == 1').drop(['sample'], axis=1)\n",
    "test_data = hotels.query('sample == 0').drop(['sample'], axis=1)"
   ]
  },
  {
   "cell_type": "code",
   "execution_count": 392,
   "metadata": {},
   "outputs": [],
   "source": [
    "#select the test features\n",
    "y = train_data.reviewer_score.values\n",
    "X = train_data.drop(['reviewer_score'], axis=1)"
   ]
  },
  {
   "cell_type": "markdown",
   "metadata": {},
   "source": [
    "### Построение Модели"
   ]
  },
  {
   "cell_type": "code",
   "execution_count": 393,
   "metadata": {},
   "outputs": [],
   "source": [
    "#commit RANDOM_SEED for future experiments\n",
    "RANDOM_SEED = 42"
   ]
  },
  {
   "cell_type": "code",
   "execution_count": 394,
   "metadata": {},
   "outputs": [],
   "source": [
    "#split the test data and allocate 20% of the data for validation\n",
    "X_train, X_test, y_train, y_test = train_test_split(X, y, test_size=0.2, random_state=RANDOM_SEED)"
   ]
  },
  {
   "cell_type": "code",
   "execution_count": 395,
   "metadata": {},
   "outputs": [
    {
     "data": {
      "text/plain": [
       "((128935, 26), (386803, 26), (386803, 25), (309442, 25), (77361, 25))"
      ]
     },
     "execution_count": 395,
     "metadata": {},
     "output_type": "execute_result"
    }
   ],
   "source": [
    "#check the data sets before testing\n",
    "test_data.shape, train_data.shape, X.shape, X_train.shape, X_test.shape"
   ]
  },
  {
   "cell_type": "code",
   "execution_count": 396,
   "metadata": {},
   "outputs": [],
   "source": [
    "#create the model\n",
    "model = RandomForestRegressor(n_estimators=100, verbose=1, n_jobs=-1, random_state=RANDOM_SEED)"
   ]
  },
  {
   "cell_type": "markdown",
   "metadata": {},
   "source": [
    "##### Обучение Модели"
   ]
  },
  {
   "cell_type": "code",
   "execution_count": 397,
   "metadata": {},
   "outputs": [
    {
     "name": "stderr",
     "output_type": "stream",
     "text": [
      "[Parallel(n_jobs=-1)]: Using backend ThreadingBackend with 8 concurrent workers.\n",
      "[Parallel(n_jobs=-1)]: Done  34 tasks      | elapsed:   20.6s\n",
      "[Parallel(n_jobs=-1)]: Done 100 out of 100 | elapsed:   51.5s finished\n"
     ]
    },
    {
     "data": {
      "text/html": [
       "<style>#sk-container-id-2 {\n",
       "  /* Definition of color scheme common for light and dark mode */\n",
       "  --sklearn-color-text: black;\n",
       "  --sklearn-color-line: gray;\n",
       "  /* Definition of color scheme for unfitted estimators */\n",
       "  --sklearn-color-unfitted-level-0: #fff5e6;\n",
       "  --sklearn-color-unfitted-level-1: #f6e4d2;\n",
       "  --sklearn-color-unfitted-level-2: #ffe0b3;\n",
       "  --sklearn-color-unfitted-level-3: chocolate;\n",
       "  /* Definition of color scheme for fitted estimators */\n",
       "  --sklearn-color-fitted-level-0: #f0f8ff;\n",
       "  --sklearn-color-fitted-level-1: #d4ebff;\n",
       "  --sklearn-color-fitted-level-2: #b3dbfd;\n",
       "  --sklearn-color-fitted-level-3: cornflowerblue;\n",
       "\n",
       "  /* Specific color for light theme */\n",
       "  --sklearn-color-text-on-default-background: var(--sg-text-color, var(--theme-code-foreground, var(--jp-content-font-color1, black)));\n",
       "  --sklearn-color-background: var(--sg-background-color, var(--theme-background, var(--jp-layout-color0, white)));\n",
       "  --sklearn-color-border-box: var(--sg-text-color, var(--theme-code-foreground, var(--jp-content-font-color1, black)));\n",
       "  --sklearn-color-icon: #696969;\n",
       "\n",
       "  @media (prefers-color-scheme: dark) {\n",
       "    /* Redefinition of color scheme for dark theme */\n",
       "    --sklearn-color-text-on-default-background: var(--sg-text-color, var(--theme-code-foreground, var(--jp-content-font-color1, white)));\n",
       "    --sklearn-color-background: var(--sg-background-color, var(--theme-background, var(--jp-layout-color0, #111)));\n",
       "    --sklearn-color-border-box: var(--sg-text-color, var(--theme-code-foreground, var(--jp-content-font-color1, white)));\n",
       "    --sklearn-color-icon: #878787;\n",
       "  }\n",
       "}\n",
       "\n",
       "#sk-container-id-2 {\n",
       "  color: var(--sklearn-color-text);\n",
       "}\n",
       "\n",
       "#sk-container-id-2 pre {\n",
       "  padding: 0;\n",
       "}\n",
       "\n",
       "#sk-container-id-2 input.sk-hidden--visually {\n",
       "  border: 0;\n",
       "  clip: rect(1px 1px 1px 1px);\n",
       "  clip: rect(1px, 1px, 1px, 1px);\n",
       "  height: 1px;\n",
       "  margin: -1px;\n",
       "  overflow: hidden;\n",
       "  padding: 0;\n",
       "  position: absolute;\n",
       "  width: 1px;\n",
       "}\n",
       "\n",
       "#sk-container-id-2 div.sk-dashed-wrapped {\n",
       "  border: 1px dashed var(--sklearn-color-line);\n",
       "  margin: 0 0.4em 0.5em 0.4em;\n",
       "  box-sizing: border-box;\n",
       "  padding-bottom: 0.4em;\n",
       "  background-color: var(--sklearn-color-background);\n",
       "}\n",
       "\n",
       "#sk-container-id-2 div.sk-container {\n",
       "  /* jupyter's `normalize.less` sets `[hidden] { display: none; }`\n",
       "     but bootstrap.min.css set `[hidden] { display: none !important; }`\n",
       "     so we also need the `!important` here to be able to override the\n",
       "     default hidden behavior on the sphinx rendered scikit-learn.org.\n",
       "     See: https://github.com/scikit-learn/scikit-learn/issues/21755 */\n",
       "  display: inline-block !important;\n",
       "  position: relative;\n",
       "}\n",
       "\n",
       "#sk-container-id-2 div.sk-text-repr-fallback {\n",
       "  display: none;\n",
       "}\n",
       "\n",
       "div.sk-parallel-item,\n",
       "div.sk-serial,\n",
       "div.sk-item {\n",
       "  /* draw centered vertical line to link estimators */\n",
       "  background-image: linear-gradient(var(--sklearn-color-text-on-default-background), var(--sklearn-color-text-on-default-background));\n",
       "  background-size: 2px 100%;\n",
       "  background-repeat: no-repeat;\n",
       "  background-position: center center;\n",
       "}\n",
       "\n",
       "/* Parallel-specific style estimator block */\n",
       "\n",
       "#sk-container-id-2 div.sk-parallel-item::after {\n",
       "  content: \"\";\n",
       "  width: 100%;\n",
       "  border-bottom: 2px solid var(--sklearn-color-text-on-default-background);\n",
       "  flex-grow: 1;\n",
       "}\n",
       "\n",
       "#sk-container-id-2 div.sk-parallel {\n",
       "  display: flex;\n",
       "  align-items: stretch;\n",
       "  justify-content: center;\n",
       "  background-color: var(--sklearn-color-background);\n",
       "  position: relative;\n",
       "}\n",
       "\n",
       "#sk-container-id-2 div.sk-parallel-item {\n",
       "  display: flex;\n",
       "  flex-direction: column;\n",
       "}\n",
       "\n",
       "#sk-container-id-2 div.sk-parallel-item:first-child::after {\n",
       "  align-self: flex-end;\n",
       "  width: 50%;\n",
       "}\n",
       "\n",
       "#sk-container-id-2 div.sk-parallel-item:last-child::after {\n",
       "  align-self: flex-start;\n",
       "  width: 50%;\n",
       "}\n",
       "\n",
       "#sk-container-id-2 div.sk-parallel-item:only-child::after {\n",
       "  width: 0;\n",
       "}\n",
       "\n",
       "/* Serial-specific style estimator block */\n",
       "\n",
       "#sk-container-id-2 div.sk-serial {\n",
       "  display: flex;\n",
       "  flex-direction: column;\n",
       "  align-items: center;\n",
       "  background-color: var(--sklearn-color-background);\n",
       "  padding-right: 1em;\n",
       "  padding-left: 1em;\n",
       "}\n",
       "\n",
       "\n",
       "/* Toggleable style: style used for estimator/Pipeline/ColumnTransformer box that is\n",
       "clickable and can be expanded/collapsed.\n",
       "- Pipeline and ColumnTransformer use this feature and define the default style\n",
       "- Estimators will overwrite some part of the style using the `sk-estimator` class\n",
       "*/\n",
       "\n",
       "/* Pipeline and ColumnTransformer style (default) */\n",
       "\n",
       "#sk-container-id-2 div.sk-toggleable {\n",
       "  /* Default theme specific background. It is overwritten whether we have a\n",
       "  specific estimator or a Pipeline/ColumnTransformer */\n",
       "  background-color: var(--sklearn-color-background);\n",
       "}\n",
       "\n",
       "/* Toggleable label */\n",
       "#sk-container-id-2 label.sk-toggleable__label {\n",
       "  cursor: pointer;\n",
       "  display: block;\n",
       "  width: 100%;\n",
       "  margin-bottom: 0;\n",
       "  padding: 0.5em;\n",
       "  box-sizing: border-box;\n",
       "  text-align: center;\n",
       "}\n",
       "\n",
       "#sk-container-id-2 label.sk-toggleable__label-arrow:before {\n",
       "  /* Arrow on the left of the label */\n",
       "  content: \"▸\";\n",
       "  float: left;\n",
       "  margin-right: 0.25em;\n",
       "  color: var(--sklearn-color-icon);\n",
       "}\n",
       "\n",
       "#sk-container-id-2 label.sk-toggleable__label-arrow:hover:before {\n",
       "  color: var(--sklearn-color-text);\n",
       "}\n",
       "\n",
       "/* Toggleable content - dropdown */\n",
       "\n",
       "#sk-container-id-2 div.sk-toggleable__content {\n",
       "  max-height: 0;\n",
       "  max-width: 0;\n",
       "  overflow: hidden;\n",
       "  text-align: left;\n",
       "  /* unfitted */\n",
       "  background-color: var(--sklearn-color-unfitted-level-0);\n",
       "}\n",
       "\n",
       "#sk-container-id-2 div.sk-toggleable__content.fitted {\n",
       "  /* fitted */\n",
       "  background-color: var(--sklearn-color-fitted-level-0);\n",
       "}\n",
       "\n",
       "#sk-container-id-2 div.sk-toggleable__content pre {\n",
       "  margin: 0.2em;\n",
       "  border-radius: 0.25em;\n",
       "  color: var(--sklearn-color-text);\n",
       "  /* unfitted */\n",
       "  background-color: var(--sklearn-color-unfitted-level-0);\n",
       "}\n",
       "\n",
       "#sk-container-id-2 div.sk-toggleable__content.fitted pre {\n",
       "  /* unfitted */\n",
       "  background-color: var(--sklearn-color-fitted-level-0);\n",
       "}\n",
       "\n",
       "#sk-container-id-2 input.sk-toggleable__control:checked~div.sk-toggleable__content {\n",
       "  /* Expand drop-down */\n",
       "  max-height: 200px;\n",
       "  max-width: 100%;\n",
       "  overflow: auto;\n",
       "}\n",
       "\n",
       "#sk-container-id-2 input.sk-toggleable__control:checked~label.sk-toggleable__label-arrow:before {\n",
       "  content: \"▾\";\n",
       "}\n",
       "\n",
       "/* Pipeline/ColumnTransformer-specific style */\n",
       "\n",
       "#sk-container-id-2 div.sk-label input.sk-toggleable__control:checked~label.sk-toggleable__label {\n",
       "  color: var(--sklearn-color-text);\n",
       "  background-color: var(--sklearn-color-unfitted-level-2);\n",
       "}\n",
       "\n",
       "#sk-container-id-2 div.sk-label.fitted input.sk-toggleable__control:checked~label.sk-toggleable__label {\n",
       "  background-color: var(--sklearn-color-fitted-level-2);\n",
       "}\n",
       "\n",
       "/* Estimator-specific style */\n",
       "\n",
       "/* Colorize estimator box */\n",
       "#sk-container-id-2 div.sk-estimator input.sk-toggleable__control:checked~label.sk-toggleable__label {\n",
       "  /* unfitted */\n",
       "  background-color: var(--sklearn-color-unfitted-level-2);\n",
       "}\n",
       "\n",
       "#sk-container-id-2 div.sk-estimator.fitted input.sk-toggleable__control:checked~label.sk-toggleable__label {\n",
       "  /* fitted */\n",
       "  background-color: var(--sklearn-color-fitted-level-2);\n",
       "}\n",
       "\n",
       "#sk-container-id-2 div.sk-label label.sk-toggleable__label,\n",
       "#sk-container-id-2 div.sk-label label {\n",
       "  /* The background is the default theme color */\n",
       "  color: var(--sklearn-color-text-on-default-background);\n",
       "}\n",
       "\n",
       "/* On hover, darken the color of the background */\n",
       "#sk-container-id-2 div.sk-label:hover label.sk-toggleable__label {\n",
       "  color: var(--sklearn-color-text);\n",
       "  background-color: var(--sklearn-color-unfitted-level-2);\n",
       "}\n",
       "\n",
       "/* Label box, darken color on hover, fitted */\n",
       "#sk-container-id-2 div.sk-label.fitted:hover label.sk-toggleable__label.fitted {\n",
       "  color: var(--sklearn-color-text);\n",
       "  background-color: var(--sklearn-color-fitted-level-2);\n",
       "}\n",
       "\n",
       "/* Estimator label */\n",
       "\n",
       "#sk-container-id-2 div.sk-label label {\n",
       "  font-family: monospace;\n",
       "  font-weight: bold;\n",
       "  display: inline-block;\n",
       "  line-height: 1.2em;\n",
       "}\n",
       "\n",
       "#sk-container-id-2 div.sk-label-container {\n",
       "  text-align: center;\n",
       "}\n",
       "\n",
       "/* Estimator-specific */\n",
       "#sk-container-id-2 div.sk-estimator {\n",
       "  font-family: monospace;\n",
       "  border: 1px dotted var(--sklearn-color-border-box);\n",
       "  border-radius: 0.25em;\n",
       "  box-sizing: border-box;\n",
       "  margin-bottom: 0.5em;\n",
       "  /* unfitted */\n",
       "  background-color: var(--sklearn-color-unfitted-level-0);\n",
       "}\n",
       "\n",
       "#sk-container-id-2 div.sk-estimator.fitted {\n",
       "  /* fitted */\n",
       "  background-color: var(--sklearn-color-fitted-level-0);\n",
       "}\n",
       "\n",
       "/* on hover */\n",
       "#sk-container-id-2 div.sk-estimator:hover {\n",
       "  /* unfitted */\n",
       "  background-color: var(--sklearn-color-unfitted-level-2);\n",
       "}\n",
       "\n",
       "#sk-container-id-2 div.sk-estimator.fitted:hover {\n",
       "  /* fitted */\n",
       "  background-color: var(--sklearn-color-fitted-level-2);\n",
       "}\n",
       "\n",
       "/* Specification for estimator info (e.g. \"i\" and \"?\") */\n",
       "\n",
       "/* Common style for \"i\" and \"?\" */\n",
       "\n",
       ".sk-estimator-doc-link,\n",
       "a:link.sk-estimator-doc-link,\n",
       "a:visited.sk-estimator-doc-link {\n",
       "  float: right;\n",
       "  font-size: smaller;\n",
       "  line-height: 1em;\n",
       "  font-family: monospace;\n",
       "  background-color: var(--sklearn-color-background);\n",
       "  border-radius: 1em;\n",
       "  height: 1em;\n",
       "  width: 1em;\n",
       "  text-decoration: none !important;\n",
       "  margin-left: 1ex;\n",
       "  /* unfitted */\n",
       "  border: var(--sklearn-color-unfitted-level-1) 1pt solid;\n",
       "  color: var(--sklearn-color-unfitted-level-1);\n",
       "}\n",
       "\n",
       ".sk-estimator-doc-link.fitted,\n",
       "a:link.sk-estimator-doc-link.fitted,\n",
       "a:visited.sk-estimator-doc-link.fitted {\n",
       "  /* fitted */\n",
       "  border: var(--sklearn-color-fitted-level-1) 1pt solid;\n",
       "  color: var(--sklearn-color-fitted-level-1);\n",
       "}\n",
       "\n",
       "/* On hover */\n",
       "div.sk-estimator:hover .sk-estimator-doc-link:hover,\n",
       ".sk-estimator-doc-link:hover,\n",
       "div.sk-label-container:hover .sk-estimator-doc-link:hover,\n",
       ".sk-estimator-doc-link:hover {\n",
       "  /* unfitted */\n",
       "  background-color: var(--sklearn-color-unfitted-level-3);\n",
       "  color: var(--sklearn-color-background);\n",
       "  text-decoration: none;\n",
       "}\n",
       "\n",
       "div.sk-estimator.fitted:hover .sk-estimator-doc-link.fitted:hover,\n",
       ".sk-estimator-doc-link.fitted:hover,\n",
       "div.sk-label-container:hover .sk-estimator-doc-link.fitted:hover,\n",
       ".sk-estimator-doc-link.fitted:hover {\n",
       "  /* fitted */\n",
       "  background-color: var(--sklearn-color-fitted-level-3);\n",
       "  color: var(--sklearn-color-background);\n",
       "  text-decoration: none;\n",
       "}\n",
       "\n",
       "/* Span, style for the box shown on hovering the info icon */\n",
       ".sk-estimator-doc-link span {\n",
       "  display: none;\n",
       "  z-index: 9999;\n",
       "  position: relative;\n",
       "  font-weight: normal;\n",
       "  right: .2ex;\n",
       "  padding: .5ex;\n",
       "  margin: .5ex;\n",
       "  width: min-content;\n",
       "  min-width: 20ex;\n",
       "  max-width: 50ex;\n",
       "  color: var(--sklearn-color-text);\n",
       "  box-shadow: 2pt 2pt 4pt #999;\n",
       "  /* unfitted */\n",
       "  background: var(--sklearn-color-unfitted-level-0);\n",
       "  border: .5pt solid var(--sklearn-color-unfitted-level-3);\n",
       "}\n",
       "\n",
       ".sk-estimator-doc-link.fitted span {\n",
       "  /* fitted */\n",
       "  background: var(--sklearn-color-fitted-level-0);\n",
       "  border: var(--sklearn-color-fitted-level-3);\n",
       "}\n",
       "\n",
       ".sk-estimator-doc-link:hover span {\n",
       "  display: block;\n",
       "}\n",
       "\n",
       "/* \"?\"-specific style due to the `<a>` HTML tag */\n",
       "\n",
       "#sk-container-id-2 a.estimator_doc_link {\n",
       "  float: right;\n",
       "  font-size: 1rem;\n",
       "  line-height: 1em;\n",
       "  font-family: monospace;\n",
       "  background-color: var(--sklearn-color-background);\n",
       "  border-radius: 1rem;\n",
       "  height: 1rem;\n",
       "  width: 1rem;\n",
       "  text-decoration: none;\n",
       "  /* unfitted */\n",
       "  color: var(--sklearn-color-unfitted-level-1);\n",
       "  border: var(--sklearn-color-unfitted-level-1) 1pt solid;\n",
       "}\n",
       "\n",
       "#sk-container-id-2 a.estimator_doc_link.fitted {\n",
       "  /* fitted */\n",
       "  border: var(--sklearn-color-fitted-level-1) 1pt solid;\n",
       "  color: var(--sklearn-color-fitted-level-1);\n",
       "}\n",
       "\n",
       "/* On hover */\n",
       "#sk-container-id-2 a.estimator_doc_link:hover {\n",
       "  /* unfitted */\n",
       "  background-color: var(--sklearn-color-unfitted-level-3);\n",
       "  color: var(--sklearn-color-background);\n",
       "  text-decoration: none;\n",
       "}\n",
       "\n",
       "#sk-container-id-2 a.estimator_doc_link.fitted:hover {\n",
       "  /* fitted */\n",
       "  background-color: var(--sklearn-color-fitted-level-3);\n",
       "}\n",
       "</style><div id=\"sk-container-id-2\" class=\"sk-top-container\"><div class=\"sk-text-repr-fallback\"><pre>RandomForestRegressor(n_jobs=-1, random_state=42, verbose=1)</pre><b>In a Jupyter environment, please rerun this cell to show the HTML representation or trust the notebook. <br />On GitHub, the HTML representation is unable to render, please try loading this page with nbviewer.org.</b></div><div class=\"sk-container\" hidden><div class=\"sk-item\"><div class=\"sk-estimator fitted sk-toggleable\"><input class=\"sk-toggleable__control sk-hidden--visually\" id=\"sk-estimator-id-2\" type=\"checkbox\" checked><label for=\"sk-estimator-id-2\" class=\"sk-toggleable__label fitted sk-toggleable__label-arrow fitted\">&nbsp;&nbsp;RandomForestRegressor<a class=\"sk-estimator-doc-link fitted\" rel=\"noreferrer\" target=\"_blank\" href=\"https://scikit-learn.org/1.4/modules/generated/sklearn.ensemble.RandomForestRegressor.html\">?<span>Documentation for RandomForestRegressor</span></a><span class=\"sk-estimator-doc-link fitted\">i<span>Fitted</span></span></label><div class=\"sk-toggleable__content fitted\"><pre>RandomForestRegressor(n_jobs=-1, random_state=42, verbose=1)</pre></div> </div></div></div></div>"
      ],
      "text/plain": [
       "RandomForestRegressor(n_jobs=-1, random_state=42, verbose=1)"
      ]
     },
     "execution_count": 397,
     "metadata": {},
     "output_type": "execute_result"
    }
   ],
   "source": [
    "#train the model\n",
    "model.fit(X_train, y_train)"
   ]
  },
  {
   "cell_type": "markdown",
   "metadata": {},
   "source": [
    "##### Логирование Параметров Обучения"
   ]
  },
  {
   "cell_type": "code",
   "execution_count": 398,
   "metadata": {},
   "outputs": [
    {
     "name": "stderr",
     "output_type": "stream",
     "text": [
      "[Parallel(n_jobs=8)]: Using backend ThreadingBackend with 8 concurrent workers.\n",
      "[Parallel(n_jobs=8)]: Done  34 tasks      | elapsed:    0.2s\n",
      "[Parallel(n_jobs=8)]: Done 100 out of 100 | elapsed:    0.6s finished\n"
     ]
    }
   ],
   "source": [
    "#find the predicted values\n",
    "y_pred = model.predict(X_test)"
   ]
  },
  {
   "cell_type": "markdown",
   "metadata": {},
   "source": [
    "##### Анализ Модели"
   ]
  },
  {
   "cell_type": "markdown",
   "metadata": {},
   "source": [
    "**Mean Absolute Error (MAE)** — это средняя абсолютная ошибка, которая вычисляется как среднее арифметическое модулей разностей между истинными значениями и прогнозами."
   ]
  },
  {
   "cell_type": "code",
   "execution_count": 399,
   "metadata": {},
   "outputs": [
    {
     "name": "stdout",
     "output_type": "stream",
     "text": [
      "MAE: 0.8896198894668839\n"
     ]
    }
   ],
   "source": [
    "#compare the predicted values (y_pred) with the real ones (y_test)\n",
    "print('MAE:', metrics.mean_absolute_error(y_test, y_pred))"
   ]
  },
  {
   "cell_type": "markdown",
   "metadata": {},
   "source": [
    "**Mean Absolute Percentage Error (MAPE)** — это среднее арифметическое модулей разностей между фактическими значениями и прогнозами, делённое на сумму всех фактических значений."
   ]
  },
  {
   "cell_type": "code",
   "execution_count": 400,
   "metadata": {},
   "outputs": [
    {
     "name": "stdout",
     "output_type": "stream",
     "text": [
      "MAPE: 0.1269725471847888\n"
     ]
    }
   ],
   "source": [
    "#compare the predicted values (y_pred) with the real ones (y_test)\n",
    "print('MAPE:', metrics.mean_absolute_percentage_error(y_test, y_pred))"
   ]
  },
  {
   "cell_type": "code",
   "execution_count": 401,
   "metadata": {},
   "outputs": [
    {
     "data": {
      "image/png": "[encoded data removed]",
      "text/plain": [
       "<Figure size 1000x1000 with 1 Axes>"
      ]
     },
     "metadata": {},
     "output_type": "display_data"
    }
   ],
   "source": [
    "#rate the features for the model in terms of probable predictive importance\n",
    "plt.rcParams['figure.figsize'] = (10, 10)\n",
    "feat_importances = pd.Series(model.feature_importances_, index=X.columns)\n",
    "feat_importances.plot(kind='barh');"
   ]
  },
  {
   "cell_type": "code",
   "execution_count": 402,
   "metadata": {},
   "outputs": [
    {
     "data": {
      "text/html": [
       "<div>\n",
       "<style scoped>\n",
       "    .dataframe tbody tr th:only-of-type {\n",
       "        vertical-align: middle;\n",
       "    }\n",
       "\n",
       "    .dataframe tbody tr th {\n",
       "        vertical-align: top;\n",
       "    }\n",
       "\n",
       "    .dataframe thead th {\n",
       "        text-align: right;\n",
       "    }\n",
       "</style>\n",
       "<table border=\"1\" class=\"dataframe\">\n",
       "  <thead>\n",
       "    <tr style=\"text-align: right;\">\n",
       "      <th></th>\n",
       "      <th>average_score</th>\n",
       "      <th>reviews_total</th>\n",
       "      <th>reviewer_score</th>\n",
       "      <th>citizen</th>\n",
       "      <th>country_code</th>\n",
       "      <th>reviewer_nationality_code</th>\n",
       "      <th>distance</th>\n",
       "      <th>distance_n</th>\n",
       "      <th>hotel_name_n</th>\n",
       "      <th>travel_purpose_n</th>\n",
       "      <th>...</th>\n",
       "      <th>n_negative</th>\n",
       "      <th>n_neutral</th>\n",
       "      <th>n_positive</th>\n",
       "      <th>n_compound</th>\n",
       "      <th>p_negative</th>\n",
       "      <th>p_neutral</th>\n",
       "      <th>p_positive</th>\n",
       "      <th>p_compound</th>\n",
       "      <th>reviewer_activity</th>\n",
       "      <th>neg_to_pos_prop</th>\n",
       "    </tr>\n",
       "  </thead>\n",
       "  <tbody>\n",
       "    <tr>\n",
       "      <th>171040</th>\n",
       "      <td>0.004586</td>\n",
       "      <td>0.302596</td>\n",
       "      <td>0.0</td>\n",
       "      <td>0.0</td>\n",
       "      <td>-0.924724</td>\n",
       "      <td>-0.105263</td>\n",
       "      <td>-1.102009</td>\n",
       "      <td>1.575739</td>\n",
       "      <td>-0.327459</td>\n",
       "      <td>0.43776</td>\n",
       "      <td>...</td>\n",
       "      <td>-0.539190</td>\n",
       "      <td>-1.580618</td>\n",
       "      <td>1.642095</td>\n",
       "      <td>1.009801</td>\n",
       "      <td>-0.302962</td>\n",
       "      <td>-1.619800</td>\n",
       "      <td>2.132693</td>\n",
       "      <td>0.469524</td>\n",
       "      <td>-0.460845</td>\n",
       "      <td>-0.762150</td>\n",
       "    </tr>\n",
       "    <tr>\n",
       "      <th>254727</th>\n",
       "      <td>0.551983</td>\n",
       "      <td>2.048471</td>\n",
       "      <td>0.0</td>\n",
       "      <td>1.0</td>\n",
       "      <td>0.806138</td>\n",
       "      <td>0.000000</td>\n",
       "      <td>-0.188892</td>\n",
       "      <td>-0.074825</td>\n",
       "      <td>-1.070924</td>\n",
       "      <td>0.43776</td>\n",
       "      <td>...</td>\n",
       "      <td>-0.539190</td>\n",
       "      <td>-1.580618</td>\n",
       "      <td>1.642095</td>\n",
       "      <td>1.009801</td>\n",
       "      <td>-0.302962</td>\n",
       "      <td>-0.186867</td>\n",
       "      <td>0.526717</td>\n",
       "      <td>0.892297</td>\n",
       "      <td>-0.191268</td>\n",
       "      <td>-0.762150</td>\n",
       "    </tr>\n",
       "    <tr>\n",
       "      <th>99221</th>\n",
       "      <td>1.099381</td>\n",
       "      <td>-0.788252</td>\n",
       "      <td>0.0</td>\n",
       "      <td>0.0</td>\n",
       "      <td>-2.078632</td>\n",
       "      <td>-2.105263</td>\n",
       "      <td>-0.846504</td>\n",
       "      <td>-1.175202</td>\n",
       "      <td>1.376316</td>\n",
       "      <td>0.43776</td>\n",
       "      <td>...</td>\n",
       "      <td>-0.539190</td>\n",
       "      <td>-1.580618</td>\n",
       "      <td>1.642095</td>\n",
       "      <td>1.009801</td>\n",
       "      <td>-0.302962</td>\n",
       "      <td>-0.172282</td>\n",
       "      <td>0.510371</td>\n",
       "      <td>0.022130</td>\n",
       "      <td>-0.460845</td>\n",
       "      <td>-0.762150</td>\n",
       "    </tr>\n",
       "    <tr>\n",
       "      <th>377548</th>\n",
       "      <td>-0.542812</td>\n",
       "      <td>-0.536252</td>\n",
       "      <td>0.0</td>\n",
       "      <td>0.0</td>\n",
       "      <td>-1.501678</td>\n",
       "      <td>0.052632</td>\n",
       "      <td>0.122013</td>\n",
       "      <td>0.475363</td>\n",
       "      <td>0.887311</td>\n",
       "      <td>0.43776</td>\n",
       "      <td>...</td>\n",
       "      <td>0.792293</td>\n",
       "      <td>0.530409</td>\n",
       "      <td>-0.733171</td>\n",
       "      <td>-0.737935</td>\n",
       "      <td>-0.302962</td>\n",
       "      <td>-0.890572</td>\n",
       "      <td>1.315402</td>\n",
       "      <td>0.395439</td>\n",
       "      <td>-0.460845</td>\n",
       "      <td>0.616185</td>\n",
       "    </tr>\n",
       "    <tr>\n",
       "      <th>394302</th>\n",
       "      <td>-0.542812</td>\n",
       "      <td>-1.026875</td>\n",
       "      <td>0.0</td>\n",
       "      <td>1.0</td>\n",
       "      <td>0.806138</td>\n",
       "      <td>0.000000</td>\n",
       "      <td>-0.443192</td>\n",
       "      <td>-0.074825</td>\n",
       "      <td>1.203726</td>\n",
       "      <td>0.43776</td>\n",
       "      <td>...</td>\n",
       "      <td>-0.539190</td>\n",
       "      <td>0.953628</td>\n",
       "      <td>-0.733171</td>\n",
       "      <td>-0.272531</td>\n",
       "      <td>-0.302962</td>\n",
       "      <td>0.688207</td>\n",
       "      <td>-0.454032</td>\n",
       "      <td>0.050743</td>\n",
       "      <td>-0.460845</td>\n",
       "      <td>-0.762150</td>\n",
       "    </tr>\n",
       "    <tr>\n",
       "      <th>141334</th>\n",
       "      <td>-0.360346</td>\n",
       "      <td>0.108419</td>\n",
       "      <td>0.0</td>\n",
       "      <td>1.0</td>\n",
       "      <td>0.806138</td>\n",
       "      <td>0.000000</td>\n",
       "      <td>-0.617562</td>\n",
       "      <td>-0.625013</td>\n",
       "      <td>-0.526601</td>\n",
       "      <td>0.43776</td>\n",
       "      <td>...</td>\n",
       "      <td>-0.539190</td>\n",
       "      <td>0.953628</td>\n",
       "      <td>-0.733171</td>\n",
       "      <td>-0.272531</td>\n",
       "      <td>-0.302962</td>\n",
       "      <td>0.159516</td>\n",
       "      <td>0.138504</td>\n",
       "      <td>0.517213</td>\n",
       "      <td>-0.191268</td>\n",
       "      <td>-0.762150</td>\n",
       "    </tr>\n",
       "    <tr>\n",
       "      <th>270393</th>\n",
       "      <td>-1.090210</td>\n",
       "      <td>1.286863</td>\n",
       "      <td>0.0</td>\n",
       "      <td>1.0</td>\n",
       "      <td>0.806138</td>\n",
       "      <td>0.000000</td>\n",
       "      <td>0.627061</td>\n",
       "      <td>0.475363</td>\n",
       "      <td>0.557619</td>\n",
       "      <td>0.43776</td>\n",
       "      <td>...</td>\n",
       "      <td>0.616888</td>\n",
       "      <td>0.586163</td>\n",
       "      <td>-0.733171</td>\n",
       "      <td>-0.681801</td>\n",
       "      <td>-0.302962</td>\n",
       "      <td>0.706437</td>\n",
       "      <td>-0.474465</td>\n",
       "      <td>0.374810</td>\n",
       "      <td>-0.460845</td>\n",
       "      <td>-0.762150</td>\n",
       "    </tr>\n",
       "    <tr>\n",
       "      <th>337184</th>\n",
       "      <td>0.004586</td>\n",
       "      <td>-0.149191</td>\n",
       "      <td>0.0</td>\n",
       "      <td>0.0</td>\n",
       "      <td>-1.501678</td>\n",
       "      <td>0.052632</td>\n",
       "      <td>-1.080400</td>\n",
       "      <td>1.575739</td>\n",
       "      <td>0.730210</td>\n",
       "      <td>0.43776</td>\n",
       "      <td>...</td>\n",
       "      <td>0.497294</td>\n",
       "      <td>0.487327</td>\n",
       "      <td>-0.604907</td>\n",
       "      <td>-1.369209</td>\n",
       "      <td>0.095043</td>\n",
       "      <td>-0.263436</td>\n",
       "      <td>0.195714</td>\n",
       "      <td>0.920467</td>\n",
       "      <td>-0.191268</td>\n",
       "      <td>-0.020055</td>\n",
       "    </tr>\n",
       "    <tr>\n",
       "      <th>100375</th>\n",
       "      <td>-0.542812</td>\n",
       "      <td>-0.655348</td>\n",
       "      <td>0.0</td>\n",
       "      <td>0.0</td>\n",
       "      <td>-2.078632</td>\n",
       "      <td>-1.000000</td>\n",
       "      <td>-1.103299</td>\n",
       "      <td>1.575739</td>\n",
       "      <td>0.845270</td>\n",
       "      <td>0.43776</td>\n",
       "      <td>...</td>\n",
       "      <td>-0.539190</td>\n",
       "      <td>-1.580618</td>\n",
       "      <td>1.642095</td>\n",
       "      <td>1.009801</td>\n",
       "      <td>-0.302962</td>\n",
       "      <td>-0.533250</td>\n",
       "      <td>0.914930</td>\n",
       "      <td>0.151002</td>\n",
       "      <td>1.102489</td>\n",
       "      <td>-0.762150</td>\n",
       "    </tr>\n",
       "    <tr>\n",
       "      <th>187515</th>\n",
       "      <td>-0.907744</td>\n",
       "      <td>-1.014361</td>\n",
       "      <td>0.0</td>\n",
       "      <td>0.0</td>\n",
       "      <td>-0.924724</td>\n",
       "      <td>-1.842105</td>\n",
       "      <td>-0.593971</td>\n",
       "      <td>-0.625013</td>\n",
       "      <td>1.068752</td>\n",
       "      <td>0.43776</td>\n",
       "      <td>...</td>\n",
       "      <td>2.115803</td>\n",
       "      <td>0.109724</td>\n",
       "      <td>-0.733171</td>\n",
       "      <td>-1.520125</td>\n",
       "      <td>-0.302962</td>\n",
       "      <td>-1.342693</td>\n",
       "      <td>1.822122</td>\n",
       "      <td>0.623904</td>\n",
       "      <td>0.783640</td>\n",
       "      <td>0.340518</td>\n",
       "    </tr>\n",
       "  </tbody>\n",
       "</table>\n",
       "<p>10 rows × 26 columns</p>\n",
       "</div>"
      ],
      "text/plain": [
       "        average_score  reviews_total  reviewer_score  citizen  country_code  \\\n",
       "171040       0.004586       0.302596             0.0      0.0     -0.924724   \n",
       "254727       0.551983       2.048471             0.0      1.0      0.806138   \n",
       "99221        1.099381      -0.788252             0.0      0.0     -2.078632   \n",
       "377548      -0.542812      -0.536252             0.0      0.0     -1.501678   \n",
       "394302      -0.542812      -1.026875             0.0      1.0      0.806138   \n",
       "141334      -0.360346       0.108419             0.0      1.0      0.806138   \n",
       "270393      -1.090210       1.286863             0.0      1.0      0.806138   \n",
       "337184       0.004586      -0.149191             0.0      0.0     -1.501678   \n",
       "100375      -0.542812      -0.655348             0.0      0.0     -2.078632   \n",
       "187515      -0.907744      -1.014361             0.0      0.0     -0.924724   \n",
       "\n",
       "        reviewer_nationality_code  distance  distance_n  hotel_name_n  \\\n",
       "171040                  -0.105263 -1.102009    1.575739     -0.327459   \n",
       "254727                   0.000000 -0.188892   -0.074825     -1.070924   \n",
       "99221                   -2.105263 -0.846504   -1.175202      1.376316   \n",
       "377548                   0.052632  0.122013    0.475363      0.887311   \n",
       "394302                   0.000000 -0.443192   -0.074825      1.203726   \n",
       "141334                   0.000000 -0.617562   -0.625013     -0.526601   \n",
       "270393                   0.000000  0.627061    0.475363      0.557619   \n",
       "337184                   0.052632 -1.080400    1.575739      0.730210   \n",
       "100375                  -1.000000 -1.103299    1.575739      0.845270   \n",
       "187515                  -1.842105 -0.593971   -0.625013      1.068752   \n",
       "\n",
       "        travel_purpose_n  ...  n_negative  n_neutral  n_positive  n_compound  \\\n",
       "171040           0.43776  ...   -0.539190  -1.580618    1.642095    1.009801   \n",
       "254727           0.43776  ...   -0.539190  -1.580618    1.642095    1.009801   \n",
       "99221            0.43776  ...   -0.539190  -1.580618    1.642095    1.009801   \n",
       "377548           0.43776  ...    0.792293   0.530409   -0.733171   -0.737935   \n",
       "394302           0.43776  ...   -0.539190   0.953628   -0.733171   -0.272531   \n",
       "141334           0.43776  ...   -0.539190   0.953628   -0.733171   -0.272531   \n",
       "270393           0.43776  ...    0.616888   0.586163   -0.733171   -0.681801   \n",
       "337184           0.43776  ...    0.497294   0.487327   -0.604907   -1.369209   \n",
       "100375           0.43776  ...   -0.539190  -1.580618    1.642095    1.009801   \n",
       "187515           0.43776  ...    2.115803   0.109724   -0.733171   -1.520125   \n",
       "\n",
       "        p_negative  p_neutral  p_positive  p_compound  reviewer_activity  \\\n",
       "171040   -0.302962  -1.619800    2.132693    0.469524          -0.460845   \n",
       "254727   -0.302962  -0.186867    0.526717    0.892297          -0.191268   \n",
       "99221    -0.302962  -0.172282    0.510371    0.022130          -0.460845   \n",
       "377548   -0.302962  -0.890572    1.315402    0.395439          -0.460845   \n",
       "394302   -0.302962   0.688207   -0.454032    0.050743          -0.460845   \n",
       "141334   -0.302962   0.159516    0.138504    0.517213          -0.191268   \n",
       "270393   -0.302962   0.706437   -0.474465    0.374810          -0.460845   \n",
       "337184    0.095043  -0.263436    0.195714    0.920467          -0.191268   \n",
       "100375   -0.302962  -0.533250    0.914930    0.151002           1.102489   \n",
       "187515   -0.302962  -1.342693    1.822122    0.623904           0.783640   \n",
       "\n",
       "        neg_to_pos_prop  \n",
       "171040        -0.762150  \n",
       "254727        -0.762150  \n",
       "99221         -0.762150  \n",
       "377548         0.616185  \n",
       "394302        -0.762150  \n",
       "141334        -0.762150  \n",
       "270393        -0.762150  \n",
       "337184        -0.020055  \n",
       "100375        -0.762150  \n",
       "187515         0.340518  \n",
       "\n",
       "[10 rows x 26 columns]"
      ]
     },
     "execution_count": 402,
     "metadata": {},
     "output_type": "execute_result"
    }
   ],
   "source": [
    "test_data.sample(10)"
   ]
  },
  {
   "cell_type": "code",
   "execution_count": 403,
   "metadata": {},
   "outputs": [],
   "source": [
    "test_data = test_data.drop(['reviewer_score'], axis=1)"
   ]
  },
  {
   "cell_type": "code",
   "execution_count": 404,
   "metadata": {},
   "outputs": [
    {
     "data": {
      "text/html": [
       "<div>\n",
       "<style scoped>\n",
       "    .dataframe tbody tr th:only-of-type {\n",
       "        vertical-align: middle;\n",
       "    }\n",
       "\n",
       "    .dataframe tbody tr th {\n",
       "        vertical-align: top;\n",
       "    }\n",
       "\n",
       "    .dataframe thead th {\n",
       "        text-align: right;\n",
       "    }\n",
       "</style>\n",
       "<table border=\"1\" class=\"dataframe\">\n",
       "  <thead>\n",
       "    <tr style=\"text-align: right;\">\n",
       "      <th></th>\n",
       "      <th>reviewer_score</th>\n",
       "      <th>id</th>\n",
       "    </tr>\n",
       "  </thead>\n",
       "  <tbody>\n",
       "    <tr>\n",
       "      <th>0</th>\n",
       "      <td>1</td>\n",
       "      <td>488440</td>\n",
       "    </tr>\n",
       "    <tr>\n",
       "      <th>1</th>\n",
       "      <td>10</td>\n",
       "      <td>274649</td>\n",
       "    </tr>\n",
       "    <tr>\n",
       "      <th>2</th>\n",
       "      <td>3</td>\n",
       "      <td>374688</td>\n",
       "    </tr>\n",
       "    <tr>\n",
       "      <th>3</th>\n",
       "      <td>10</td>\n",
       "      <td>404352</td>\n",
       "    </tr>\n",
       "    <tr>\n",
       "      <th>4</th>\n",
       "      <td>9</td>\n",
       "      <td>451596</td>\n",
       "    </tr>\n",
       "    <tr>\n",
       "      <th>...</th>\n",
       "      <td>...</td>\n",
       "      <td>...</td>\n",
       "    </tr>\n",
       "    <tr>\n",
       "      <th>128930</th>\n",
       "      <td>7</td>\n",
       "      <td>495812</td>\n",
       "    </tr>\n",
       "    <tr>\n",
       "      <th>128931</th>\n",
       "      <td>1</td>\n",
       "      <td>315577</td>\n",
       "    </tr>\n",
       "    <tr>\n",
       "      <th>128932</th>\n",
       "      <td>3</td>\n",
       "      <td>511968</td>\n",
       "    </tr>\n",
       "    <tr>\n",
       "      <th>128933</th>\n",
       "      <td>6</td>\n",
       "      <td>303386</td>\n",
       "    </tr>\n",
       "    <tr>\n",
       "      <th>128934</th>\n",
       "      <td>5</td>\n",
       "      <td>103157</td>\n",
       "    </tr>\n",
       "  </tbody>\n",
       "</table>\n",
       "<p>128935 rows × 2 columns</p>\n",
       "</div>"
      ],
      "text/plain": [
       "        reviewer_score      id\n",
       "0                    1  488440\n",
       "1                   10  274649\n",
       "2                    3  374688\n",
       "3                   10  404352\n",
       "4                    9  451596\n",
       "...                ...     ...\n",
       "128930               7  495812\n",
       "128931               1  315577\n",
       "128932               3  511968\n",
       "128933               6  303386\n",
       "128934               5  103157\n",
       "\n",
       "[128935 rows x 2 columns]"
      ]
     },
     "execution_count": 404,
     "metadata": {},
     "output_type": "execute_result"
    }
   ],
   "source": [
    "sample_submission"
   ]
  },
  {
   "cell_type": "code",
   "execution_count": 405,
   "metadata": {},
   "outputs": [
    {
     "name": "stderr",
     "output_type": "stream",
     "text": [
      "[Parallel(n_jobs=8)]: Using backend ThreadingBackend with 8 concurrent workers.\n",
      "[Parallel(n_jobs=8)]: Done  34 tasks      | elapsed:    0.4s\n",
      "[Parallel(n_jobs=8)]: Done 100 out of 100 | elapsed:    0.9s finished\n"
     ]
    }
   ],
   "source": [
    "predict_submission = model.predict(test_data)"
   ]
  },
  {
   "cell_type": "code",
   "execution_count": 406,
   "metadata": {},
   "outputs": [
    {
     "data": {
      "text/plain": [
       "array([7.962, 4.688, 6.717, ..., 9.423, 9.412, 8.935])"
      ]
     },
     "execution_count": 406,
     "metadata": {},
     "output_type": "execute_result"
    }
   ],
   "source": [
    "predict_submission"
   ]
  },
  {
   "cell_type": "code",
   "execution_count": 407,
   "metadata": {},
   "outputs": [
    {
     "data": {
      "text/plain": [
       "['reviewer_score', 'id']"
      ]
     },
     "execution_count": 407,
     "metadata": {},
     "output_type": "execute_result"
    }
   ],
   "source": [
    "list(sample_submission)"
   ]
  },
  {
   "cell_type": "code",
   "execution_count": 408,
   "metadata": {},
   "outputs": [],
   "source": [
    "# sample_submission['reviewer_score'] = predict_submission\n",
    "# sample_submission.to_csv('submission_for_competition.csv', index=False)\n",
    "# sample_submission.head(10)"
   ]
  }
 ],
 "metadata": {
  "kernelspec": {
   "display_name": "Python 3",
   "language": "python",
   "name": "python3"
  },
  "language_info": {
   "codemirror_mode": {
    "name": "ipython",
    "version": 3
   },
   "file_extension": ".py",
   "mimetype": "text/x-python",
   "name": "python",
   "nbconvert_exporter": "python",
   "pygments_lexer": "ipython3",
   "version": "3.10.5"
  }
 },
 "nbformat": 4,
 "nbformat_minor": 2
}
